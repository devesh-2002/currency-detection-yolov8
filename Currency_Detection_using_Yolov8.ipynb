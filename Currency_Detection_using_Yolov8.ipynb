{
  "nbformat": 4,
  "nbformat_minor": 0,
  "metadata": {
    "colab": {
      "provenance": [],
      "gpuType": "T4"
    },
    "kernelspec": {
      "name": "python3",
      "display_name": "Python 3"
    },
    "language_info": {
      "name": "python"
    },
    "accelerator": "GPU"
  },
  "cells": [
    {
      "cell_type": "code",
      "execution_count": 1,
      "metadata": {
        "colab": {
          "base_uri": "https://localhost:8080/"
        },
        "id": "9_vrOOY4aGiO",
        "outputId": "a91c5148-42cf-4470-8fd5-066e52cc87b2"
      },
      "outputs": [
        {
          "output_type": "stream",
          "name": "stdout",
          "text": [
            "Extracted files: ['README.roboflow.txt', 'train', 'README.dataset.txt', 'data.yaml', 'test', 'valid']\n"
          ]
        }
      ],
      "source": [
        "import zipfile\n",
        "import os\n",
        "\n",
        "# Path to the zip file\n",
        "zip_file_path = '/content/Currency Detection.v1i.yolov8.zip'\n",
        "\n",
        "# Directory where you want to extract the contents\n",
        "extracted_folder_path = '/content/Currency Detection'\n",
        "\n",
        "# Create the target directory if it doesn't exist\n",
        "os.makedirs(extracted_folder_path, exist_ok=True)\n",
        "\n",
        "# Unzip the file\n",
        "with zipfile.ZipFile(zip_file_path, 'r') as zip_ref:\n",
        "    zip_ref.extractall(extracted_folder_path)\n",
        "\n",
        "# List the contents of the extracted folder\n",
        "extracted_files = os.listdir(extracted_folder_path)\n",
        "print(\"Extracted files:\", extracted_files)\n"
      ]
    },
    {
      "cell_type": "code",
      "source": [
        "!pip install --target=\"/content/Yolo8\" ultralytics\n"
      ],
      "metadata": {
        "id": "YI82XlYhguS_",
        "colab": {
          "base_uri": "https://localhost:8080/",
          "height": 1000
        },
        "outputId": "fcd167b7-f47f-4633-f559-0e66b8975461"
      },
      "execution_count": 2,
      "outputs": [
        {
          "output_type": "stream",
          "name": "stdout",
          "text": [
            "Collecting ultralytics\n",
            "  Downloading ultralytics-8.0.231-py3-none-any.whl (663 kB)\n",
            "\u001b[2K     \u001b[90m━━━━━━━━━━━━━━━━━━━━━━━━━━━━━━━━━━━━━━━━\u001b[0m \u001b[32m663.2/663.2 kB\u001b[0m \u001b[31m4.6 MB/s\u001b[0m eta \u001b[36m0:00:00\u001b[0m\n",
            "\u001b[?25hCollecting matplotlib>=3.3.0 (from ultralytics)\n",
            "  Downloading matplotlib-3.8.2-cp310-cp310-manylinux_2_17_x86_64.manylinux2014_x86_64.whl (11.6 MB)\n",
            "\u001b[2K     \u001b[90m━━━━━━━━━━━━━━━━━━━━━━━━━━━━━━━━━━━━━━━━\u001b[0m \u001b[32m11.6/11.6 MB\u001b[0m \u001b[31m58.3 MB/s\u001b[0m eta \u001b[36m0:00:00\u001b[0m\n",
            "\u001b[?25hCollecting numpy>=1.22.2 (from ultralytics)\n",
            "  Downloading numpy-1.26.2-cp310-cp310-manylinux_2_17_x86_64.manylinux2014_x86_64.whl (18.2 MB)\n",
            "\u001b[2K     \u001b[90m━━━━━━━━━━━━━━━━━━━━━━━━━━━━━━━━━━━━━━━━\u001b[0m \u001b[32m18.2/18.2 MB\u001b[0m \u001b[31m45.2 MB/s\u001b[0m eta \u001b[36m0:00:00\u001b[0m\n",
            "\u001b[?25hCollecting opencv-python>=4.6.0 (from ultralytics)\n",
            "  Downloading opencv_python-4.9.0.80-cp37-abi3-manylinux_2_17_x86_64.manylinux2014_x86_64.whl (62.2 MB)\n",
            "\u001b[2K     \u001b[90m━━━━━━━━━━━━━━━━━━━━━━━━━━━━━━━━━━━━━━━━\u001b[0m \u001b[32m62.2/62.2 MB\u001b[0m \u001b[31m9.3 MB/s\u001b[0m eta \u001b[36m0:00:00\u001b[0m\n",
            "\u001b[?25hCollecting pillow>=7.1.2 (from ultralytics)\n",
            "  Downloading Pillow-10.1.0-cp310-cp310-manylinux_2_28_x86_64.whl (3.6 MB)\n",
            "\u001b[2K     \u001b[90m━━━━━━━━━━━━━━━━━━━━━━━━━━━━━━━━━━━━━━━━\u001b[0m \u001b[32m3.6/3.6 MB\u001b[0m \u001b[31m65.0 MB/s\u001b[0m eta \u001b[36m0:00:00\u001b[0m\n",
            "\u001b[?25hCollecting pyyaml>=5.3.1 (from ultralytics)\n",
            "  Downloading PyYAML-6.0.1-cp310-cp310-manylinux_2_17_x86_64.manylinux2014_x86_64.whl (705 kB)\n",
            "\u001b[2K     \u001b[90m━━━━━━━━━━━━━━━━━━━━━━━━━━━━━━━━━━━━━━━━\u001b[0m \u001b[32m705.5/705.5 kB\u001b[0m \u001b[31m66.7 MB/s\u001b[0m eta \u001b[36m0:00:00\u001b[0m\n",
            "\u001b[?25hCollecting requests>=2.23.0 (from ultralytics)\n",
            "  Downloading requests-2.31.0-py3-none-any.whl (62 kB)\n",
            "\u001b[2K     \u001b[90m━━━━━━━━━━━━━━━━━━━━━━━━━━━━━━━━━━━━━━━━\u001b[0m \u001b[32m62.6/62.6 kB\u001b[0m \u001b[31m10.1 MB/s\u001b[0m eta \u001b[36m0:00:00\u001b[0m\n",
            "\u001b[?25hCollecting scipy>=1.4.1 (from ultralytics)\n",
            "  Downloading scipy-1.11.4-cp310-cp310-manylinux_2_17_x86_64.manylinux2014_x86_64.whl (36.4 MB)\n",
            "\u001b[2K     \u001b[90m━━━━━━━━━━━━━━━━━━━━━━━━━━━━━━━━━━━━━━━━\u001b[0m \u001b[32m36.4/36.4 MB\u001b[0m \u001b[31m32.6 MB/s\u001b[0m eta \u001b[36m0:00:00\u001b[0m\n",
            "\u001b[?25hCollecting torch>=1.8.0 (from ultralytics)\n",
            "  Downloading torch-2.1.2-cp310-cp310-manylinux1_x86_64.whl (670.2 MB)\n",
            "\u001b[2K     \u001b[90m━━━━━━━━━━━━━━━━━━━━━━━━━━━━━━━━━━━━━━━━\u001b[0m \u001b[32m670.2/670.2 MB\u001b[0m \u001b[31m2.5 MB/s\u001b[0m eta \u001b[36m0:00:00\u001b[0m\n",
            "\u001b[?25hCollecting torchvision>=0.9.0 (from ultralytics)\n",
            "  Downloading torchvision-0.16.2-cp310-cp310-manylinux1_x86_64.whl (6.8 MB)\n",
            "\u001b[2K     \u001b[90m━━━━━━━━━━━━━━━━━━━━━━━━━━━━━━━━━━━━━━━━\u001b[0m \u001b[32m6.8/6.8 MB\u001b[0m \u001b[31m66.6 MB/s\u001b[0m eta \u001b[36m0:00:00\u001b[0m\n",
            "\u001b[?25hCollecting tqdm>=4.64.0 (from ultralytics)\n",
            "  Downloading tqdm-4.66.1-py3-none-any.whl (78 kB)\n",
            "\u001b[2K     \u001b[90m━━━━━━━━━━━━━━━━━━━━━━━━━━━━━━━━━━━━━━━━\u001b[0m \u001b[32m78.3/78.3 kB\u001b[0m \u001b[31m12.5 MB/s\u001b[0m eta \u001b[36m0:00:00\u001b[0m\n",
            "\u001b[?25hCollecting psutil (from ultralytics)\n",
            "  Downloading psutil-5.9.7-cp36-abi3-manylinux_2_12_x86_64.manylinux2010_x86_64.manylinux_2_17_x86_64.manylinux2014_x86_64.whl (285 kB)\n",
            "\u001b[2K     \u001b[90m━━━━━━━━━━━━━━━━━━━━━━━━━━━━━━━━━━━━━━━━\u001b[0m \u001b[32m285.5/285.5 kB\u001b[0m \u001b[31m38.4 MB/s\u001b[0m eta \u001b[36m0:00:00\u001b[0m\n",
            "\u001b[?25hCollecting py-cpuinfo (from ultralytics)\n",
            "  Downloading py_cpuinfo-9.0.0-py3-none-any.whl (22 kB)\n",
            "Collecting thop>=0.1.1 (from ultralytics)\n",
            "  Downloading thop-0.1.1.post2209072238-py3-none-any.whl (15 kB)\n",
            "Collecting pandas>=1.1.4 (from ultralytics)\n",
            "  Downloading pandas-2.1.4-cp310-cp310-manylinux_2_17_x86_64.manylinux2014_x86_64.whl (12.3 MB)\n",
            "\u001b[2K     \u001b[90m━━━━━━━━━━━━━━━━━━━━━━━━━━━━━━━━━━━━━━━━\u001b[0m \u001b[32m12.3/12.3 MB\u001b[0m \u001b[31m57.5 MB/s\u001b[0m eta \u001b[36m0:00:00\u001b[0m\n",
            "\u001b[?25hCollecting seaborn>=0.11.0 (from ultralytics)\n",
            "  Downloading seaborn-0.13.1-py3-none-any.whl (294 kB)\n",
            "\u001b[2K     \u001b[90m━━━━━━━━━━━━━━━━━━━━━━━━━━━━━━━━━━━━━━━━\u001b[0m \u001b[32m294.8/294.8 kB\u001b[0m \u001b[31m40.3 MB/s\u001b[0m eta \u001b[36m0:00:00\u001b[0m\n",
            "\u001b[?25hCollecting contourpy>=1.0.1 (from matplotlib>=3.3.0->ultralytics)\n",
            "  Downloading contourpy-1.2.0-cp310-cp310-manylinux_2_17_x86_64.manylinux2014_x86_64.whl (310 kB)\n",
            "\u001b[2K     \u001b[90m━━━━━━━━━━━━━━━━━━━━━━━━━━━━━━━━━━━━━━━━\u001b[0m \u001b[32m310.7/310.7 kB\u001b[0m \u001b[31m38.0 MB/s\u001b[0m eta \u001b[36m0:00:00\u001b[0m\n",
            "\u001b[?25hCollecting cycler>=0.10 (from matplotlib>=3.3.0->ultralytics)\n",
            "  Downloading cycler-0.12.1-py3-none-any.whl (8.3 kB)\n",
            "Collecting fonttools>=4.22.0 (from matplotlib>=3.3.0->ultralytics)\n",
            "  Downloading fonttools-4.47.0-cp310-cp310-manylinux_2_17_x86_64.manylinux2014_x86_64.whl (4.6 MB)\n",
            "\u001b[2K     \u001b[90m━━━━━━━━━━━━━━━━━━━━━━━━━━━━━━━━━━━━━━━━\u001b[0m \u001b[32m4.6/4.6 MB\u001b[0m \u001b[31m76.4 MB/s\u001b[0m eta \u001b[36m0:00:00\u001b[0m\n",
            "\u001b[?25hCollecting kiwisolver>=1.3.1 (from matplotlib>=3.3.0->ultralytics)\n",
            "  Downloading kiwisolver-1.4.5-cp310-cp310-manylinux_2_12_x86_64.manylinux2010_x86_64.whl (1.6 MB)\n",
            "\u001b[2K     \u001b[90m━━━━━━━━━━━━━━━━━━━━━━━━━━━━━━━━━━━━━━━━\u001b[0m \u001b[32m1.6/1.6 MB\u001b[0m \u001b[31m92.2 MB/s\u001b[0m eta \u001b[36m0:00:00\u001b[0m\n",
            "\u001b[?25hCollecting packaging>=20.0 (from matplotlib>=3.3.0->ultralytics)\n",
            "  Downloading packaging-23.2-py3-none-any.whl (53 kB)\n",
            "\u001b[2K     \u001b[90m━━━━━━━━━━━━━━━━━━━━━━━━━━━━━━━━━━━━━━━━\u001b[0m \u001b[32m53.0/53.0 kB\u001b[0m \u001b[31m8.9 MB/s\u001b[0m eta \u001b[36m0:00:00\u001b[0m\n",
            "\u001b[?25hCollecting pyparsing>=2.3.1 (from matplotlib>=3.3.0->ultralytics)\n",
            "  Downloading pyparsing-3.1.1-py3-none-any.whl (103 kB)\n",
            "\u001b[2K     \u001b[90m━━━━━━━━━━━━━━━━━━━━━━━━━━━━━━━━━━━━━━━━\u001b[0m \u001b[32m103.1/103.1 kB\u001b[0m \u001b[31m15.7 MB/s\u001b[0m eta \u001b[36m0:00:00\u001b[0m\n",
            "\u001b[?25hCollecting python-dateutil>=2.7 (from matplotlib>=3.3.0->ultralytics)\n",
            "  Downloading python_dateutil-2.8.2-py2.py3-none-any.whl (247 kB)\n",
            "\u001b[2K     \u001b[90m━━━━━━━━━━━━━━━━━━━━━━━━━━━━━━━━━━━━━━━━\u001b[0m \u001b[32m247.7/247.7 kB\u001b[0m \u001b[31m35.5 MB/s\u001b[0m eta \u001b[36m0:00:00\u001b[0m\n",
            "\u001b[?25hCollecting pytz>=2020.1 (from pandas>=1.1.4->ultralytics)\n",
            "  Downloading pytz-2023.3.post1-py2.py3-none-any.whl (502 kB)\n",
            "\u001b[2K     \u001b[90m━━━━━━━━━━━━━━━━━━━━━━━━━━━━━━━━━━━━━━━━\u001b[0m \u001b[32m502.5/502.5 kB\u001b[0m \u001b[31m55.1 MB/s\u001b[0m eta \u001b[36m0:00:00\u001b[0m\n",
            "\u001b[?25hCollecting tzdata>=2022.1 (from pandas>=1.1.4->ultralytics)\n",
            "  Downloading tzdata-2023.4-py2.py3-none-any.whl (346 kB)\n",
            "\u001b[2K     \u001b[90m━━━━━━━━━━━━━━━━━━━━━━━━━━━━━━━━━━━━━━━━\u001b[0m \u001b[32m346.6/346.6 kB\u001b[0m \u001b[31m41.4 MB/s\u001b[0m eta \u001b[36m0:00:00\u001b[0m\n",
            "\u001b[?25hCollecting charset-normalizer<4,>=2 (from requests>=2.23.0->ultralytics)\n",
            "  Downloading charset_normalizer-3.3.2-cp310-cp310-manylinux_2_17_x86_64.manylinux2014_x86_64.whl (142 kB)\n",
            "\u001b[2K     \u001b[90m━━━━━━━━━━━━━━━━━━━━━━━━━━━━━━━━━━━━━━━━\u001b[0m \u001b[32m142.1/142.1 kB\u001b[0m \u001b[31m19.4 MB/s\u001b[0m eta \u001b[36m0:00:00\u001b[0m\n",
            "\u001b[?25hCollecting idna<4,>=2.5 (from requests>=2.23.0->ultralytics)\n",
            "  Downloading idna-3.6-py3-none-any.whl (61 kB)\n",
            "\u001b[2K     \u001b[90m━━━━━━━━━━━━━━━━━━━━━━━━━━━━━━━━━━━━━━━━\u001b[0m \u001b[32m61.6/61.6 kB\u001b[0m \u001b[31m9.6 MB/s\u001b[0m eta \u001b[36m0:00:00\u001b[0m\n",
            "\u001b[?25hCollecting urllib3<3,>=1.21.1 (from requests>=2.23.0->ultralytics)\n",
            "  Downloading urllib3-2.1.0-py3-none-any.whl (104 kB)\n",
            "\u001b[2K     \u001b[90m━━━━━━━━━━━━━━━━━━━━━━━━━━━━━━━━━━━━━━━━\u001b[0m \u001b[32m104.6/104.6 kB\u001b[0m \u001b[31m15.4 MB/s\u001b[0m eta \u001b[36m0:00:00\u001b[0m\n",
            "\u001b[?25hCollecting certifi>=2017.4.17 (from requests>=2.23.0->ultralytics)\n",
            "  Downloading certifi-2023.11.17-py3-none-any.whl (162 kB)\n",
            "\u001b[2K     \u001b[90m━━━━━━━━━━━━━━━━━━━━━━━━━━━━━━━━━━━━━━━━\u001b[0m \u001b[32m162.5/162.5 kB\u001b[0m \u001b[31m25.1 MB/s\u001b[0m eta \u001b[36m0:00:00\u001b[0m\n",
            "\u001b[?25hCollecting filelock (from torch>=1.8.0->ultralytics)\n",
            "  Downloading filelock-3.13.1-py3-none-any.whl (11 kB)\n",
            "Collecting typing-extensions (from torch>=1.8.0->ultralytics)\n",
            "  Downloading typing_extensions-4.9.0-py3-none-any.whl (32 kB)\n",
            "Collecting sympy (from torch>=1.8.0->ultralytics)\n",
            "  Downloading sympy-1.12-py3-none-any.whl (5.7 MB)\n",
            "\u001b[2K     \u001b[90m━━━━━━━━━━━━━━━━━━━━━━━━━━━━━━━━━━━━━━━━\u001b[0m \u001b[32m5.7/5.7 MB\u001b[0m \u001b[31m63.5 MB/s\u001b[0m eta \u001b[36m0:00:00\u001b[0m\n",
            "\u001b[?25hCollecting networkx (from torch>=1.8.0->ultralytics)\n",
            "  Downloading networkx-3.2.1-py3-none-any.whl (1.6 MB)\n",
            "\u001b[2K     \u001b[90m━━━━━━━━━━━━━━━━━━━━━━━━━━━━━━━━━━━━━━━━\u001b[0m \u001b[32m1.6/1.6 MB\u001b[0m \u001b[31m103.3 MB/s\u001b[0m eta \u001b[36m0:00:00\u001b[0m\n",
            "\u001b[?25hCollecting jinja2 (from torch>=1.8.0->ultralytics)\n",
            "  Downloading Jinja2-3.1.2-py3-none-any.whl (133 kB)\n",
            "\u001b[2K     \u001b[90m━━━━━━━━━━━━━━━━━━━━━━━━━━━━━━━━━━━━━━━━\u001b[0m \u001b[32m133.1/133.1 kB\u001b[0m \u001b[31m22.1 MB/s\u001b[0m eta \u001b[36m0:00:00\u001b[0m\n",
            "\u001b[?25hCollecting fsspec (from torch>=1.8.0->ultralytics)\n",
            "  Downloading fsspec-2023.12.2-py3-none-any.whl (168 kB)\n",
            "\u001b[2K     \u001b[90m━━━━━━━━━━━━━━━━━━━━━━━━━━━━━━━━━━━━━━━━\u001b[0m \u001b[32m169.0/169.0 kB\u001b[0m \u001b[31m25.0 MB/s\u001b[0m eta \u001b[36m0:00:00\u001b[0m\n",
            "\u001b[?25hCollecting nvidia-cuda-nvrtc-cu12==12.1.105 (from torch>=1.8.0->ultralytics)\n",
            "  Downloading nvidia_cuda_nvrtc_cu12-12.1.105-py3-none-manylinux1_x86_64.whl (23.7 MB)\n",
            "\u001b[2K     \u001b[90m━━━━━━━━━━━━━━━━━━━━━━━━━━━━━━━━━━━━━━━━\u001b[0m \u001b[32m23.7/23.7 MB\u001b[0m \u001b[31m42.2 MB/s\u001b[0m eta \u001b[36m0:00:00\u001b[0m\n",
            "\u001b[?25hCollecting nvidia-cuda-runtime-cu12==12.1.105 (from torch>=1.8.0->ultralytics)\n",
            "  Downloading nvidia_cuda_runtime_cu12-12.1.105-py3-none-manylinux1_x86_64.whl (823 kB)\n",
            "\u001b[2K     \u001b[90m━━━━━━━━━━━━━━━━━━━━━━━━━━━━━━━━━━━━━━━━\u001b[0m \u001b[32m823.6/823.6 kB\u001b[0m \u001b[31m73.9 MB/s\u001b[0m eta \u001b[36m0:00:00\u001b[0m\n",
            "\u001b[?25hCollecting nvidia-cuda-cupti-cu12==12.1.105 (from torch>=1.8.0->ultralytics)\n",
            "  Downloading nvidia_cuda_cupti_cu12-12.1.105-py3-none-manylinux1_x86_64.whl (14.1 MB)\n",
            "\u001b[2K     \u001b[90m━━━━━━━━━━━━━━━━━━━━━━━━━━━━━━━━━━━━━━━━\u001b[0m \u001b[32m14.1/14.1 MB\u001b[0m \u001b[31m54.6 MB/s\u001b[0m eta \u001b[36m0:00:00\u001b[0m\n",
            "\u001b[?25hCollecting nvidia-cudnn-cu12==8.9.2.26 (from torch>=1.8.0->ultralytics)\n",
            "  Downloading nvidia_cudnn_cu12-8.9.2.26-py3-none-manylinux1_x86_64.whl (731.7 MB)\n",
            "\u001b[2K     \u001b[90m━━━━━━━━━━━━━━━━━━━━━━━━━━━━━━━━━━━━━━━━\u001b[0m \u001b[32m731.7/731.7 MB\u001b[0m \u001b[31m2.2 MB/s\u001b[0m eta \u001b[36m0:00:00\u001b[0m\n",
            "\u001b[?25hCollecting nvidia-cublas-cu12==12.1.3.1 (from torch>=1.8.0->ultralytics)\n",
            "  Downloading nvidia_cublas_cu12-12.1.3.1-py3-none-manylinux1_x86_64.whl (410.6 MB)\n",
            "\u001b[2K     \u001b[90m━━━━━━━━━━━━━━━━━━━━━━━━━━━━━━━━━━━━━━━━\u001b[0m \u001b[32m410.6/410.6 MB\u001b[0m \u001b[31m3.4 MB/s\u001b[0m eta \u001b[36m0:00:00\u001b[0m\n",
            "\u001b[?25hCollecting nvidia-cufft-cu12==11.0.2.54 (from torch>=1.8.0->ultralytics)\n",
            "  Downloading nvidia_cufft_cu12-11.0.2.54-py3-none-manylinux1_x86_64.whl (121.6 MB)\n",
            "\u001b[2K     \u001b[90m━━━━━━━━━━━━━━━━━━━━━━━━━━━━━━━━━━━━━━━━\u001b[0m \u001b[32m121.6/121.6 MB\u001b[0m \u001b[31m8.6 MB/s\u001b[0m eta \u001b[36m0:00:00\u001b[0m\n",
            "\u001b[?25hCollecting nvidia-curand-cu12==10.3.2.106 (from torch>=1.8.0->ultralytics)\n",
            "  Downloading nvidia_curand_cu12-10.3.2.106-py3-none-manylinux1_x86_64.whl (56.5 MB)\n",
            "\u001b[2K     \u001b[90m━━━━━━━━━━━━━━━━━━━━━━━━━━━━━━━━━━━━━━━━\u001b[0m \u001b[32m56.5/56.5 MB\u001b[0m \u001b[31m10.0 MB/s\u001b[0m eta \u001b[36m0:00:00\u001b[0m\n",
            "\u001b[?25hCollecting nvidia-cusolver-cu12==11.4.5.107 (from torch>=1.8.0->ultralytics)\n",
            "  Downloading nvidia_cusolver_cu12-11.4.5.107-py3-none-manylinux1_x86_64.whl (124.2 MB)\n",
            "\u001b[2K     \u001b[90m━━━━━━━━━━━━━━━━━━━━━━━━━━━━━━━━━━━━━━━━\u001b[0m \u001b[32m124.2/124.2 MB\u001b[0m \u001b[31m8.7 MB/s\u001b[0m eta \u001b[36m0:00:00\u001b[0m\n",
            "\u001b[?25hCollecting nvidia-cusparse-cu12==12.1.0.106 (from torch>=1.8.0->ultralytics)\n",
            "  Downloading nvidia_cusparse_cu12-12.1.0.106-py3-none-manylinux1_x86_64.whl (196.0 MB)\n",
            "\u001b[2K     \u001b[90m━━━━━━━━━━━━━━━━━━━━━━━━━━━━━━━━━━━━━━━━\u001b[0m \u001b[32m196.0/196.0 MB\u001b[0m \u001b[31m6.2 MB/s\u001b[0m eta \u001b[36m0:00:00\u001b[0m\n",
            "\u001b[?25hCollecting nvidia-nccl-cu12==2.18.1 (from torch>=1.8.0->ultralytics)\n",
            "  Downloading nvidia_nccl_cu12-2.18.1-py3-none-manylinux1_x86_64.whl (209.8 MB)\n",
            "\u001b[2K     \u001b[90m━━━━━━━━━━━━━━━━━━━━━━━━━━━━━━━━━━━━━━━━\u001b[0m \u001b[32m209.8/209.8 MB\u001b[0m \u001b[31m2.5 MB/s\u001b[0m eta \u001b[36m0:00:00\u001b[0m\n",
            "\u001b[?25hCollecting nvidia-nvtx-cu12==12.1.105 (from torch>=1.8.0->ultralytics)\n",
            "  Downloading nvidia_nvtx_cu12-12.1.105-py3-none-manylinux1_x86_64.whl (99 kB)\n",
            "\u001b[2K     \u001b[90m━━━━━━━━━━━━━━━━━━━━━━━━━━━━━━━━━━━━━━━━\u001b[0m \u001b[32m99.1/99.1 kB\u001b[0m \u001b[31m15.4 MB/s\u001b[0m eta \u001b[36m0:00:00\u001b[0m\n",
            "\u001b[?25hCollecting triton==2.1.0 (from torch>=1.8.0->ultralytics)\n",
            "  Downloading triton-2.1.0-0-cp310-cp310-manylinux2014_x86_64.manylinux_2_17_x86_64.whl (89.2 MB)\n",
            "\u001b[2K     \u001b[90m━━━━━━━━━━━━━━━━━━━━━━━━━━━━━━━━━━━━━━━━\u001b[0m \u001b[32m89.2/89.2 MB\u001b[0m \u001b[31m8.0 MB/s\u001b[0m eta \u001b[36m0:00:00\u001b[0m\n",
            "\u001b[?25hCollecting nvidia-nvjitlink-cu12 (from nvidia-cusolver-cu12==11.4.5.107->torch>=1.8.0->ultralytics)\n",
            "  Downloading nvidia_nvjitlink_cu12-12.3.101-py3-none-manylinux1_x86_64.whl (20.5 MB)\n",
            "\u001b[2K     \u001b[90m━━━━━━━━━━━━━━━━━━━━━━━━━━━━━━━━━━━━━━━━\u001b[0m \u001b[32m20.5/20.5 MB\u001b[0m \u001b[31m50.9 MB/s\u001b[0m eta \u001b[36m0:00:00\u001b[0m\n",
            "\u001b[?25hCollecting six>=1.5 (from python-dateutil>=2.7->matplotlib>=3.3.0->ultralytics)\n",
            "  Downloading six-1.16.0-py2.py3-none-any.whl (11 kB)\n",
            "Collecting MarkupSafe>=2.0 (from jinja2->torch>=1.8.0->ultralytics)\n",
            "  Downloading MarkupSafe-2.1.3-cp310-cp310-manylinux_2_17_x86_64.manylinux2014_x86_64.whl (25 kB)\n",
            "Collecting mpmath>=0.19 (from sympy->torch>=1.8.0->ultralytics)\n",
            "  Downloading mpmath-1.3.0-py3-none-any.whl (536 kB)\n",
            "\u001b[2K     \u001b[90m━━━━━━━━━━━━━━━━━━━━━━━━━━━━━━━━━━━━━━━━\u001b[0m \u001b[32m536.2/536.2 kB\u001b[0m \u001b[31m48.2 MB/s\u001b[0m eta \u001b[36m0:00:00\u001b[0m\n",
            "\u001b[?25hInstalling collected packages: pytz, py-cpuinfo, mpmath, urllib3, tzdata, typing-extensions, tqdm, sympy, six, pyyaml, pyparsing, psutil, pillow, packaging, nvidia-nvtx-cu12, nvidia-nvjitlink-cu12, nvidia-nccl-cu12, nvidia-curand-cu12, nvidia-cufft-cu12, nvidia-cuda-runtime-cu12, nvidia-cuda-nvrtc-cu12, nvidia-cuda-cupti-cu12, nvidia-cublas-cu12, numpy, networkx, MarkupSafe, kiwisolver, idna, fsspec, fonttools, filelock, cycler, charset-normalizer, certifi, triton, scipy, requests, python-dateutil, opencv-python, nvidia-cusparse-cu12, nvidia-cudnn-cu12, jinja2, contourpy, pandas, nvidia-cusolver-cu12, matplotlib, torch, seaborn, torchvision, thop, ultralytics\n",
            "\u001b[31mERROR: pip's dependency resolver does not currently take into account all the packages that are installed. This behaviour is the source of the following dependency conflicts.\n",
            "lida 0.0.10 requires fastapi, which is not installed.\n",
            "lida 0.0.10 requires kaleido, which is not installed.\n",
            "lida 0.0.10 requires python-multipart, which is not installed.\n",
            "lida 0.0.10 requires uvicorn, which is not installed.\n",
            "llmx 0.0.15a0 requires cohere, which is not installed.\n",
            "llmx 0.0.15a0 requires openai, which is not installed.\n",
            "llmx 0.0.15a0 requires tiktoken, which is not installed.\n",
            "bigframes 0.17.0 requires pandas<2.1.4,>=1.5.0, but you have pandas 2.1.4 which is incompatible.\n",
            "gcsfs 2023.6.0 requires fsspec==2023.6.0, but you have fsspec 2023.12.2 which is incompatible.\n",
            "google-colab 1.0.0 requires pandas==1.5.3, but you have pandas 2.1.4 which is incompatible.\n",
            "imageio 2.31.6 requires pillow<10.1.0,>=8.3.2, but you have pillow 10.1.0 which is incompatible.\n",
            "tensorflow-probability 0.22.0 requires typing-extensions<4.6.0, but you have typing-extensions 4.9.0 which is incompatible.\n",
            "torchaudio 2.1.0+cu121 requires torch==2.1.0, but you have torch 2.1.2 which is incompatible.\n",
            "torchdata 0.7.0 requires torch==2.1.0, but you have torch 2.1.2 which is incompatible.\n",
            "torchtext 0.16.0 requires torch==2.1.0, but you have torch 2.1.2 which is incompatible.\u001b[0m\u001b[31m\n",
            "\u001b[0mSuccessfully installed MarkupSafe-2.1.3 certifi-2023.11.17 charset-normalizer-3.3.2 contourpy-1.2.0 cycler-0.12.1 filelock-3.13.1 fonttools-4.47.0 fsspec-2023.12.2 idna-3.6 jinja2-3.1.2 kiwisolver-1.4.5 matplotlib-3.8.2 mpmath-1.3.0 networkx-3.2.1 numpy-1.26.2 nvidia-cublas-cu12-12.1.3.1 nvidia-cuda-cupti-cu12-12.1.105 nvidia-cuda-nvrtc-cu12-12.1.105 nvidia-cuda-runtime-cu12-12.1.105 nvidia-cudnn-cu12-8.9.2.26 nvidia-cufft-cu12-11.0.2.54 nvidia-curand-cu12-10.3.2.106 nvidia-cusolver-cu12-11.4.5.107 nvidia-cusparse-cu12-12.1.0.106 nvidia-nccl-cu12-2.18.1 nvidia-nvjitlink-cu12-12.3.101 nvidia-nvtx-cu12-12.1.105 opencv-python-4.9.0.80 packaging-23.2 pandas-2.1.4 pillow-10.1.0 psutil-5.9.7 py-cpuinfo-9.0.0 pyparsing-3.1.1 python-dateutil-2.8.2 pytz-2023.3.post1 pyyaml-6.0.1 requests-2.31.0 scipy-1.11.4 seaborn-0.13.1 six-1.16.0 sympy-1.12 thop-0.1.1.post2209072238 torch-2.1.2 torchvision-0.16.2 tqdm-4.66.1 triton-2.1.0 typing-extensions-4.9.0 tzdata-2023.4 ultralytics-8.0.231 urllib3-2.1.0\n"
          ]
        },
        {
          "output_type": "display_data",
          "data": {
            "application/vnd.colab-display-data+json": {
              "pip_warning": {
                "packages": [
                  "certifi",
                  "cycler",
                  "dateutil",
                  "kiwisolver",
                  "six"
                ]
              }
            }
          },
          "metadata": {}
        }
      ]
    },
    {
      "cell_type": "code",
      "source": [
        "!pip install ultralytics"
      ],
      "metadata": {
        "colab": {
          "base_uri": "https://localhost:8080/"
        },
        "id": "DModIj2K_JWc",
        "outputId": "82385c06-a03e-40e1-fa2e-8b66a362b07e"
      },
      "execution_count": 3,
      "outputs": [
        {
          "output_type": "stream",
          "name": "stdout",
          "text": [
            "Collecting ultralytics\n",
            "  Using cached ultralytics-8.0.231-py3-none-any.whl (663 kB)\n",
            "Requirement already satisfied: matplotlib>=3.3.0 in /usr/local/lib/python3.10/dist-packages (from ultralytics) (3.7.1)\n",
            "Requirement already satisfied: numpy>=1.22.2 in /usr/local/lib/python3.10/dist-packages (from ultralytics) (1.23.5)\n",
            "Requirement already satisfied: opencv-python>=4.6.0 in /usr/local/lib/python3.10/dist-packages (from ultralytics) (4.8.0.76)\n",
            "Requirement already satisfied: pillow>=7.1.2 in /usr/local/lib/python3.10/dist-packages (from ultralytics) (9.4.0)\n",
            "Requirement already satisfied: pyyaml>=5.3.1 in /usr/local/lib/python3.10/dist-packages (from ultralytics) (6.0.1)\n",
            "Requirement already satisfied: requests>=2.23.0 in /usr/local/lib/python3.10/dist-packages (from ultralytics) (2.31.0)\n",
            "Requirement already satisfied: scipy>=1.4.1 in /usr/local/lib/python3.10/dist-packages (from ultralytics) (1.11.4)\n",
            "Requirement already satisfied: torch>=1.8.0 in /usr/local/lib/python3.10/dist-packages (from ultralytics) (2.1.0+cu121)\n",
            "Requirement already satisfied: torchvision>=0.9.0 in /usr/local/lib/python3.10/dist-packages (from ultralytics) (0.16.0+cu121)\n",
            "Requirement already satisfied: tqdm>=4.64.0 in /usr/local/lib/python3.10/dist-packages (from ultralytics) (4.66.1)\n",
            "Requirement already satisfied: psutil in /usr/local/lib/python3.10/dist-packages (from ultralytics) (5.9.5)\n",
            "Requirement already satisfied: py-cpuinfo in /usr/local/lib/python3.10/dist-packages (from ultralytics) (9.0.0)\n",
            "Collecting thop>=0.1.1 (from ultralytics)\n",
            "  Using cached thop-0.1.1.post2209072238-py3-none-any.whl (15 kB)\n",
            "Requirement already satisfied: pandas>=1.1.4 in /usr/local/lib/python3.10/dist-packages (from ultralytics) (1.5.3)\n",
            "Requirement already satisfied: seaborn>=0.11.0 in /usr/local/lib/python3.10/dist-packages (from ultralytics) (0.12.2)\n",
            "Requirement already satisfied: contourpy>=1.0.1 in /usr/local/lib/python3.10/dist-packages (from matplotlib>=3.3.0->ultralytics) (1.2.0)\n",
            "Requirement already satisfied: cycler>=0.10 in /usr/local/lib/python3.10/dist-packages (from matplotlib>=3.3.0->ultralytics) (0.12.1)\n",
            "Requirement already satisfied: fonttools>=4.22.0 in /usr/local/lib/python3.10/dist-packages (from matplotlib>=3.3.0->ultralytics) (4.46.0)\n",
            "Requirement already satisfied: kiwisolver>=1.0.1 in /usr/local/lib/python3.10/dist-packages (from matplotlib>=3.3.0->ultralytics) (1.4.5)\n",
            "Requirement already satisfied: packaging>=20.0 in /usr/local/lib/python3.10/dist-packages (from matplotlib>=3.3.0->ultralytics) (23.2)\n",
            "Requirement already satisfied: pyparsing>=2.3.1 in /usr/local/lib/python3.10/dist-packages (from matplotlib>=3.3.0->ultralytics) (3.1.1)\n",
            "Requirement already satisfied: python-dateutil>=2.7 in /usr/local/lib/python3.10/dist-packages (from matplotlib>=3.3.0->ultralytics) (2.8.2)\n",
            "Requirement already satisfied: pytz>=2020.1 in /usr/local/lib/python3.10/dist-packages (from pandas>=1.1.4->ultralytics) (2023.3.post1)\n",
            "Requirement already satisfied: charset-normalizer<4,>=2 in /usr/local/lib/python3.10/dist-packages (from requests>=2.23.0->ultralytics) (3.3.2)\n",
            "Requirement already satisfied: idna<4,>=2.5 in /usr/local/lib/python3.10/dist-packages (from requests>=2.23.0->ultralytics) (3.6)\n",
            "Requirement already satisfied: urllib3<3,>=1.21.1 in /usr/local/lib/python3.10/dist-packages (from requests>=2.23.0->ultralytics) (2.0.7)\n",
            "Requirement already satisfied: certifi>=2017.4.17 in /usr/local/lib/python3.10/dist-packages (from requests>=2.23.0->ultralytics) (2023.11.17)\n",
            "Requirement already satisfied: filelock in /usr/local/lib/python3.10/dist-packages (from torch>=1.8.0->ultralytics) (3.13.1)\n",
            "Requirement already satisfied: typing-extensions in /usr/local/lib/python3.10/dist-packages (from torch>=1.8.0->ultralytics) (4.5.0)\n",
            "Requirement already satisfied: sympy in /usr/local/lib/python3.10/dist-packages (from torch>=1.8.0->ultralytics) (1.12)\n",
            "Requirement already satisfied: networkx in /usr/local/lib/python3.10/dist-packages (from torch>=1.8.0->ultralytics) (3.2.1)\n",
            "Requirement already satisfied: jinja2 in /usr/local/lib/python3.10/dist-packages (from torch>=1.8.0->ultralytics) (3.1.2)\n",
            "Requirement already satisfied: fsspec in /usr/local/lib/python3.10/dist-packages (from torch>=1.8.0->ultralytics) (2023.6.0)\n",
            "Requirement already satisfied: triton==2.1.0 in /usr/local/lib/python3.10/dist-packages (from torch>=1.8.0->ultralytics) (2.1.0)\n",
            "Requirement already satisfied: six>=1.5 in /usr/local/lib/python3.10/dist-packages (from python-dateutil>=2.7->matplotlib>=3.3.0->ultralytics) (1.16.0)\n",
            "Requirement already satisfied: MarkupSafe>=2.0 in /usr/local/lib/python3.10/dist-packages (from jinja2->torch>=1.8.0->ultralytics) (2.1.3)\n",
            "Requirement already satisfied: mpmath>=0.19 in /usr/local/lib/python3.10/dist-packages (from sympy->torch>=1.8.0->ultralytics) (1.3.0)\n",
            "Installing collected packages: thop, ultralytics\n",
            "Successfully installed thop-0.1.1.post2209072238 ultralytics-8.0.231\n"
          ]
        }
      ]
    },
    {
      "cell_type": "code",
      "source": [
        "from ultralytics import YOLO\n",
        "model = YOLO(\"yolov8n.pt\")"
      ],
      "metadata": {
        "colab": {
          "base_uri": "https://localhost:8080/"
        },
        "id": "k_T_BmWUhTgT",
        "outputId": "ba3d8585-1e8f-442e-9a99-20ec771b0a63"
      },
      "execution_count": 4,
      "outputs": [
        {
          "output_type": "stream",
          "name": "stdout",
          "text": [
            "Downloading https://github.com/ultralytics/assets/releases/download/v0.0.0/yolov8n.pt to 'yolov8n.pt'...\n"
          ]
        },
        {
          "output_type": "stream",
          "name": "stderr",
          "text": [
            "100%|██████████| 6.23M/6.23M [00:00<00:00, 65.3MB/s]\n"
          ]
        }
      ]
    },
    {
      "cell_type": "code",
      "source": [
        "results = model.train(data=\"/content/Currency Detection/data.yaml\", epochs=20, pretrained=True, iou=0.5, visualize=True, patience=0)  # train the model\n",
        "results = model.val()"
      ],
      "metadata": {
        "colab": {
          "base_uri": "https://localhost:8080/"
        },
        "id": "CXW-WVFChj2B",
        "outputId": "11835b75-0f89-43c5-f607-2bd3065e8b40"
      },
      "execution_count": 5,
      "outputs": [
        {
          "output_type": "stream",
          "name": "stdout",
          "text": [
            "Ultralytics YOLOv8.0.231 🚀 Python-3.10.12 torch-2.1.0+cu121 CUDA:0 (Tesla T4, 15102MiB)\n",
            "\u001b[34m\u001b[1mengine/trainer: \u001b[0mtask=detect, mode=train, model=yolov8n.pt, data=/content/Currency Detection/data.yaml, epochs=20, time=None, patience=0, batch=16, imgsz=640, save=True, save_period=-1, cache=False, device=None, workers=8, project=None, name=train, exist_ok=False, pretrained=True, optimizer=auto, verbose=True, seed=0, deterministic=True, single_cls=False, rect=False, cos_lr=False, close_mosaic=10, resume=False, amp=True, fraction=1.0, profile=False, freeze=None, overlap_mask=True, mask_ratio=4, dropout=0.0, val=True, split=val, save_json=False, save_hybrid=False, conf=None, iou=0.5, max_det=300, half=False, dnn=False, plots=True, source=None, vid_stride=1, stream_buffer=False, visualize=True, augment=False, agnostic_nms=False, classes=None, retina_masks=False, embed=None, show=False, save_frames=False, save_txt=False, save_conf=False, save_crop=False, show_labels=True, show_conf=True, show_boxes=True, line_width=None, format=torchscript, keras=False, optimize=False, int8=False, dynamic=False, simplify=False, opset=None, workspace=4, nms=False, lr0=0.01, lrf=0.01, momentum=0.937, weight_decay=0.0005, warmup_epochs=3.0, warmup_momentum=0.8, warmup_bias_lr=0.1, box=7.5, cls=0.5, dfl=1.5, pose=12.0, kobj=1.0, label_smoothing=0.0, nbs=64, hsv_h=0.015, hsv_s=0.7, hsv_v=0.4, degrees=0.0, translate=0.1, scale=0.5, shear=0.0, perspective=0.0, flipud=0.0, fliplr=0.5, mosaic=1.0, mixup=0.0, copy_paste=0.0, cfg=None, tracker=botsort.yaml, save_dir=runs/detect/train\n",
            "Downloading https://ultralytics.com/assets/Arial.ttf to '/root/.config/Ultralytics/Arial.ttf'...\n"
          ]
        },
        {
          "output_type": "stream",
          "name": "stderr",
          "text": [
            "100%|██████████| 755k/755k [00:00<00:00, 16.7MB/s]\n"
          ]
        },
        {
          "output_type": "stream",
          "name": "stdout",
          "text": [
            "Overriding model.yaml nc=80 with nc=1\n",
            "\n",
            "                   from  n    params  module                                       arguments                     \n",
            "  0                  -1  1       464  ultralytics.nn.modules.conv.Conv             [3, 16, 3, 2]                 \n",
            "  1                  -1  1      4672  ultralytics.nn.modules.conv.Conv             [16, 32, 3, 2]                \n",
            "  2                  -1  1      7360  ultralytics.nn.modules.block.C2f             [32, 32, 1, True]             \n",
            "  3                  -1  1     18560  ultralytics.nn.modules.conv.Conv             [32, 64, 3, 2]                \n",
            "  4                  -1  2     49664  ultralytics.nn.modules.block.C2f             [64, 64, 2, True]             \n",
            "  5                  -1  1     73984  ultralytics.nn.modules.conv.Conv             [64, 128, 3, 2]               \n",
            "  6                  -1  2    197632  ultralytics.nn.modules.block.C2f             [128, 128, 2, True]           \n",
            "  7                  -1  1    295424  ultralytics.nn.modules.conv.Conv             [128, 256, 3, 2]              \n",
            "  8                  -1  1    460288  ultralytics.nn.modules.block.C2f             [256, 256, 1, True]           \n",
            "  9                  -1  1    164608  ultralytics.nn.modules.block.SPPF            [256, 256, 5]                 \n",
            " 10                  -1  1         0  torch.nn.modules.upsampling.Upsample         [None, 2, 'nearest']          \n",
            " 11             [-1, 6]  1         0  ultralytics.nn.modules.conv.Concat           [1]                           \n",
            " 12                  -1  1    148224  ultralytics.nn.modules.block.C2f             [384, 128, 1]                 \n",
            " 13                  -1  1         0  torch.nn.modules.upsampling.Upsample         [None, 2, 'nearest']          \n",
            " 14             [-1, 4]  1         0  ultralytics.nn.modules.conv.Concat           [1]                           \n",
            " 15                  -1  1     37248  ultralytics.nn.modules.block.C2f             [192, 64, 1]                  \n",
            " 16                  -1  1     36992  ultralytics.nn.modules.conv.Conv             [64, 64, 3, 2]                \n",
            " 17            [-1, 12]  1         0  ultralytics.nn.modules.conv.Concat           [1]                           \n",
            " 18                  -1  1    123648  ultralytics.nn.modules.block.C2f             [192, 128, 1]                 \n",
            " 19                  -1  1    147712  ultralytics.nn.modules.conv.Conv             [128, 128, 3, 2]              \n",
            " 20             [-1, 9]  1         0  ultralytics.nn.modules.conv.Concat           [1]                           \n",
            " 21                  -1  1    493056  ultralytics.nn.modules.block.C2f             [384, 256, 1]                 \n",
            " 22        [15, 18, 21]  1    751507  ultralytics.nn.modules.head.Detect           [1, [64, 128, 256]]           \n",
            "Model summary: 225 layers, 3011043 parameters, 3011027 gradients, 8.2 GFLOPs\n",
            "\n",
            "Transferred 319/355 items from pretrained weights\n",
            "\u001b[34m\u001b[1mTensorBoard: \u001b[0mStart with 'tensorboard --logdir runs/detect/train', view at http://localhost:6006/\n",
            "Freezing layer 'model.22.dfl.conv.weight'\n",
            "\u001b[34m\u001b[1mAMP: \u001b[0mrunning Automatic Mixed Precision (AMP) checks with YOLOv8n...\n",
            "WARNING ⚠️ NMS time limit 0.550s exceeded\n",
            "\u001b[34m\u001b[1mAMP: \u001b[0mchecks passed ✅\n"
          ]
        },
        {
          "output_type": "stream",
          "name": "stderr",
          "text": [
            "\u001b[34m\u001b[1mtrain: \u001b[0mScanning /content/Currency Detection/train/labels... 192 images, 0 backgrounds, 0 corrupt: 100%|██████████| 192/192 [00:00<00:00, 535.38it/s]"
          ]
        },
        {
          "output_type": "stream",
          "name": "stdout",
          "text": [
            "\u001b[34m\u001b[1mtrain: \u001b[0mNew cache created: /content/Currency Detection/train/labels.cache\n"
          ]
        },
        {
          "output_type": "stream",
          "name": "stderr",
          "text": [
            "\n"
          ]
        },
        {
          "output_type": "stream",
          "name": "stdout",
          "text": [
            "\u001b[34m\u001b[1malbumentations: \u001b[0mBlur(p=0.01, blur_limit=(3, 7)), MedianBlur(p=0.01, blur_limit=(3, 7)), ToGray(p=0.01), CLAHE(p=0.01, clip_limit=(1, 4.0), tile_grid_size=(8, 8))\n"
          ]
        },
        {
          "output_type": "stream",
          "name": "stderr",
          "text": [
            "\u001b[34m\u001b[1mval: \u001b[0mScanning /content/Currency Detection/valid/labels... 19 images, 0 backgrounds, 0 corrupt: 100%|██████████| 19/19 [00:00<00:00, 283.41it/s]"
          ]
        },
        {
          "output_type": "stream",
          "name": "stdout",
          "text": [
            "\u001b[34m\u001b[1mval: \u001b[0mNew cache created: /content/Currency Detection/valid/labels.cache\n"
          ]
        },
        {
          "output_type": "stream",
          "name": "stderr",
          "text": [
            "\n"
          ]
        },
        {
          "output_type": "stream",
          "name": "stdout",
          "text": [
            "Plotting labels to runs/detect/train/labels.jpg... \n",
            "\u001b[34m\u001b[1moptimizer:\u001b[0m 'optimizer=auto' found, ignoring 'lr0=0.01' and 'momentum=0.937' and determining best 'optimizer', 'lr0' and 'momentum' automatically... \n",
            "\u001b[34m\u001b[1moptimizer:\u001b[0m AdamW(lr=0.002, momentum=0.9) with parameter groups 57 weight(decay=0.0), 64 weight(decay=0.0005), 63 bias(decay=0.0)\n",
            "20 epochs...\n",
            "\n",
            "      Epoch    GPU_mem   box_loss   cls_loss   dfl_loss  Instances       Size\n"
          ]
        },
        {
          "output_type": "stream",
          "name": "stderr",
          "text": [
            "       1/20      2.53G      1.183      2.466      1.571         35        640: 100%|██████████| 12/12 [00:07<00:00,  1.57it/s]\n",
            "                 Class     Images  Instances      Box(P          R      mAP50  mAP50-95): 100%|██████████| 1/1 [00:01<00:00,  1.73s/it]"
          ]
        },
        {
          "output_type": "stream",
          "name": "stdout",
          "text": [
            "                   all         19         19    0.00333          1      0.882      0.472\n"
          ]
        },
        {
          "output_type": "stream",
          "name": "stderr",
          "text": [
            "\n"
          ]
        },
        {
          "output_type": "stream",
          "name": "stdout",
          "text": [
            "\n",
            "      Epoch    GPU_mem   box_loss   cls_loss   dfl_loss  Instances       Size\n"
          ]
        },
        {
          "output_type": "stream",
          "name": "stderr",
          "text": [
            "       2/20      2.25G      1.041      1.505      1.463         32        640: 100%|██████████| 12/12 [00:02<00:00,  4.10it/s]\n",
            "                 Class     Images  Instances      Box(P          R      mAP50  mAP50-95): 100%|██████████| 1/1 [00:00<00:00,  3.02it/s]"
          ]
        },
        {
          "output_type": "stream",
          "name": "stdout",
          "text": [
            "                   all         19         19       0.82      0.895      0.965      0.656\n"
          ]
        },
        {
          "output_type": "stream",
          "name": "stderr",
          "text": [
            "\n"
          ]
        },
        {
          "output_type": "stream",
          "name": "stdout",
          "text": [
            "\n",
            "      Epoch    GPU_mem   box_loss   cls_loss   dfl_loss  Instances       Size\n"
          ]
        },
        {
          "output_type": "stream",
          "name": "stderr",
          "text": [
            "       3/20      2.25G      1.048      1.325      1.426         41        640: 100%|██████████| 12/12 [00:04<00:00,  2.71it/s]\n",
            "                 Class     Images  Instances      Box(P          R      mAP50  mAP50-95): 100%|██████████| 1/1 [00:00<00:00,  2.84it/s]"
          ]
        },
        {
          "output_type": "stream",
          "name": "stdout",
          "text": [
            "                   all         19         19      0.958      0.526      0.906      0.534\n"
          ]
        },
        {
          "output_type": "stream",
          "name": "stderr",
          "text": [
            "\n"
          ]
        },
        {
          "output_type": "stream",
          "name": "stdout",
          "text": [
            "\n",
            "      Epoch    GPU_mem   box_loss   cls_loss   dfl_loss  Instances       Size\n"
          ]
        },
        {
          "output_type": "stream",
          "name": "stderr",
          "text": [
            "       4/20      2.25G      1.091       1.25      1.457         35        640: 100%|██████████| 12/12 [00:02<00:00,  4.19it/s]\n",
            "                 Class     Images  Instances      Box(P          R      mAP50  mAP50-95): 100%|██████████| 1/1 [00:00<00:00,  3.95it/s]"
          ]
        },
        {
          "output_type": "stream",
          "name": "stdout",
          "text": [
            "                   all         19         19      0.874      0.729      0.833      0.455\n"
          ]
        },
        {
          "output_type": "stream",
          "name": "stderr",
          "text": [
            "\n"
          ]
        },
        {
          "output_type": "stream",
          "name": "stdout",
          "text": [
            "\n",
            "      Epoch    GPU_mem   box_loss   cls_loss   dfl_loss  Instances       Size\n"
          ]
        },
        {
          "output_type": "stream",
          "name": "stderr",
          "text": [
            "       5/20      2.25G      1.112      1.247      1.482         39        640: 100%|██████████| 12/12 [00:03<00:00,  4.00it/s]\n",
            "                 Class     Images  Instances      Box(P          R      mAP50  mAP50-95): 100%|██████████| 1/1 [00:00<00:00,  3.21it/s]"
          ]
        },
        {
          "output_type": "stream",
          "name": "stdout",
          "text": [
            "                   all         19         19      0.879      0.684      0.864      0.323\n"
          ]
        },
        {
          "output_type": "stream",
          "name": "stderr",
          "text": [
            "\n"
          ]
        },
        {
          "output_type": "stream",
          "name": "stdout",
          "text": [
            "\n",
            "      Epoch    GPU_mem   box_loss   cls_loss   dfl_loss  Instances       Size\n"
          ]
        },
        {
          "output_type": "stream",
          "name": "stderr",
          "text": [
            "       6/20      2.25G      1.182      1.218       1.51         32        640: 100%|██████████| 12/12 [00:04<00:00,  2.74it/s]\n",
            "                 Class     Images  Instances      Box(P          R      mAP50  mAP50-95): 100%|██████████| 1/1 [00:00<00:00,  1.60it/s]"
          ]
        },
        {
          "output_type": "stream",
          "name": "stdout",
          "text": [
            "                   all         19         19      0.745      0.579      0.707      0.203\n"
          ]
        },
        {
          "output_type": "stream",
          "name": "stderr",
          "text": [
            "\n"
          ]
        },
        {
          "output_type": "stream",
          "name": "stdout",
          "text": [
            "\n",
            "      Epoch    GPU_mem   box_loss   cls_loss   dfl_loss  Instances       Size\n"
          ]
        },
        {
          "output_type": "stream",
          "name": "stderr",
          "text": [
            "       7/20      2.25G      1.089      1.111      1.394         44        640: 100%|██████████| 12/12 [00:02<00:00,  4.00it/s]\n",
            "                 Class     Images  Instances      Box(P          R      mAP50  mAP50-95): 100%|██████████| 1/1 [00:00<00:00,  3.08it/s]"
          ]
        },
        {
          "output_type": "stream",
          "name": "stdout",
          "text": [
            "                   all         19         19      0.592      0.579      0.547      0.261\n"
          ]
        },
        {
          "output_type": "stream",
          "name": "stderr",
          "text": [
            "\n"
          ]
        },
        {
          "output_type": "stream",
          "name": "stdout",
          "text": [
            "\n",
            "      Epoch    GPU_mem   box_loss   cls_loss   dfl_loss  Instances       Size\n"
          ]
        },
        {
          "output_type": "stream",
          "name": "stderr",
          "text": [
            "       8/20      2.25G      1.065      1.037      1.448         45        640: 100%|██████████| 12/12 [00:02<00:00,  4.15it/s]\n",
            "                 Class     Images  Instances      Box(P          R      mAP50  mAP50-95): 100%|██████████| 1/1 [00:00<00:00,  2.52it/s]"
          ]
        },
        {
          "output_type": "stream",
          "name": "stdout",
          "text": [
            "                   all         19         19      0.562      0.579      0.597      0.236\n"
          ]
        },
        {
          "output_type": "stream",
          "name": "stderr",
          "text": [
            "\n"
          ]
        },
        {
          "output_type": "stream",
          "name": "stdout",
          "text": [
            "\n",
            "      Epoch    GPU_mem   box_loss   cls_loss   dfl_loss  Instances       Size\n"
          ]
        },
        {
          "output_type": "stream",
          "name": "stderr",
          "text": [
            "       9/20      2.25G      1.107      1.104      1.454         36        640: 100%|██████████| 12/12 [00:03<00:00,  3.26it/s]\n",
            "                 Class     Images  Instances      Box(P          R      mAP50  mAP50-95): 100%|██████████| 1/1 [00:00<00:00,  2.12it/s]"
          ]
        },
        {
          "output_type": "stream",
          "name": "stdout",
          "text": [
            "                   all         19         19      0.825      0.996      0.918      0.442\n"
          ]
        },
        {
          "output_type": "stream",
          "name": "stderr",
          "text": [
            "\n"
          ]
        },
        {
          "output_type": "stream",
          "name": "stdout",
          "text": [
            "\n",
            "      Epoch    GPU_mem   box_loss   cls_loss   dfl_loss  Instances       Size\n"
          ]
        },
        {
          "output_type": "stream",
          "name": "stderr",
          "text": [
            "      10/20      2.25G      1.051      1.061      1.436         32        640: 100%|██████████| 12/12 [00:03<00:00,  3.73it/s]\n",
            "                 Class     Images  Instances      Box(P          R      mAP50  mAP50-95): 100%|██████████| 1/1 [00:00<00:00,  3.06it/s]"
          ]
        },
        {
          "output_type": "stream",
          "name": "stdout",
          "text": [
            "                   all         19         19      0.847      0.947      0.948      0.589\n"
          ]
        },
        {
          "output_type": "stream",
          "name": "stderr",
          "text": [
            "\n"
          ]
        },
        {
          "output_type": "stream",
          "name": "stdout",
          "text": [
            "Closing dataloader mosaic\n",
            "\u001b[34m\u001b[1malbumentations: \u001b[0mBlur(p=0.01, blur_limit=(3, 7)), MedianBlur(p=0.01, blur_limit=(3, 7)), ToGray(p=0.01), CLAHE(p=0.01, clip_limit=(1, 4.0), tile_grid_size=(8, 8))\n",
            "\n",
            "      Epoch    GPU_mem   box_loss   cls_loss   dfl_loss  Instances       Size\n"
          ]
        },
        {
          "output_type": "stream",
          "name": "stderr",
          "text": [
            "      11/20      2.39G       1.03      1.466       1.62         16        640: 100%|██████████| 12/12 [00:05<00:00,  2.32it/s]\n",
            "                 Class     Images  Instances      Box(P          R      mAP50  mAP50-95): 100%|██████████| 1/1 [00:00<00:00,  3.88it/s]"
          ]
        },
        {
          "output_type": "stream",
          "name": "stdout",
          "text": [
            "                   all         19         19      0.719      0.368       0.42      0.233\n"
          ]
        },
        {
          "output_type": "stream",
          "name": "stderr",
          "text": [
            "\n"
          ]
        },
        {
          "output_type": "stream",
          "name": "stdout",
          "text": [
            "\n",
            "      Epoch    GPU_mem   box_loss   cls_loss   dfl_loss  Instances       Size\n"
          ]
        },
        {
          "output_type": "stream",
          "name": "stderr",
          "text": [
            "      12/20      2.25G       1.01      1.293      1.608         16        640: 100%|██████████| 12/12 [00:04<00:00,  2.88it/s]\n",
            "                 Class     Images  Instances      Box(P          R      mAP50  mAP50-95): 100%|██████████| 1/1 [00:00<00:00,  2.64it/s]"
          ]
        },
        {
          "output_type": "stream",
          "name": "stdout",
          "text": [
            "                   all         19         19      0.928      0.789      0.776      0.513\n"
          ]
        },
        {
          "output_type": "stream",
          "name": "stderr",
          "text": [
            "\n"
          ]
        },
        {
          "output_type": "stream",
          "name": "stdout",
          "text": [
            "\n",
            "      Epoch    GPU_mem   box_loss   cls_loss   dfl_loss  Instances       Size\n"
          ]
        },
        {
          "output_type": "stream",
          "name": "stderr",
          "text": [
            "      13/20      2.25G     0.9982      1.147      1.588         16        640: 100%|██████████| 12/12 [00:02<00:00,  4.41it/s]\n",
            "                 Class     Images  Instances      Box(P          R      mAP50  mAP50-95): 100%|██████████| 1/1 [00:00<00:00,  2.62it/s]"
          ]
        },
        {
          "output_type": "stream",
          "name": "stdout",
          "text": [
            "                   all         19         19      0.905      0.579      0.732      0.334\n"
          ]
        },
        {
          "output_type": "stream",
          "name": "stderr",
          "text": [
            "\n"
          ]
        },
        {
          "output_type": "stream",
          "name": "stdout",
          "text": [
            "\n",
            "      Epoch    GPU_mem   box_loss   cls_loss   dfl_loss  Instances       Size\n"
          ]
        },
        {
          "output_type": "stream",
          "name": "stderr",
          "text": [
            "      14/20      2.25G     0.9424      1.142       1.51         16        640: 100%|██████████| 12/12 [00:02<00:00,  4.38it/s]\n",
            "                 Class     Images  Instances      Box(P          R      mAP50  mAP50-95): 100%|██████████| 1/1 [00:00<00:00,  3.89it/s]"
          ]
        },
        {
          "output_type": "stream",
          "name": "stdout",
          "text": [
            "                   all         19         19      0.994      0.947      0.963      0.649\n"
          ]
        },
        {
          "output_type": "stream",
          "name": "stderr",
          "text": [
            "\n"
          ]
        },
        {
          "output_type": "stream",
          "name": "stdout",
          "text": [
            "\n",
            "      Epoch    GPU_mem   box_loss   cls_loss   dfl_loss  Instances       Size\n"
          ]
        },
        {
          "output_type": "stream",
          "name": "stderr",
          "text": [
            "      15/20      2.25G     0.9435       1.09      1.479         17        640: 100%|██████████| 12/12 [00:03<00:00,  3.38it/s]\n",
            "                 Class     Images  Instances      Box(P          R      mAP50  mAP50-95): 100%|██████████| 1/1 [00:00<00:00,  1.85it/s]"
          ]
        },
        {
          "output_type": "stream",
          "name": "stdout",
          "text": [
            "                   all         19         19      0.995      0.947      0.976      0.691\n"
          ]
        },
        {
          "output_type": "stream",
          "name": "stderr",
          "text": [
            "\n"
          ]
        },
        {
          "output_type": "stream",
          "name": "stdout",
          "text": [
            "\n",
            "      Epoch    GPU_mem   box_loss   cls_loss   dfl_loss  Instances       Size\n"
          ]
        },
        {
          "output_type": "stream",
          "name": "stderr",
          "text": [
            "      16/20      2.25G     0.8452      1.025      1.434         16        640: 100%|██████████| 12/12 [00:02<00:00,  4.47it/s]\n",
            "                 Class     Images  Instances      Box(P          R      mAP50  mAP50-95): 100%|██████████| 1/1 [00:00<00:00,  3.15it/s]"
          ]
        },
        {
          "output_type": "stream",
          "name": "stdout",
          "text": [
            "                   all         19         19      0.994      0.947      0.977      0.713\n"
          ]
        },
        {
          "output_type": "stream",
          "name": "stderr",
          "text": [
            "\n"
          ]
        },
        {
          "output_type": "stream",
          "name": "stdout",
          "text": [
            "\n",
            "      Epoch    GPU_mem   box_loss   cls_loss   dfl_loss  Instances       Size\n"
          ]
        },
        {
          "output_type": "stream",
          "name": "stderr",
          "text": [
            "      17/20      2.25G     0.8366     0.9488      1.396         17        640: 100%|██████████| 12/12 [00:02<00:00,  4.38it/s]\n",
            "                 Class     Images  Instances      Box(P          R      mAP50  mAP50-95): 100%|██████████| 1/1 [00:00<00:00,  3.48it/s]"
          ]
        },
        {
          "output_type": "stream",
          "name": "stdout",
          "text": [
            "                   all         19         19          1      0.999      0.995      0.755\n"
          ]
        },
        {
          "output_type": "stream",
          "name": "stderr",
          "text": [
            "\n"
          ]
        },
        {
          "output_type": "stream",
          "name": "stdout",
          "text": [
            "\n",
            "      Epoch    GPU_mem   box_loss   cls_loss   dfl_loss  Instances       Size\n"
          ]
        },
        {
          "output_type": "stream",
          "name": "stderr",
          "text": [
            "      18/20      2.25G     0.8208      0.924      1.379         16        640: 100%|██████████| 12/12 [00:02<00:00,  4.16it/s]\n",
            "                 Class     Images  Instances      Box(P          R      mAP50  mAP50-95): 100%|██████████| 1/1 [00:00<00:00,  1.86it/s]"
          ]
        },
        {
          "output_type": "stream",
          "name": "stdout",
          "text": [
            "                   all         19         19      0.995      0.947      0.993      0.725\n"
          ]
        },
        {
          "output_type": "stream",
          "name": "stderr",
          "text": [
            "\n"
          ]
        },
        {
          "output_type": "stream",
          "name": "stdout",
          "text": [
            "\n",
            "      Epoch    GPU_mem   box_loss   cls_loss   dfl_loss  Instances       Size\n"
          ]
        },
        {
          "output_type": "stream",
          "name": "stderr",
          "text": [
            "      19/20      2.25G     0.7898     0.8641      1.333         16        640: 100%|██████████| 12/12 [00:04<00:00,  2.47it/s]\n",
            "                 Class     Images  Instances      Box(P          R      mAP50  mAP50-95): 100%|██████████| 1/1 [00:00<00:00,  1.76it/s]"
          ]
        },
        {
          "output_type": "stream",
          "name": "stdout",
          "text": [
            "                   all         19         19          1      0.996      0.995      0.697\n"
          ]
        },
        {
          "output_type": "stream",
          "name": "stderr",
          "text": [
            "\n"
          ]
        },
        {
          "output_type": "stream",
          "name": "stdout",
          "text": [
            "\n",
            "      Epoch    GPU_mem   box_loss   cls_loss   dfl_loss  Instances       Size\n"
          ]
        },
        {
          "output_type": "stream",
          "name": "stderr",
          "text": [
            "      20/20      2.25G     0.7566     0.8244      1.307         16        640: 100%|██████████| 12/12 [00:02<00:00,  4.01it/s]\n",
            "                 Class     Images  Instances      Box(P          R      mAP50  mAP50-95): 100%|██████████| 1/1 [00:00<00:00,  3.13it/s]"
          ]
        },
        {
          "output_type": "stream",
          "name": "stdout",
          "text": [
            "                   all         19         19          1      0.997      0.995      0.719\n"
          ]
        },
        {
          "output_type": "stream",
          "name": "stderr",
          "text": [
            "\n"
          ]
        },
        {
          "output_type": "stream",
          "name": "stdout",
          "text": [
            "\n",
            "20 epochs completed in 0.028 hours.\n",
            "Optimizer stripped from runs/detect/train/weights/last.pt, 6.2MB\n",
            "Optimizer stripped from runs/detect/train/weights/best.pt, 6.2MB\n",
            "\n",
            "Validating runs/detect/train/weights/best.pt...\n",
            "Ultralytics YOLOv8.0.231 🚀 Python-3.10.12 torch-2.1.0+cu121 CUDA:0 (Tesla T4, 15102MiB)\n",
            "Model summary (fused): 168 layers, 3005843 parameters, 0 gradients, 8.1 GFLOPs\n"
          ]
        },
        {
          "output_type": "stream",
          "name": "stderr",
          "text": [
            "                 Class     Images  Instances      Box(P          R      mAP50  mAP50-95): 100%|██████████| 1/1 [00:00<00:00,  3.84it/s]\n"
          ]
        },
        {
          "output_type": "stream",
          "name": "stdout",
          "text": [
            "                   all         19         19          1      0.999      0.995      0.755\n",
            "Speed: 0.2ms preprocess, 2.2ms inference, 0.0ms loss, 2.1ms postprocess per image\n",
            "Results saved to \u001b[1mruns/detect/train\u001b[0m\n",
            "Ultralytics YOLOv8.0.231 🚀 Python-3.10.12 torch-2.1.0+cu121 CUDA:0 (Tesla T4, 15102MiB)\n",
            "Model summary (fused): 168 layers, 3005843 parameters, 0 gradients, 8.1 GFLOPs\n"
          ]
        },
        {
          "output_type": "stream",
          "name": "stderr",
          "text": [
            "\u001b[34m\u001b[1mval: \u001b[0mScanning /content/Currency Detection/valid/labels.cache... 19 images, 0 backgrounds, 0 corrupt: 100%|██████████| 19/19 [00:00<?, ?it/s]\n",
            "                 Class     Images  Instances      Box(P          R      mAP50  mAP50-95): 100%|██████████| 2/2 [00:01<00:00,  1.48it/s]\n"
          ]
        },
        {
          "output_type": "stream",
          "name": "stdout",
          "text": [
            "                   all         19         19          1      0.999      0.995      0.745\n",
            "Speed: 0.3ms preprocess, 38.1ms inference, 0.0ms loss, 2.7ms postprocess per image\n",
            "Results saved to \u001b[1mruns/detect/train2\u001b[0m\n"
          ]
        }
      ]
    },
    {
      "cell_type": "code",
      "source": [
        "PATH=\"runs/detect/train59/\"\n",
        "!yolo task=detect mode=predict model='/content/yolov8n.pt' save_txt=True conf=0.25 save_conf=True source='Currency Detection/test/images'\n"
      ],
      "metadata": {
        "id": "FoZL4aJslHaZ",
        "colab": {
          "base_uri": "https://localhost:8080/"
        },
        "outputId": "f93b9730-6224-41d8-9356-cebba1a2edf3"
      },
      "execution_count": 12,
      "outputs": [
        {
          "output_type": "stream",
          "name": "stdout",
          "text": [
            "Ultralytics YOLOv8.0.231 🚀 Python-3.10.12 torch-2.1.0+cu121 CUDA:0 (Tesla T4, 15102MiB)\n",
            "YOLOv8n summary (fused): 168 layers, 3151904 parameters, 0 gradients, 8.7 GFLOPs\n",
            "\n",
            "image 1/9 /content/Currency Detection/test/images/2000_original_IMG_20190421_140543873-jpg_4a79b670-d307-42ca-9488-6a714476b899_jpg.rf.65c6c21856558e74236ec729f4b42ad3.jpg: 640x640 (no detections), 10.2ms\n",
            "image 2/9 /content/Currency Detection/test/images/2000_original_IMG_20190421_140551618-jpg_7ff0e3ee-1735-41c0-9098-292f3497ca7f_jpg.rf.383ec7425957f5a6eb76a0fe65f08266.jpg: 640x640 1 book, 10.0ms\n",
            "image 3/9 /content/Currency Detection/test/images/200_original_IMG_20190422_063751811-jpg_d043a19c-2715-4f88-abf5-669915a29b5b_jpg.rf.46bcec8f4c32af7c13a8d754b5f0e2f3.jpg: 640x640 (no detections), 7.9ms\n",
            "image 4/9 /content/Currency Detection/test/images/200_original_IMG_20190422_063815782_HDR-jpg_196ed3ab-43da-49d7-b5a1-0127f2cad1ee_jpg.rf.08a1dec7d5632fb9b9e7da960f267c7c.jpg: 640x640 2 books, 7.8ms\n",
            "image 5/9 /content/Currency Detection/test/images/500_original_IMG_20190419_211822335-jpg_06b935e9-cc0b-4d0a-8953-992872dbd9be_jpg.rf.69dc07868345e56abe2fce2d03871bf2.jpg: 640x640 (no detections), 7.8ms\n",
            "image 6/9 /content/Currency Detection/test/images/500_original_IMG_20190419_211825754-jpg_aa6468eb-418a-4e51-bfa6-1e93f843b31e_jpg.rf.8f2dad0dae2502fef827c00dbd80fbf5.jpg: 640x640 (no detections), 7.8ms\n",
            "image 7/9 /content/Currency Detection/test/images/500_original_IMG_20190419_211942867-jpg_05603c06-624f-4124-bc1c-3e5667c4f5a1_jpg.rf.0675b783d7c6e0d4f577c6f5d2ab74ed.jpg: 640x640 (no detections), 7.8ms\n",
            "image 8/9 /content/Currency Detection/test/images/500_original_IMG_20190419_212018092-jpg_d651be63-e58c-4850-8811-37202271ee3b_jpg.rf.d88106924126c3b03a9e9636f3956a77.jpg: 640x640 (no detections), 7.8ms\n",
            "image 9/9 /content/Currency Detection/test/images/500_original_IMG_20190419_212033554-jpg_e4ec2efc-ca95-40b5-bf95-73a4f6308cb2_jpg.rf.e0a0a895731dc454fb59fe03414b9121.jpg: 640x640 (no detections), 7.8ms\n",
            "Speed: 1.7ms preprocess, 8.3ms inference, 65.8ms postprocess per image at shape (1, 3, 640, 640)\n",
            "Results saved to \u001b[1mruns/detect/predict3\u001b[0m\n",
            "2 labels saved to runs/detect/predict3/labels\n",
            "💡 Learn more at https://docs.ultralytics.com/modes/predict\n"
          ]
        }
      ]
    },
    {
      "cell_type": "code",
      "source": [
        "import locale\n",
        "def getpreferredencoding(do_setlocale = True):\n",
        "    return \"UTF-8\"\n",
        "locale.getpreferredencoding = getpreferredencoding\n"
      ],
      "metadata": {
        "id": "aORUy4PsNJZ2"
      },
      "execution_count": 9,
      "outputs": []
    },
    {
      "cell_type": "code",
      "source": [
        "!yolo task=detect mode=predict model='/content/yolov8n.pt' save_txt=True conf=0.25 save_conf=True source='note_100.jpg'"
      ],
      "metadata": {
        "colab": {
          "base_uri": "https://localhost:8080/"
        },
        "id": "ggKkDM4q1W3U",
        "outputId": "97613506-2cc6-4d99-a62b-6dc807848e5f"
      },
      "execution_count": 15,
      "outputs": [
        {
          "output_type": "stream",
          "name": "stdout",
          "text": [
            "Ultralytics YOLOv8.0.231 🚀 Python-3.10.12 torch-2.1.0+cu121 CUDA:0 (Tesla T4, 15102MiB)\n",
            "YOLOv8n summary (fused): 168 layers, 3151904 parameters, 0 gradients, 8.7 GFLOPs\n",
            "\n",
            "WARNING ⚠️ NMS time limit 0.550s exceeded\n",
            "image 1/1 /content/note_100.jpg: 640x480 1 book, 112.0ms\n",
            "Speed: 5.3ms preprocess, 112.0ms inference, 723.9ms postprocess per image at shape (1, 3, 640, 480)\n",
            "Results saved to \u001b[1mruns/detect/predict5\u001b[0m\n",
            "1 label saved to runs/detect/predict5/labels\n",
            "💡 Learn more at https://docs.ultralytics.com/modes/predict\n"
          ]
        }
      ]
    },
    {
      "cell_type": "code",
      "source": [
        "from google.colab import drive\n",
        "drive.mount('/content/drive')"
      ],
      "metadata": {
        "colab": {
          "base_uri": "https://localhost:8080/"
        },
        "id": "MmQG31-M6qCY",
        "outputId": "a07a6106-a7de-41b9-cb63-e024fb32e354"
      },
      "execution_count": 16,
      "outputs": [
        {
          "output_type": "stream",
          "name": "stdout",
          "text": [
            "Mounted at /content/drive\n"
          ]
        }
      ]
    },
    {
      "cell_type": "code",
      "source": [
        "%cd /content/"
      ],
      "metadata": {
        "colab": {
          "base_uri": "https://localhost:8080/"
        },
        "id": "ADHjJKEP60Ie",
        "outputId": "1a49a7a1-12f9-4724-9a28-f8cdac9ba581"
      },
      "execution_count": 17,
      "outputs": [
        {
          "output_type": "stream",
          "name": "stdout",
          "text": [
            "/content\n"
          ]
        }
      ]
    },
    {
      "cell_type": "code",
      "source": [
        "from google.colab import files\n",
        "\n",
        "# Zip the contents of the \"Currency Detection\" directory\n",
        "!zip -r currency.zip '/content/Currency Detection'\n",
        "\n",
        "# Download the zip file\n",
        "files.download(\"currency.zip\")\n"
      ],
      "metadata": {
        "colab": {
          "base_uri": "https://localhost:8080/",
          "height": 1000
        },
        "id": "6pVkrkkQ7nek",
        "outputId": "3437b966-0197-4083-a60a-ecf9a00b67d8"
      },
      "execution_count": 18,
      "outputs": [
        {
          "output_type": "stream",
          "name": "stdout",
          "text": [
            "  adding: content/Currency Detection/ (stored 0%)\n",
            "  adding: content/Currency Detection/README.roboflow.txt (deflated 49%)\n",
            "  adding: content/Currency Detection/train/ (stored 0%)\n",
            "  adding: content/Currency Detection/train/labels/ (stored 0%)\n",
            "  adding: content/Currency Detection/train/labels/500_original_IMG_20190419_211855317-jpg_39ad04c9-72c6-40c5-a196-70029a4b56b9_jpg.rf.05aeb38898599735308242d6908a3624.txt (deflated 29%)\n",
            "  adding: content/Currency Detection/train/labels/500_original_IMG_20190419_212018092-jpg_48cd8514-9c38-401b-a7ca-c05a6ad8bf4c_jpg.rf.42d5168dcf656000adc1f921263485f6.txt (deflated 29%)\n",
            "  adding: content/Currency Detection/train/labels/200_original_IMG_20190422_063814288-jpg_e784ace9-82b8-4b9a-b647-1d88a8e1b886_jpg.rf.0037acf5eef6fa6219cc7cf682710924.txt (deflated 26%)\n",
            "  adding: content/Currency Detection/train/labels/500_original_IMG_20190419_211825754-jpg_b315952b-1418-4fda-91c8-40fdbe6a7dce_jpg.rf.75697fd14e688e7ffedabfe08227a4fb.txt (deflated 29%)\n",
            "  adding: content/Currency Detection/train/labels/500_original_IMG_20190419_211938977-jpg_cfcc9cfb-5bb5-4feb-929e-21207c8a2004_jpg.rf.d262138f4a04e106d3a320d1c7946381.txt (deflated 30%)\n",
            "  adding: content/Currency Detection/train/labels/200_original_IMG_20190422_063810752_HDR-jpg_f02977bd-9372-48b4-a6d2-7c6f67d6d4bf_jpg.rf.d409294ee5482a41d26cd64ffb430360.txt (deflated 12%)\n",
            "  adding: content/Currency Detection/train/labels/200_original_IMG_20190422_063812516-jpg_5ef17251-cffd-4489-8097-35705b54b06f_jpg.rf.b0a937d25ec12d9e098415ed11cad884.txt (deflated 29%)\n",
            "  adding: content/Currency Detection/train/labels/500_original_IMG_20190419_211938977-jpg_cfcc9cfb-5bb5-4feb-929e-21207c8a2004_jpg.rf.dce1c8e33f2c7b1938f0846fcb4c2221.txt (deflated 20%)\n",
            "  adding: content/Currency Detection/train/labels/500_original_IMG_20190419_212048876-jpg_6693621b-77c0-48a6-a82b-492273cf05f7_jpg.rf.bbb2b756c340f8f840fed29c38eb1940.txt (deflated 28%)\n",
            "  adding: content/Currency Detection/train/labels/500_original_IMG_20190419_211814969-jpg_a96be387-b244-4261-ace5-39e693630e37_jpg.rf.1ba4068d7addad00f0a0503ab3ab4b1d.txt (deflated 29%)\n",
            "  adding: content/Currency Detection/train/labels/500_original_IMG_20190419_211825754-jpg_944e4fc2-a93b-4596-a4d0-0dd2cd305118_jpg.rf.cb80532b1ff11fab716d296d64f39298.txt (deflated 14%)\n",
            "  adding: content/Currency Detection/train/labels/500_original_IMG_20190419_212024183-jpg_a3b8ebe0-b89c-4d05-8d85-2c2ac8fe52ba_jpg.rf.71de447bb1c33d6e102eed807a537abc.txt (deflated 22%)\n",
            "  adding: content/Currency Detection/train/labels/500_original_IMG_20190419_211942867-jpg_bdf7d374-8b1c-4748-9d6f-e319350975c0_jpg.rf.68add41add3e124801200e34251e1756.txt (deflated 29%)\n",
            "  adding: content/Currency Detection/train/labels/200_original_IMG_20190422_063741712-jpg_fb3fe207-0922-43bd-a4d8-f0ec54aabac4_jpg.rf.db9da89537c58dd37620adf6ec35493c.txt (deflated 24%)\n",
            "  adding: content/Currency Detection/train/labels/500_original_IMG_20190419_212024183-jpg_31a7728c-2982-45bd-914b-123bbdb79b38_jpg.rf.ec01b65dbbd5e4be12918ebe08c8ccc5.txt (deflated 40%)\n",
            "  adding: content/Currency Detection/train/labels/200_original_IMG_20190422_063812516-jpg_68fc5bb1-1f3d-4271-bf49-b3a5428649c5_jpg.rf.c5f097a143f96729116b56660b0f3f5d.txt (deflated 21%)\n",
            "  adding: content/Currency Detection/train/labels/200_original_IMG_20190422_063812516-jpg_68fc5bb1-1f3d-4271-bf49-b3a5428649c5_jpg.rf.59a0577673c3b0a5342aa4e1e70d4fb0.txt (deflated 15%)\n",
            "  adding: content/Currency Detection/train/labels/500_original_IMG_20190419_211942867-jpg_316f5365-bf61-4d92-b490-24906eef0325_jpg.rf.96e1844a3cf98bfdd9a778e706a25222.txt (deflated 29%)\n",
            "  adding: content/Currency Detection/train/labels/500_original_IMG_20190419_211825754-jpg_c927b1ca-0a80-492f-9716-bf90b91aaa07_jpg.rf.36dfc006b6b033fbbc422bf0db91924e.txt (deflated 14%)\n",
            "  adding: content/Currency Detection/train/labels/200_original_IMG_20190422_063818334_HDR-jpg_3a932d00-8cb5-4198-baf6-63c0c7e8c0e7_jpg.rf.61cdd808c4f3e633fa590f5aad14e916.txt (deflated 21%)\n",
            "  adding: content/Currency Detection/train/labels/500_original_IMG_20190419_212018092-jpg_1c2951b5-3cff-4514-bd57-568bb2e7657f_jpg.rf.096429003e5023bf8f436a6052f1de7d.txt (deflated 17%)\n",
            "  adding: content/Currency Detection/train/labels/500_original_IMG_20190419_211955434-jpg_2057bf55-e636-4655-b4da-7787ada1614e_jpg.rf.788f3269104fc343147ecddb96cbc97f.txt (deflated 31%)\n",
            "  adding: content/Currency Detection/train/labels/500_original_IMG_20190419_211825754-jpg_c927b1ca-0a80-492f-9716-bf90b91aaa07_jpg.rf.96e8aa1c82a3ab3a41002f3da1da0152.txt (deflated 29%)\n",
            "  adding: content/Currency Detection/train/labels/500_original_IMG_20190419_211955434-jpg_2800c204-b875-4d53-8516-daa42ffcbffe_jpg.rf.542bb76368f45be8a5b8b15c13227ae8.txt (deflated 21%)\n",
            "  adding: content/Currency Detection/train/labels/500_original_IMG_20190419_211901192-jpg_0ddb01ea-1249-4030-848e-87947e8c140e_jpg.rf.17a8d6b6860cca89964b3821489989ef.txt (deflated 29%)\n",
            "  adding: content/Currency Detection/train/labels/500_original_IMG_20190419_212018092-jpg_33ecf306-5929-4989-8676-440b7410f93d_jpg.rf.8934f8c03087aba5a351978b26326e21.txt (deflated 27%)\n",
            "  adding: content/Currency Detection/train/labels/500_original_IMG_20190419_211825754-jpg_944e4fc2-a93b-4596-a4d0-0dd2cd305118_jpg.rf.0eaed37805d00ce6f68f44bb11b789dd.txt (deflated 29%)\n",
            "  adding: content/Currency Detection/train/labels/500_original_IMG_20190419_211942867-jpg_bdf7d374-8b1c-4748-9d6f-e319350975c0_jpg.rf.a52329dea576820dbb81abb37a17d022.txt (deflated 16%)\n",
            "  adding: content/Currency Detection/train/labels/200_original_IMG_20190422_063753922-jpg_2e24e5e8-441a-45c2-bbc2-e1691b696f46_jpg.rf.c3862ea0f272d8c3fc454c2ed608de8e.txt (deflated 21%)\n",
            "  adding: content/Currency Detection/train/labels/2000_original_IMG_20190421_140543873-jpg_dc8444b7-cc53-4bc6-9a32-69775b4d9e2e_jpg.rf.0e2d7a099c60424376bc245f9dacc1bb.txt (deflated 29%)\n",
            "  adding: content/Currency Detection/train/labels/200_original_IMG_20190422_063804141_HDR-jpg_f24099cb-2074-40cd-8462-79e20f7c9bce_jpg.rf.53ab1f19247739a2b071d6a4b7cfa157.txt (deflated 29%)\n",
            "  adding: content/Currency Detection/train/labels/200_original_IMG_20190422_063750698-jpg_58df4512-e4ae-4a8e-9010-bdc149d392a9_jpg.rf.768b21bb79a22dca48b7382ae387daac.txt (deflated 31%)\n",
            "  adding: content/Currency Detection/train/labels/500_original_IMG_20190419_212018092-jpg_33ecf306-5929-4989-8676-440b7410f93d_jpg.rf.bfcc98addf7294cdb7f46a49843384e4.txt (deflated 27%)\n",
            "  adding: content/Currency Detection/train/labels/200_original_IMG_20190422_063810752_HDR-jpg_f02977bd-9372-48b4-a6d2-7c6f67d6d4bf_jpg.rf.8de34b0e23da46ade63c5893a1048e49.txt (deflated 28%)\n",
            "  adding: content/Currency Detection/train/labels/500_original_IMG_20190419_211942867-jpg_d7faa434-8ef5-401d-8a18-bce7a637da07_jpg.rf.894ea35ec6147b94cd9aaf8d8212b9fc.txt (deflated 27%)\n",
            "  adding: content/Currency Detection/train/labels/200_original_IMG_20190422_063745488-jpg_d655991b-96a3-4b1a-8b12-654b314a6bbe_jpg.rf.53a61439c67726a31bd786f6e478d6ea.txt (deflated 16%)\n",
            "  adding: content/Currency Detection/train/labels/500_original_IMG_20190419_211814969-jpg_a96be387-b244-4261-ace5-39e693630e37_jpg.rf.7f0db7291f71f096639e0c790f15b25d.txt (deflated 30%)\n",
            "  adding: content/Currency Detection/train/labels/2000_original_IMG_20190421_140550015-jpg_27ae807c-d3ae-4b57-98c8-2de16bafbfdd_jpg.rf.06f9844cc3a422ce12dbf9b9e3393446.txt (deflated 19%)\n",
            "  adding: content/Currency Detection/train/labels/200_original_IMG_20190422_063814288-jpg_e784ace9-82b8-4b9a-b647-1d88a8e1b886_jpg.rf.db7b78239dac47f8b58b51cd6632dddd.txt (deflated 29%)\n",
            "  adding: content/Currency Detection/train/labels/500_original_IMG_20190419_211825754-jpg_7d8a3d1a-f14a-4faf-ac9c-927a50f3b420_jpg.rf.94a9a08e0f9b19b3e549d244e014fc4e.txt (deflated 25%)\n",
            "  adding: content/Currency Detection/train/labels/200_original_IMG_20190422_063804141_HDR-jpg_f24099cb-2074-40cd-8462-79e20f7c9bce_jpg.rf.678739c3dda4a52b7f1085ca787a1224.txt (deflated 28%)\n",
            "  adding: content/Currency Detection/train/labels/500_original_IMG_20190419_211938977-jpg_7d50b1ef-1ce8-4105-9275-4fa3bc3fcf28_jpg.rf.443b387223e94e00adb7cc5560c618a4.txt (deflated 28%)\n",
            "  adding: content/Currency Detection/train/labels/200_original_IMG_20190422_063812516-jpg_ebbf9959-2335-483b-a5bc-3b345d78b865_jpg.rf.9725748cfdda62f0017192020603c5a5.txt (deflated 27%)\n",
            "  adding: content/Currency Detection/train/labels/500_original_IMG_20190419_211901192-jpg_84db7ce5-473d-4675-86dc-9ecd4123e84f_jpg.rf.91b5da4876bbed9639d994014b942e76.txt (deflated 26%)\n",
            "  adding: content/Currency Detection/train/labels/500_original_IMG_20190419_211942867-jpg_316f5365-bf61-4d92-b490-24906eef0325_jpg.rf.41e6fecf865425ce3b42a6c519ae0147.txt (deflated 16%)\n",
            "  adding: content/Currency Detection/train/labels/500_original_IMG_20190419_211942867-jpg_044fa36b-7803-4e6e-a871-33ffe7e593a5_jpg.rf.6a168dc981b4efcbe0fcc9f720608a24.txt (deflated 30%)\n",
            "  adding: content/Currency Detection/train/labels/500_original_IMG_20190419_211814969-jpg_e306a4a2-0f79-4e5c-82e5-68f591f5158b_jpg.rf.798202ca04f493391ba57860db824bfb.txt (deflated 30%)\n",
            "  adding: content/Currency Detection/train/labels/200_original_IMG_20190422_063808179_HDR-jpg_d34664ff-a064-4f2f-a8a8-3cffadfa3dfd_jpg.rf.7d3ae64ba086d4e6608b7d7e8d5601f3.txt (deflated 18%)\n",
            "  adding: content/Currency Detection/train/labels/500_original_IMG_20190419_211955434-jpg_2057bf55-e636-4655-b4da-7787ada1614e_jpg.rf.5e6ee10efa71e192c942504a56266f0d.txt (deflated 25%)\n",
            "  adding: content/Currency Detection/train/labels/500_original_IMG_20190419_211901192-jpg_84db7ce5-473d-4675-86dc-9ecd4123e84f_jpg.rf.c125cc37cf6af85f8f71cd887037c3fa.txt (deflated 23%)\n",
            "  adding: content/Currency Detection/train/labels/500_original_IMG_20190419_211938977-jpg_f31add13-5e38-4194-a5d8-925ba21c2805_jpg.rf.f49fdd5600b4ca1cfcf04dcbeb41bb3c.txt (deflated 28%)\n",
            "  adding: content/Currency Detection/train/labels/500_original_IMG_20190419_211942867-jpg_3094505a-7373-4c03-a70b-ff2c71d8fe27_jpg.rf.439561f00b788b5bab7b067d34ef4056.txt (deflated 25%)\n",
            "  adding: content/Currency Detection/train/labels/500_original_IMG_20190419_211942867-jpg_1f9f5bd4-d515-45b5-882f-ae7f836595cc_jpg.rf.a7fc29465f0b44c23bfdf324e47cb7c9.txt (deflated 29%)\n",
            "  adding: content/Currency Detection/train/labels/500_original_IMG_20190419_211825754-jpg_7d8a3d1a-f14a-4faf-ac9c-927a50f3b420_jpg.rf.39f0b0795d4365717a7bda1a57e40208.txt (deflated 29%)\n",
            "  adding: content/Currency Detection/train/labels/200_original_IMG_20190422_063756088-jpg_f4997865-22cc-4bf6-a34f-0fb783551e3a_jpg.rf.af216fcfee321729db6bac25bea66106.txt (deflated 30%)\n",
            "  adding: content/Currency Detection/train/labels/500_original_IMG_20190419_212024183-jpg_01263294-386c-448b-a1df-a890ee64ec5a_jpg.rf.41231bb221b3bdf1abefbe95cc68822f.txt (deflated 28%)\n",
            "  adding: content/Currency Detection/train/labels/500_original_IMG_20190419_211814969-jpg_a96be387-b244-4261-ace5-39e693630e37_jpg.rf.ef9856f520c675b6655db4d897efe138.txt (deflated 16%)\n",
            "  adding: content/Currency Detection/train/labels/500_original_IMG_20190419_211942867-jpg_044fa36b-7803-4e6e-a871-33ffe7e593a5_jpg.rf.da8deed6c882f5ab4cf107dadfb1c607.txt (deflated 29%)\n",
            "  adding: content/Currency Detection/train/labels/500_original_IMG_20190419_211855317-jpg_66ddb818-56db-45ed-af62-22ea100a59d6_jpg.rf.def10fb7cc3b2046c86ca9696eaa5aae.txt (deflated 29%)\n",
            "  adding: content/Currency Detection/train/labels/500_original_IMG_20190419_212018092-jpg_1c2951b5-3cff-4514-bd57-568bb2e7657f_jpg.rf.7d49d57405003a4ca9a1f9cf4ca10030.txt (deflated 28%)\n",
            "  adding: content/Currency Detection/train/labels/500_original_IMG_20190419_212018092-jpg_33ecf306-5929-4989-8676-440b7410f93d_jpg.rf.6a2bc26d436e43e5df97567094e46395.txt (deflated 18%)\n",
            "  adding: content/Currency Detection/train/labels/500_original_IMG_20190419_211901192-jpg_0ddb01ea-1249-4030-848e-87947e8c140e_jpg.rf.346480b7e5f62b7359ed5694c85e2aed.txt (deflated 30%)\n",
            "  adding: content/Currency Detection/train/labels/500_original_IMG_20190419_211938977-jpg_cfcc9cfb-5bb5-4feb-929e-21207c8a2004_jpg.rf.4db71f1e9545aa6190089164ed026c7d.txt (deflated 28%)\n",
            "  adding: content/Currency Detection/train/labels/200_original_IMG_20190422_063756088-jpg_b88830b5-8865-45d0-8ed6-feca403878e8_jpg.rf.63b548092c9d7845a1fe2e8f0fd4fd78.txt (deflated 16%)\n",
            "  adding: content/Currency Detection/train/labels/200_original_IMG_20190422_063808179_HDR-jpg_2eca32aa-5269-4b2c-b61c-c720d552e6e9_jpg.rf.3a0d23d92b71bd00c79fbbc7e3c0e009.txt (deflated 30%)\n",
            "  adding: content/Currency Detection/train/labels/500_original_IMG_20190419_211955434-jpg_06282bda-d0ec-42d2-9f29-1c505ec541a6_jpg.rf.3a8d04dd5e8861a6df51bdee6cdc6e24.txt (deflated 20%)\n",
            "  adding: content/Currency Detection/train/labels/500_original_IMG_20190419_211942867-jpg_3094505a-7373-4c03-a70b-ff2c71d8fe27_jpg.rf.1f3f7be710121e0d669d9fa3be364fd3.txt (deflated 28%)\n",
            "  adding: content/Currency Detection/train/labels/500_original_IMG_20190419_212004279-jpg_d292e9bc-d635-4261-9e42-aa2b85d2d390_jpg.rf.fe39ce3d610de774bbda4b0752dce967.txt (deflated 28%)\n",
            "  adding: content/Currency Detection/train/labels/200_original_IMG_20190422_063741712-jpg_fb3fe207-0922-43bd-a4d8-f0ec54aabac4_jpg.rf.1bafda1dc63c5d57c57dd223878ac56d.txt (deflated 28%)\n",
            "  adding: content/Currency Detection/train/labels/500_original_IMG_20190419_211942867-jpg_1f9f5bd4-d515-45b5-882f-ae7f836595cc_jpg.rf.c44364228ff692a519ee236775c143e8.txt (deflated 29%)\n",
            "  adding: content/Currency Detection/train/labels/500_original_IMG_20190419_211825754-jpg_b315952b-1418-4fda-91c8-40fdbe6a7dce_jpg.rf.a023e61642a532b85df419ed638fc782.txt (deflated 22%)\n",
            "  adding: content/Currency Detection/train/labels/500_original_IMG_20190419_211955434-jpg_06282bda-d0ec-42d2-9f29-1c505ec541a6_jpg.rf.48ce46a76a7dfdaccaf494f943d3210e.txt (deflated 28%)\n",
            "  adding: content/Currency Detection/train/labels/200_original_IMG_20190422_063751811-jpg_fd063b6c-3622-4c54-89ac-1b6204368e6c_jpg.rf.4247658579f2895f17ae74a2dd9d4dc7.txt (deflated 28%)\n",
            "  adding: content/Currency Detection/train/labels/200_original_IMG_20190422_063814288-jpg_615b7c6f-a49e-41ab-a70a-abac4c2f1362_jpg.rf.ea58772ef4ffefba860ecba3dcb9c9c2.txt (deflated 29%)\n",
            "  adding: content/Currency Detection/train/labels/200_original_IMG_20190422_063745488-jpg_d655991b-96a3-4b1a-8b12-654b314a6bbe_jpg.rf.0df56912bb18078dc464223ae9d9ce44.txt (deflated 29%)\n",
            "  adding: content/Currency Detection/train/labels/500_original_IMG_20190419_211814969-jpg_c0b3e24a-864c-41a8-94d1-a23e72fcef7c_jpg.rf.df0912f9cfc84d56227562c2fb213667.txt (deflated 27%)\n",
            "  adding: content/Currency Detection/train/labels/200_original_IMG_20190422_063753922-jpg_2e24e5e8-441a-45c2-bbc2-e1691b696f46_jpg.rf.898782912cca50bbf89d4291c16e52f8.txt (deflated 9%)\n",
            "  adding: content/Currency Detection/train/labels/500_original_IMG_20190419_212038523-jpg_80ff671f-70d5-402f-bc5b-efba9433ad03_jpg.rf.e4d3a05a009cdcad6928ff27057c515c.txt (deflated 27%)\n",
            "  adding: content/Currency Detection/train/labels/500_original_IMG_20190419_211855317-jpg_39ad04c9-72c6-40c5-a196-70029a4b56b9_jpg.rf.e6f1b1793879a9e1fb1be8b8062bea60.txt (deflated 30%)\n",
            "  adding: content/Currency Detection/train/labels/2000_original_IMG_20190421_140543873-jpg_dc8444b7-cc53-4bc6-9a32-69775b4d9e2e_jpg.rf.30b85f3bb23dd4d2e63e7cccef67a5ad.txt (deflated 19%)\n",
            "  adding: content/Currency Detection/train/labels/500_original_IMG_20190419_211901192-jpg_4e204216-2d57-405c-95bf-1ec1d134f962_jpg.rf.ffed7a6b850f40e3c98f0d1ab5d77b9f.txt (deflated 27%)\n",
            "  adding: content/Currency Detection/train/labels/200_original_IMG_20190422_063808179_HDR-jpg_2eca32aa-5269-4b2c-b61c-c720d552e6e9_jpg.rf.8a099b07c195db6ac3e4e5b820e6df20.txt (deflated 29%)\n",
            "  adding: content/Currency Detection/train/labels/500_original_IMG_20190419_211901192-jpg_4e204216-2d57-405c-95bf-1ec1d134f962_jpg.rf.3c12ca2914d3131b77552fd27b98cfd8.txt (deflated 23%)\n",
            "  adding: content/Currency Detection/train/labels/500_original_IMG_20190419_211942867-jpg_316f5365-bf61-4d92-b490-24906eef0325_jpg.rf.903d95d09bd80d4f6ebbc59897c8bcb6.txt (deflated 29%)\n",
            "  adding: content/Currency Detection/train/labels/500_original_IMG_20190419_211955434-jpg_06282bda-d0ec-42d2-9f29-1c505ec541a6_jpg.rf.ae052e731e9e28ca6417f7e82603ae5d.txt (deflated 27%)\n",
            "  adding: content/Currency Detection/train/labels/500_original_IMG_20190419_212024183-jpg_01263294-386c-448b-a1df-a890ee64ec5a_jpg.rf.f060f7b8d67f42320f206022fe16b2de.txt (deflated 29%)\n",
            "  adding: content/Currency Detection/train/labels/200_original_IMG_20190422_063812516-jpg_ebbf9959-2335-483b-a5bc-3b345d78b865_jpg.rf.ee6362e5cd14bc2f13e6774f952a5e11.txt (deflated 29%)\n",
            "  adding: content/Currency Detection/train/labels/200_original_IMG_20190422_063756088-jpg_b88830b5-8865-45d0-8ed6-feca403878e8_jpg.rf.f1891c53a7c3e79b3a929dd230a69e7c.txt (deflated 29%)\n",
            "  adding: content/Currency Detection/train/labels/500_original_IMG_20190419_211855317-jpg_39ad04c9-72c6-40c5-a196-70029a4b56b9_jpg.rf.fbf1df6c999aade1f2a27e67ca6e41d9.txt (deflated 18%)\n",
            "  adding: content/Currency Detection/train/labels/2000_original_IMG_20190421_140550015-jpg_27ae807c-d3ae-4b57-98c8-2de16bafbfdd_jpg.rf.869121e7eb36e6068eb1b923f70f9511.txt (deflated 28%)\n",
            "  adding: content/Currency Detection/train/labels/200_original_IMG_20190422_063756088-jpg_f4997865-22cc-4bf6-a34f-0fb783551e3a_jpg.rf.397e7439acbcc755f441e4c86f4a0b0f.txt (deflated 22%)\n",
            "  adding: content/Currency Detection/train/labels/500_original_IMG_20190419_211926565-jpg_ceb8e9fd-3ce8-4921-8c6a-4d3ae29da1f1_jpg.rf.6a875591f4b3769a8cfba25fceced2bb.txt (deflated 28%)\n",
            "  adding: content/Currency Detection/train/labels/500_original_IMG_20190419_212024183-jpg_01263294-386c-448b-a1df-a890ee64ec5a_jpg.rf.c0b89d1085db5f2c1cf8061c3f009c39.txt (deflated 19%)\n",
            "  adding: content/Currency Detection/train/labels/200_original_IMG_20190422_063814288-jpg_615b7c6f-a49e-41ab-a70a-abac4c2f1362_jpg.rf.06572cd586fa6f68beb9519df54ebc4f.txt (deflated 16%)\n",
            "  adding: content/Currency Detection/train/labels/200_original_IMG_20190422_063750698-jpg_58df4512-e4ae-4a8e-9010-bdc149d392a9_jpg.rf.5402b913ee9598c62b89b621ca4fae03.txt (deflated 29%)\n",
            "  adding: content/Currency Detection/train/labels/2000_original_IMG_20190421_140550015-jpg_b6162de1-ad56-4445-bb59-d42ecfe66b6e_jpg.rf.122f220aefb73aab95d49070cfa7ed6b.txt (deflated 16%)\n",
            "  adding: content/Currency Detection/train/labels/500_original_IMG_20190419_211938977-jpg_7d50b1ef-1ce8-4105-9275-4fa3bc3fcf28_jpg.rf.77491bfd1a3c7e60449b199889614e5c.txt (deflated 23%)\n",
            "  adding: content/Currency Detection/train/labels/200_original_IMG_20190422_063806102_HDR-jpg_01b8e09c-b942-4154-857d-bb4ab83f9792_jpg.rf.8f6f9bdcf8ca77b67bd1fc90aad17134.txt (deflated 27%)\n",
            "  adding: content/Currency Detection/train/labels/200_original_IMG_20190422_063741712-jpg_fb3fe207-0922-43bd-a4d8-f0ec54aabac4_jpg.rf.e3432333ef4907e682dcf748d1741d69.txt (deflated 29%)\n",
            "  adding: content/Currency Detection/train/labels/500_original_IMG_20190419_212048876-jpg_3ec4c7e8-a9b0-4f38-9e52-aced640488f7_jpg.rf.a934ac4f457f34872322664511bf619c.txt (deflated 29%)\n",
            "  adding: content/Currency Detection/train/labels/500_original_IMG_20190419_212018092-jpg_1c2951b5-3cff-4514-bd57-568bb2e7657f_jpg.rf.906210e3637358886d41205373f2dd68.txt (deflated 28%)\n",
            "  adding: content/Currency Detection/train/labels/500_original_IMG_20190419_212038523-jpg_80ff671f-70d5-402f-bc5b-efba9433ad03_jpg.rf.b36e1c78893c9b1216a93dff4354cb56.txt (deflated 23%)\n",
            "  adding: content/Currency Detection/train/labels/500_original_IMG_20190419_211942867-jpg_3094505a-7373-4c03-a70b-ff2c71d8fe27_jpg.rf.316f19a3766399bc3eedc3c76cb9c0af.txt (deflated 29%)\n",
            "  adding: content/Currency Detection/train/labels/500_original_IMG_20190419_211931363-jpg_e5389838-1178-4075-b425-325370322165_jpg.rf.2f8cd60710e31f17ef51f7c0fbd282e9.txt (deflated 29%)\n",
            "  adding: content/Currency Detection/train/labels/200_original_IMG_20190422_063808179_HDR-jpg_d34664ff-a064-4f2f-a8a8-3cffadfa3dfd_jpg.rf.63b646a23e9a6c3ce3e0a5637f4e0afb.txt (deflated 27%)\n",
            "  adding: content/Currency Detection/train/labels/200_original_IMG_20190422_063814288-jpg_615b7c6f-a49e-41ab-a70a-abac4c2f1362_jpg.rf.48f9bb54f3fdcd4a62daeec4fefa1cbd.txt (deflated 27%)\n",
            "  adding: content/Currency Detection/train/labels/500_original_IMG_20190419_211926565-jpg_ceb8e9fd-3ce8-4921-8c6a-4d3ae29da1f1_jpg.rf.09f2b82bdf24691d8b731894d8e9483f.txt (deflated 16%)\n",
            "  adding: content/Currency Detection/train/labels/200_original_IMG_20190422_063818334_HDR-jpg_3a932d00-8cb5-4198-baf6-63c0c7e8c0e7_jpg.rf.9a3bc8373978b2bd9e442c48afdf8f80.txt (deflated 21%)\n",
            "  adding: content/Currency Detection/train/labels/200_original_IMG_20190422_063806102_HDR-jpg_01b8e09c-b942-4154-857d-bb4ab83f9792_jpg.rf.8012d65849a1a40f2a66bb72cf7173ba.txt (deflated 30%)\n",
            "  adding: content/Currency Detection/train/labels/500_original_IMG_20190419_212048876-jpg_3ec4c7e8-a9b0-4f38-9e52-aced640488f7_jpg.rf.8ddf526d6d8df12fe5ebd57588e1571c.txt (deflated 29%)\n",
            "  adding: content/Currency Detection/train/labels/200_original_IMG_20190422_063745488-jpg_d655991b-96a3-4b1a-8b12-654b314a6bbe_jpg.rf.73aa6e98562fd4d93e0f7604d91652d4.txt (deflated 29%)\n",
            "  adding: content/Currency Detection/train/labels/200_original_IMG_20190422_063812516-jpg_ebbf9959-2335-483b-a5bc-3b345d78b865_jpg.rf.4859db03a85f9a26272caf9d15546b11.txt (deflated 19%)\n",
            "  adding: content/Currency Detection/train/labels/500_original_IMG_20190419_212018092-jpg_48cd8514-9c38-401b-a7ca-c05a6ad8bf4c_jpg.rf.c588f76c96febb04dc0b307733a7fc56.txt (deflated 31%)\n",
            "  adding: content/Currency Detection/train/labels/200_original_IMG_20190422_063815782_HDR-jpg_951c2138-53b1-4c3d-9095-6e04cd73e9a3_jpg.rf.e49eb4382624c9c6278f48e1658e34bc.txt (deflated 13%)\n",
            "  adding: content/Currency Detection/train/labels/2000_original_IMG_20190421_140543873-jpg_dc8444b7-cc53-4bc6-9a32-69775b4d9e2e_jpg.rf.ca06e650b7e606cc32e85366f741c6a1.txt (deflated 29%)\n",
            "  adding: content/Currency Detection/train/labels/500_original_IMG_20190419_211901192-jpg_4e204216-2d57-405c-95bf-1ec1d134f962_jpg.rf.740e86827dac4c315deedd6138ec5aa9.txt (deflated 27%)\n",
            "  adding: content/Currency Detection/train/labels/2000_original_IMG_20190421_140542119-jpg_4b42b398-215d-416d-a1ce-9ad9fb75c8d1_jpg.rf.ee50f2e00cff17b93721913855e8d6fc.txt (deflated 25%)\n",
            "  adding: content/Currency Detection/train/labels/200_original_IMG_20190422_063753922-jpg_21ea99ef-889a-4a37-8d15-61777866a5ed_jpg.rf.6052a1e6b20d8bf67e6e05179f9bbc0a.txt (deflated 29%)\n",
            "  adding: content/Currency Detection/train/labels/500_original_IMG_20190419_211825754-jpg_944e4fc2-a93b-4596-a4d0-0dd2cd305118_jpg.rf.3b97d71443f9184c5d3412df785d066c.txt (deflated 29%)\n",
            "  adding: content/Currency Detection/train/labels/200_original_IMG_20190422_063806102_HDR-jpg_d1658ca4-eb41-42c6-80b0-007c530d4847_jpg.rf.87061365286ff5b3e93fd9d764d5ebfc.txt (deflated 28%)\n",
            "  adding: content/Currency Detection/train/labels/500_original_IMG_20190419_211938977-jpg_7d50b1ef-1ce8-4105-9275-4fa3bc3fcf28_jpg.rf.cd1979f02833b3aa79a3e23b94924859.txt (deflated 23%)\n",
            "  adding: content/Currency Detection/train/labels/500_original_IMG_20190419_211855317-jpg_66ddb818-56db-45ed-af62-22ea100a59d6_jpg.rf.1cfcad16dc7a0a7cb2659a5c5a529c6e.txt (deflated 26%)\n",
            "  adding: content/Currency Detection/train/labels/2000_original_IMG_20190421_140542119-jpg_4b42b398-215d-416d-a1ce-9ad9fb75c8d1_jpg.rf.d9f6658779073900db71af41ce299ba1.txt (deflated 29%)\n",
            "  adding: content/Currency Detection/train/labels/200_original_IMG_20190422_063814288-jpg_e784ace9-82b8-4b9a-b647-1d88a8e1b886_jpg.rf.5bee172629e4ccb2be3667c6f43b22c6.txt (deflated 30%)\n",
            "  adding: content/Currency Detection/train/labels/500_original_IMG_20190419_211855317-jpg_66ddb818-56db-45ed-af62-22ea100a59d6_jpg.rf.05f4126266e1a197b162b07e5d665c39.txt (deflated 29%)\n",
            "  adding: content/Currency Detection/train/labels/500_original_IMG_20190419_212048876-jpg_3ec4c7e8-a9b0-4f38-9e52-aced640488f7_jpg.rf.0e819cfe0ff262533ea9c89fd09b5780.txt (deflated 15%)\n",
            "  adding: content/Currency Detection/train/labels/500_original_IMG_20190419_211931363-jpg_e5389838-1178-4075-b425-325370322165_jpg.rf.39f0487b9741b23b4bb1e61968f9056b.txt (deflated 23%)\n",
            "  adding: content/Currency Detection/train/labels/500_original_IMG_20190419_212048876-jpg_6693621b-77c0-48a6-a82b-492273cf05f7_jpg.rf.4b7634f7e6c7a6adaa9b466573e61474.txt (deflated 18%)\n",
            "  adding: content/Currency Detection/train/labels/200_original_IMG_20190422_063808179_HDR-jpg_2eca32aa-5269-4b2c-b61c-c720d552e6e9_jpg.rf.764c3b5fcb25a81ea5f7d0bda4a8b406.txt (deflated 26%)\n",
            "  adding: content/Currency Detection/train/labels/200_original_IMG_20190422_063806102_HDR-jpg_d1658ca4-eb41-42c6-80b0-007c530d4847_jpg.rf.19435f33e89c8c4083a10c5e26d30bab.txt (deflated 18%)\n",
            "  adding: content/Currency Detection/train/labels/500_original_IMG_20190419_211942867-jpg_d7faa434-8ef5-401d-8a18-bce7a637da07_jpg.rf.79ed041460d87c19902cdb50616e2117.txt (deflated 23%)\n",
            "  adding: content/Currency Detection/train/labels/500_original_IMG_20190419_212004279-jpg_d292e9bc-d635-4261-9e42-aa2b85d2d390_jpg.rf.1c00957956e41cab424ee3b307a49e60.txt (deflated 16%)\n",
            "  adding: content/Currency Detection/train/labels/200_original_IMG_20190422_063815782_HDR-jpg_951c2138-53b1-4c3d-9095-6e04cd73e9a3_jpg.rf.7a343e53bb4a6cf503d211d1e8d4b9e1.txt (deflated 28%)\n",
            "  adding: content/Currency Detection/train/labels/500_original_IMG_20190419_211955434-jpg_2800c204-b875-4d53-8516-daa42ffcbffe_jpg.rf.510534634af697c863c443d39b72a4f8.txt (deflated 33%)\n",
            "  adding: content/Currency Detection/train/labels/500_original_IMG_20190419_211901192-jpg_0ddb01ea-1249-4030-848e-87947e8c140e_jpg.rf.93a53024cff2d3f8a6b5b0f73083526a.txt (deflated 27%)\n",
            "  adding: content/Currency Detection/train/labels/500_original_IMG_20190419_212018092-jpg_572f3c2f-667b-4c3f-9319-316082b3fe35_jpg.rf.823073d0954429ef6bd06f07fe9e3833.txt (deflated 28%)\n",
            "  adding: content/Currency Detection/train/labels/500_original_IMG_20190419_212024183-jpg_31a7728c-2982-45bd-914b-123bbdb79b38_jpg.rf.a242693c998b46decf2afcdb7314949c.txt (deflated 42%)\n",
            "  adding: content/Currency Detection/train/labels/500_original_IMG_20190419_211825754-jpg_7d8a3d1a-f14a-4faf-ac9c-927a50f3b420_jpg.rf.8f998de2f4b8929e0fdcedf68e2165a9.txt (deflated 28%)\n",
            "  adding: content/Currency Detection/train/labels/500_original_IMG_20190419_212024183-jpg_a3b8ebe0-b89c-4d05-8d85-2c2ac8fe52ba_jpg.rf.aab7b3cea05497a218a5ad2baa3afe4a.txt (deflated 29%)\n",
            "  adding: content/Currency Detection/train/labels/500_original_IMG_20190419_211942867-jpg_044fa36b-7803-4e6e-a871-33ffe7e593a5_jpg.rf.cb8f8c3d454e7ff102e6c61d95d22427.txt (deflated 15%)\n",
            "  adding: content/Currency Detection/train/labels/2000_original_IMG_20190421_140550015-jpg_27ae807c-d3ae-4b57-98c8-2de16bafbfdd_jpg.rf.7f5498cf12f28963b262cab7d6ba3aab.txt (deflated 29%)\n",
            "  adding: content/Currency Detection/train/labels/200_original_IMG_20190422_063806102_HDR-jpg_01b8e09c-b942-4154-857d-bb4ab83f9792_jpg.rf.2ea83b12af7bec4327fcf36e3fcc691f.txt (deflated 15%)\n",
            "  adding: content/Currency Detection/train/labels/200_original_IMG_20190422_063753922-jpg_2e24e5e8-441a-45c2-bbc2-e1691b696f46_jpg.rf.7d9e3b6a8a9cc07291134b10d3979f32.txt (deflated 29%)\n",
            "  adding: content/Currency Detection/train/labels/200_original_IMG_20190422_063812516-jpg_68fc5bb1-1f3d-4271-bf49-b3a5428649c5_jpg.rf.a9df2988d5fd104230ca35b8d94be0dd.txt (deflated 18%)\n",
            "  adding: content/Currency Detection/train/labels/200_original_IMG_20190422_063750698-jpg_58df4512-e4ae-4a8e-9010-bdc149d392a9_jpg.rf.bc88fddfc29bb0cc7c083cf61a301c93.txt (deflated 19%)\n",
            "  adding: content/Currency Detection/train/labels/200_original_IMG_20190422_063812516-jpg_5ef17251-cffd-4489-8097-35705b54b06f_jpg.rf.34ffc6e3af81ac957d74b6808012244f.txt (deflated 20%)\n",
            "  adding: content/Currency Detection/train/labels/200_original_IMG_20190422_063806102_HDR-jpg_d1658ca4-eb41-42c6-80b0-007c530d4847_jpg.rf.08bd64662148f63e6bc57ba5fe056592.txt (deflated 27%)\n",
            "  adding: content/Currency Detection/train/labels/200_original_IMG_20190422_063753922-jpg_21ea99ef-889a-4a37-8d15-61777866a5ed_jpg.rf.0fc078366fbc0232dbdc95edafe5856e.txt (deflated 16%)\n",
            "  adding: content/Currency Detection/train/labels/500_original_IMG_20190419_211814969-jpg_e306a4a2-0f79-4e5c-82e5-68f591f5158b_jpg.rf.d8a46074d2f5e8d793302dd0e62ba58d.txt (deflated 28%)\n",
            "  adding: content/Currency Detection/train/labels/200_original_IMG_20190422_063810752_HDR-jpg_755cc580-cdd6-49eb-8ada-61dd9f185306_jpg.rf.29a5af20f49e4dadff67f2ccba4fe798.txt (deflated 26%)\n",
            "  adding: content/Currency Detection/train/labels/500_original_IMG_20190419_211955434-jpg_2057bf55-e636-4655-b4da-7787ada1614e_jpg.rf.3174643b500f6c1043a7b8e78e6a5fa4.txt (deflated 29%)\n",
            "  adding: content/Currency Detection/train/labels/500_original_IMG_20190419_212024183-jpg_31a7728c-2982-45bd-914b-123bbdb79b38_jpg.rf.3807c8774cb8fdabb5101ca29ce54c28.txt (deflated 35%)\n",
            "  adding: content/Currency Detection/train/labels/200_original_IMG_20190422_063756088-jpg_b88830b5-8865-45d0-8ed6-feca403878e8_jpg.rf.ead262d363d488048f4e6c90cc1002a5.txt (deflated 28%)\n",
            "  adding: content/Currency Detection/train/labels/500_original_IMG_20190419_211926565-jpg_ceb8e9fd-3ce8-4921-8c6a-4d3ae29da1f1_jpg.rf.d6906fc7cce4dc3e7b93e99f3aa7f604.txt (deflated 31%)\n",
            "  adding: content/Currency Detection/train/labels/500_original_IMG_20190419_211942867-jpg_1f9f5bd4-d515-45b5-882f-ae7f836595cc_jpg.rf.1fd49bacd39ca526fd37c778664da9d5.txt (deflated 17%)\n",
            "  adding: content/Currency Detection/train/labels/200_original_IMG_20190422_063808179_HDR-jpg_d34664ff-a064-4f2f-a8a8-3cffadfa3dfd_jpg.rf.e1ec12e31d822740e2884acddd477a71.txt (deflated 29%)\n",
            "  adding: content/Currency Detection/train/labels/500_original_IMG_20190419_212018092-jpg_572f3c2f-667b-4c3f-9319-316082b3fe35_jpg.rf.b13eb28bc448cc7ea200cfcca0e060a8.txt (deflated 28%)\n",
            "  adding: content/Currency Detection/train/labels/200_original_IMG_20190422_063751811-jpg_fd063b6c-3622-4c54-89ac-1b6204368e6c_jpg.rf.5aae30b7632e2949fe39f3a065b292bc.txt (deflated 18%)\n",
            "  adding: content/Currency Detection/train/labels/200_original_IMG_20190422_063818334_HDR-jpg_3a932d00-8cb5-4198-baf6-63c0c7e8c0e7_jpg.rf.de7b3d57ac6e676a00b75b65268f86f1.txt (deflated 23%)\n",
            "  adding: content/Currency Detection/train/labels/200_original_IMG_20190422_063815782_HDR-jpg_951c2138-53b1-4c3d-9095-6e04cd73e9a3_jpg.rf.6f5513b3b2e4240e1d1616d7b891cbd1.txt (deflated 31%)\n",
            "  adding: content/Currency Detection/train/labels/500_original_IMG_20190419_211931363-jpg_e5389838-1178-4075-b425-325370322165_jpg.rf.3287bf58b227fdc2f1b84aa81d2e2b59.txt (deflated 24%)\n",
            "  adding: content/Currency Detection/train/labels/500_original_IMG_20190419_212004279-jpg_d292e9bc-d635-4261-9e42-aa2b85d2d390_jpg.rf.9d29c6b900dc0e32c9f62f4a0ac053ff.txt (deflated 29%)\n",
            "  adding: content/Currency Detection/train/labels/500_original_IMG_20190419_211938977-jpg_f31add13-5e38-4194-a5d8-925ba21c2805_jpg.rf.481417f4da28b673c4cb6eafb370fc99.txt (deflated 31%)\n",
            "  adding: content/Currency Detection/train/labels/500_original_IMG_20190419_212038523-jpg_80ff671f-70d5-402f-bc5b-efba9433ad03_jpg.rf.fd1837927300e15d9347428025a8f245.txt (deflated 30%)\n",
            "  adding: content/Currency Detection/train/labels/500_original_IMG_20190419_211955434-jpg_2800c204-b875-4d53-8516-daa42ffcbffe_jpg.rf.d7970f9e2c21bdb08539a0b14190d270.txt (deflated 31%)\n",
            "  adding: content/Currency Detection/train/labels/200_original_IMG_20190422_063812516-jpg_5ef17251-cffd-4489-8097-35705b54b06f_jpg.rf.4b67b4dc4fbe935a612430108ecc0440.txt (deflated 20%)\n",
            "  adding: content/Currency Detection/train/labels/500_original_IMG_20190419_211814969-jpg_c0b3e24a-864c-41a8-94d1-a23e72fcef7c_jpg.rf.59fca68609e7b454b15234c582c25d2d.txt (deflated 23%)\n",
            "  adding: content/Currency Detection/train/labels/200_original_IMG_20190422_063804141_HDR-jpg_f24099cb-2074-40cd-8462-79e20f7c9bce_jpg.rf.041d32b1257530567a951a3de81b7978.txt (deflated 18%)\n",
            "  adding: content/Currency Detection/train/labels/2000_original_IMG_20190421_140550015-jpg_b6162de1-ad56-4445-bb59-d42ecfe66b6e_jpg.rf.6b5a3e875084cbcc894a738a22a587e6.txt (deflated 28%)\n",
            "  adding: content/Currency Detection/train/labels/200_original_IMG_20190422_063814288-jpg_fda22fdb-67f2-4d14-8ad8-501ea5a605ea_jpg.rf.c686fb4f7ebfbd5b8e4c8bad09edc94f.txt (deflated 28%)\n",
            "  adding: content/Currency Detection/train/labels/200_original_IMG_20190422_063810752_HDR-jpg_755cc580-cdd6-49eb-8ada-61dd9f185306_jpg.rf.ba8695a4b3e10f6eeacbdb77cd7a4dd9.txt (deflated 16%)\n",
            "  adding: content/Currency Detection/train/labels/500_original_IMG_20190419_211942867-jpg_bdf7d374-8b1c-4748-9d6f-e319350975c0_jpg.rf.41fb9ca55160ec980468722d49f52c5b.txt (deflated 29%)\n",
            "  adding: content/Currency Detection/train/labels/500_original_IMG_20190419_212018092-jpg_572f3c2f-667b-4c3f-9319-316082b3fe35_jpg.rf.6a795fa55cdd009c025f1073b286be2e.txt (deflated 29%)\n",
            "  adding: content/Currency Detection/train/labels/200_original_IMG_20190422_063810752_HDR-jpg_755cc580-cdd6-49eb-8ada-61dd9f185306_jpg.rf.c48d9be9090ad873d100e04283c2fd8c.txt (deflated 30%)\n",
            "  adding: content/Currency Detection/train/labels/200_original_IMG_20190422_063751811-jpg_fd063b6c-3622-4c54-89ac-1b6204368e6c_jpg.rf.5f68980d0fb0e7790205f8e1b9e9de43.txt (deflated 29%)\n",
            "  adding: content/Currency Detection/train/labels/200_original_IMG_20190422_063753922-jpg_21ea99ef-889a-4a37-8d15-61777866a5ed_jpg.rf.49782acb60c5f15a10fc307948171774.txt (deflated 30%)\n",
            "  adding: content/Currency Detection/train/labels/2000_original_IMG_20190421_140550015-jpg_b6162de1-ad56-4445-bb59-d42ecfe66b6e_jpg.rf.6ce9f51ebe38cb2a23887772e2a2f412.txt (deflated 29%)\n",
            "  adding: content/Currency Detection/train/labels/500_original_IMG_20190419_211942867-jpg_d7faa434-8ef5-401d-8a18-bce7a637da07_jpg.rf.8c053290e5ec80b95fe5f31627d51f9a.txt (deflated 29%)\n",
            "  adding: content/Currency Detection/train/labels/500_original_IMG_20190419_212018092-jpg_48cd8514-9c38-401b-a7ca-c05a6ad8bf4c_jpg.rf.fef7d303e6c06d1951fbea046b280390.txt (deflated 29%)\n",
            "  adding: content/Currency Detection/train/labels/500_original_IMG_20190419_211825754-jpg_c927b1ca-0a80-492f-9716-bf90b91aaa07_jpg.rf.678f70a7d7f6f0940a390ded1137e4f3.txt (deflated 28%)\n",
            "  adding: content/Currency Detection/train/labels/200_original_IMG_20190422_063814288-jpg_fda22fdb-67f2-4d14-8ad8-501ea5a605ea_jpg.rf.1db8f792cb8bd317e4b945041133fdcf.txt (deflated 29%)\n",
            "  adding: content/Currency Detection/train/labels/500_original_IMG_20190419_211814969-jpg_c0b3e24a-864c-41a8-94d1-a23e72fcef7c_jpg.rf.867dc42afc0b28cb18d0483671e16b46.txt (deflated 23%)\n",
            "  adding: content/Currency Detection/train/labels/200_original_IMG_20190422_063814288-jpg_fda22fdb-67f2-4d14-8ad8-501ea5a605ea_jpg.rf.f8f6c1a17662c72c680c9db6789ec3a1.txt (deflated 15%)\n",
            "  adding: content/Currency Detection/train/labels/200_original_IMG_20190422_063810752_HDR-jpg_f02977bd-9372-48b4-a6d2-7c6f67d6d4bf_jpg.rf.3caa32817e92780f3357d138cf868a5d.txt (deflated 27%)\n",
            "  adding: content/Currency Detection/train/labels/2000_original_IMG_20190421_140542119-jpg_4b42b398-215d-416d-a1ce-9ad9fb75c8d1_jpg.rf.4db12a957e3f6a469c1f78ae8681a604.txt (deflated 29%)\n",
            "  adding: content/Currency Detection/train/labels/500_original_IMG_20190419_211814969-jpg_e306a4a2-0f79-4e5c-82e5-68f591f5158b_jpg.rf.b3ffd2f1891869ef05d841d5928d664d.txt (deflated 15%)\n",
            "  adding: content/Currency Detection/train/labels/500_original_IMG_20190419_211938977-jpg_f31add13-5e38-4194-a5d8-925ba21c2805_jpg.rf.f9e22c67dd0dc147199ff09091dd5e9d.txt (deflated 18%)\n",
            "  adding: content/Currency Detection/train/labels/500_original_IMG_20190419_211825754-jpg_b315952b-1418-4fda-91c8-40fdbe6a7dce_jpg.rf.4513e3d995c57c9faedbeef05b9ee625.txt (deflated 29%)\n",
            "  adding: content/Currency Detection/train/labels/500_original_IMG_20190419_212024183-jpg_a3b8ebe0-b89c-4d05-8d85-2c2ac8fe52ba_jpg.rf.24134313505cdcdb1033c4791f2042d9.txt (deflated 19%)\n",
            "  adding: content/Currency Detection/train/labels/500_original_IMG_20190419_212048876-jpg_6693621b-77c0-48a6-a82b-492273cf05f7_jpg.rf.4fba614dfa933a00fde1bf2b09d9eaf8.txt (deflated 29%)\n",
            "  adding: content/Currency Detection/train/labels/200_original_IMG_20190422_063756088-jpg_f4997865-22cc-4bf6-a34f-0fb783551e3a_jpg.rf.973a1f52afbea3d20c8d5ef3be5abfd0.txt (deflated 31%)\n",
            "  adding: content/Currency Detection/train/labels/500_original_IMG_20190419_211901192-jpg_84db7ce5-473d-4675-86dc-9ecd4123e84f_jpg.rf.8e9755f94702c5e8035c2aaa4cc7df23.txt (deflated 29%)\n",
            "  adding: content/Currency Detection/train/images/ (stored 0%)\n",
            "  adding: content/Currency Detection/train/images/200_original_IMG_20190422_063812516-jpg_68fc5bb1-1f3d-4271-bf49-b3a5428649c5_jpg.rf.59a0577673c3b0a5342aa4e1e70d4fb0.jpg (deflated 0%)\n",
            "  adding: content/Currency Detection/train/images/200_original_IMG_20190422_063806102_HDR-jpg_01b8e09c-b942-4154-857d-bb4ab83f9792_jpg.rf.8012d65849a1a40f2a66bb72cf7173ba.jpg (deflated 0%)\n",
            "  adding: content/Currency Detection/train/images/2000_original_IMG_20190421_140542119-jpg_4b42b398-215d-416d-a1ce-9ad9fb75c8d1_jpg.rf.ee50f2e00cff17b93721913855e8d6fc.jpg (deflated 1%)\n",
            "  adding: content/Currency Detection/train/images/200_original_IMG_20190422_063750698-jpg_58df4512-e4ae-4a8e-9010-bdc149d392a9_jpg.rf.bc88fddfc29bb0cc7c083cf61a301c93.jpg (deflated 1%)\n",
            "  adding: content/Currency Detection/train/images/200_original_IMG_20190422_063753922-jpg_21ea99ef-889a-4a37-8d15-61777866a5ed_jpg.rf.49782acb60c5f15a10fc307948171774.jpg (deflated 1%)\n",
            "  adding: content/Currency Detection/train/images/500_original_IMG_20190419_211814969-jpg_e306a4a2-0f79-4e5c-82e5-68f591f5158b_jpg.rf.d8a46074d2f5e8d793302dd0e62ba58d.jpg (deflated 2%)\n",
            "  adding: content/Currency Detection/train/images/200_original_IMG_20190422_063814288-jpg_fda22fdb-67f2-4d14-8ad8-501ea5a605ea_jpg.rf.f8f6c1a17662c72c680c9db6789ec3a1.jpg (deflated 0%)\n",
            "  adding: content/Currency Detection/train/images/500_original_IMG_20190419_212048876-jpg_6693621b-77c0-48a6-a82b-492273cf05f7_jpg.rf.4b7634f7e6c7a6adaa9b466573e61474.jpg (deflated 1%)\n",
            "  adding: content/Currency Detection/train/images/500_original_IMG_20190419_211825754-jpg_b315952b-1418-4fda-91c8-40fdbe6a7dce_jpg.rf.4513e3d995c57c9faedbeef05b9ee625.jpg (deflated 3%)\n",
            "  adding: content/Currency Detection/train/images/2000_original_IMG_20190421_140550015-jpg_27ae807c-d3ae-4b57-98c8-2de16bafbfdd_jpg.rf.06f9844cc3a422ce12dbf9b9e3393446.jpg (deflated 0%)\n",
            "  adding: content/Currency Detection/train/images/500_original_IMG_20190419_212024183-jpg_a3b8ebe0-b89c-4d05-8d85-2c2ac8fe52ba_jpg.rf.24134313505cdcdb1033c4791f2042d9.jpg (deflated 1%)\n",
            "  adding: content/Currency Detection/train/images/2000_original_IMG_20190421_140550015-jpg_b6162de1-ad56-4445-bb59-d42ecfe66b6e_jpg.rf.122f220aefb73aab95d49070cfa7ed6b.jpg (deflated 1%)\n",
            "  adding: content/Currency Detection/train/images/200_original_IMG_20190422_063804141_HDR-jpg_f24099cb-2074-40cd-8462-79e20f7c9bce_jpg.rf.041d32b1257530567a951a3de81b7978.jpg (deflated 0%)\n",
            "  adding: content/Currency Detection/train/images/200_original_IMG_20190422_063806102_HDR-jpg_d1658ca4-eb41-42c6-80b0-007c530d4847_jpg.rf.87061365286ff5b3e93fd9d764d5ebfc.jpg (deflated 0%)\n",
            "  adding: content/Currency Detection/train/images/500_original_IMG_20190419_211942867-jpg_1f9f5bd4-d515-45b5-882f-ae7f836595cc_jpg.rf.c44364228ff692a519ee236775c143e8.jpg (deflated 1%)\n",
            "  adding: content/Currency Detection/train/images/500_original_IMG_20190419_212024183-jpg_31a7728c-2982-45bd-914b-123bbdb79b38_jpg.rf.a242693c998b46decf2afcdb7314949c.jpg (deflated 1%)\n",
            "  adding: content/Currency Detection/train/images/500_original_IMG_20190419_212048876-jpg_3ec4c7e8-a9b0-4f38-9e52-aced640488f7_jpg.rf.a934ac4f457f34872322664511bf619c.jpg (deflated 2%)\n",
            "  adding: content/Currency Detection/train/images/500_original_IMG_20190419_212038523-jpg_80ff671f-70d5-402f-bc5b-efba9433ad03_jpg.rf.e4d3a05a009cdcad6928ff27057c515c.jpg (deflated 1%)\n",
            "  adding: content/Currency Detection/train/images/500_original_IMG_20190419_212024183-jpg_01263294-386c-448b-a1df-a890ee64ec5a_jpg.rf.c0b89d1085db5f2c1cf8061c3f009c39.jpg (deflated 1%)\n",
            "  adding: content/Currency Detection/train/images/500_original_IMG_20190419_212048876-jpg_3ec4c7e8-a9b0-4f38-9e52-aced640488f7_jpg.rf.0e819cfe0ff262533ea9c89fd09b5780.jpg (deflated 1%)\n",
            "  adding: content/Currency Detection/train/images/500_original_IMG_20190419_212024183-jpg_a3b8ebe0-b89c-4d05-8d85-2c2ac8fe52ba_jpg.rf.71de447bb1c33d6e102eed807a537abc.jpg (deflated 1%)\n",
            "  adding: content/Currency Detection/train/images/200_original_IMG_20190422_063756088-jpg_b88830b5-8865-45d0-8ed6-feca403878e8_jpg.rf.63b548092c9d7845a1fe2e8f0fd4fd78.jpg (deflated 0%)\n",
            "  adding: content/Currency Detection/train/images/500_original_IMG_20190419_211955434-jpg_2800c204-b875-4d53-8516-daa42ffcbffe_jpg.rf.542bb76368f45be8a5b8b15c13227ae8.jpg (deflated 0%)\n",
            "  adding: content/Currency Detection/train/images/500_original_IMG_20190419_211855317-jpg_66ddb818-56db-45ed-af62-22ea100a59d6_jpg.rf.1cfcad16dc7a0a7cb2659a5c5a529c6e.jpg (deflated 2%)\n",
            "  adding: content/Currency Detection/train/images/500_original_IMG_20190419_211938977-jpg_7d50b1ef-1ce8-4105-9275-4fa3bc3fcf28_jpg.rf.cd1979f02833b3aa79a3e23b94924859.jpg (deflated 0%)\n",
            "  adding: content/Currency Detection/train/images/200_original_IMG_20190422_063818334_HDR-jpg_3a932d00-8cb5-4198-baf6-63c0c7e8c0e7_jpg.rf.9a3bc8373978b2bd9e442c48afdf8f80.jpg (deflated 1%)\n",
            "  adding: content/Currency Detection/train/images/500_original_IMG_20190419_212018092-jpg_48cd8514-9c38-401b-a7ca-c05a6ad8bf4c_jpg.rf.fef7d303e6c06d1951fbea046b280390.jpg (deflated 2%)\n",
            "  adding: content/Currency Detection/train/images/500_original_IMG_20190419_212024183-jpg_01263294-386c-448b-a1df-a890ee64ec5a_jpg.rf.f060f7b8d67f42320f206022fe16b2de.jpg (deflated 1%)\n",
            "  adding: content/Currency Detection/train/images/500_original_IMG_20190419_212018092-jpg_33ecf306-5929-4989-8676-440b7410f93d_jpg.rf.6a2bc26d436e43e5df97567094e46395.jpg (deflated 1%)\n",
            "  adding: content/Currency Detection/train/images/200_original_IMG_20190422_063741712-jpg_fb3fe207-0922-43bd-a4d8-f0ec54aabac4_jpg.rf.1bafda1dc63c5d57c57dd223878ac56d.jpg (deflated 1%)\n",
            "  adding: content/Currency Detection/train/images/500_original_IMG_20190419_211955434-jpg_06282bda-d0ec-42d2-9f29-1c505ec541a6_jpg.rf.48ce46a76a7dfdaccaf494f943d3210e.jpg (deflated 0%)\n",
            "  adding: content/Currency Detection/train/images/500_original_IMG_20190419_211825754-jpg_7d8a3d1a-f14a-4faf-ac9c-927a50f3b420_jpg.rf.8f998de2f4b8929e0fdcedf68e2165a9.jpg (deflated 3%)\n",
            "  adding: content/Currency Detection/train/images/500_original_IMG_20190419_212018092-jpg_1c2951b5-3cff-4514-bd57-568bb2e7657f_jpg.rf.906210e3637358886d41205373f2dd68.jpg (deflated 1%)\n",
            "  adding: content/Currency Detection/train/images/500_original_IMG_20190419_211814969-jpg_e306a4a2-0f79-4e5c-82e5-68f591f5158b_jpg.rf.b3ffd2f1891869ef05d841d5928d664d.jpg (deflated 1%)\n",
            "  adding: content/Currency Detection/train/images/200_original_IMG_20190422_063814288-jpg_615b7c6f-a49e-41ab-a70a-abac4c2f1362_jpg.rf.48f9bb54f3fdcd4a62daeec4fefa1cbd.jpg (deflated 0%)\n",
            "  adding: content/Currency Detection/train/images/500_original_IMG_20190419_211955434-jpg_06282bda-d0ec-42d2-9f29-1c505ec541a6_jpg.rf.3a8d04dd5e8861a6df51bdee6cdc6e24.jpg (deflated 0%)\n",
            "  adding: content/Currency Detection/train/images/500_original_IMG_20190419_211814969-jpg_a96be387-b244-4261-ace5-39e693630e37_jpg.rf.7f0db7291f71f096639e0c790f15b25d.jpg (deflated 3%)\n",
            "  adding: content/Currency Detection/train/images/500_original_IMG_20190419_211942867-jpg_d7faa434-8ef5-401d-8a18-bce7a637da07_jpg.rf.8c053290e5ec80b95fe5f31627d51f9a.jpg (deflated 0%)\n",
            "  adding: content/Currency Detection/train/images/200_original_IMG_20190422_063808179_HDR-jpg_d34664ff-a064-4f2f-a8a8-3cffadfa3dfd_jpg.rf.e1ec12e31d822740e2884acddd477a71.jpg (deflated 1%)\n",
            "  adding: content/Currency Detection/train/images/500_original_IMG_20190419_211938977-jpg_f31add13-5e38-4194-a5d8-925ba21c2805_jpg.rf.f49fdd5600b4ca1cfcf04dcbeb41bb3c.jpg (deflated 0%)\n",
            "  adding: content/Currency Detection/train/images/200_original_IMG_20190422_063810752_HDR-jpg_f02977bd-9372-48b4-a6d2-7c6f67d6d4bf_jpg.rf.3caa32817e92780f3357d138cf868a5d.jpg (deflated 0%)\n",
            "  adding: content/Currency Detection/train/images/200_original_IMG_20190422_063814288-jpg_fda22fdb-67f2-4d14-8ad8-501ea5a605ea_jpg.rf.c686fb4f7ebfbd5b8e4c8bad09edc94f.jpg (deflated 0%)\n",
            "  adding: content/Currency Detection/train/images/500_original_IMG_20190419_212048876-jpg_6693621b-77c0-48a6-a82b-492273cf05f7_jpg.rf.bbb2b756c340f8f840fed29c38eb1940.jpg (deflated 2%)\n",
            "  adding: content/Currency Detection/train/images/2000_original_IMG_20190421_140550015-jpg_b6162de1-ad56-4445-bb59-d42ecfe66b6e_jpg.rf.6b5a3e875084cbcc894a738a22a587e6.jpg (deflated 1%)\n",
            "  adding: content/Currency Detection/train/images/500_original_IMG_20190419_212018092-jpg_1c2951b5-3cff-4514-bd57-568bb2e7657f_jpg.rf.096429003e5023bf8f436a6052f1de7d.jpg (deflated 1%)\n",
            "  adding: content/Currency Detection/train/images/200_original_IMG_20190422_063812516-jpg_5ef17251-cffd-4489-8097-35705b54b06f_jpg.rf.4b67b4dc4fbe935a612430108ecc0440.jpg (deflated 0%)\n",
            "  adding: content/Currency Detection/train/images/500_original_IMG_20190419_211901192-jpg_4e204216-2d57-405c-95bf-1ec1d134f962_jpg.rf.740e86827dac4c315deedd6138ec5aa9.jpg (deflated 2%)\n",
            "  adding: content/Currency Detection/train/images/500_original_IMG_20190419_211942867-jpg_1f9f5bd4-d515-45b5-882f-ae7f836595cc_jpg.rf.a7fc29465f0b44c23bfdf324e47cb7c9.jpg (deflated 0%)\n",
            "  adding: content/Currency Detection/train/images/2000_original_IMG_20190421_140542119-jpg_4b42b398-215d-416d-a1ce-9ad9fb75c8d1_jpg.rf.4db12a957e3f6a469c1f78ae8681a604.jpg (deflated 0%)\n",
            "  adding: content/Currency Detection/train/images/2000_original_IMG_20190421_140542119-jpg_4b42b398-215d-416d-a1ce-9ad9fb75c8d1_jpg.rf.d9f6658779073900db71af41ce299ba1.jpg (deflated 1%)\n",
            "  adding: content/Currency Detection/train/images/500_original_IMG_20190419_212018092-jpg_1c2951b5-3cff-4514-bd57-568bb2e7657f_jpg.rf.7d49d57405003a4ca9a1f9cf4ca10030.jpg (deflated 1%)\n",
            "  adding: content/Currency Detection/train/images/500_original_IMG_20190419_212024183-jpg_a3b8ebe0-b89c-4d05-8d85-2c2ac8fe52ba_jpg.rf.aab7b3cea05497a218a5ad2baa3afe4a.jpg (deflated 2%)\n",
            "  adding: content/Currency Detection/train/images/200_original_IMG_20190422_063815782_HDR-jpg_951c2138-53b1-4c3d-9095-6e04cd73e9a3_jpg.rf.6f5513b3b2e4240e1d1616d7b891cbd1.jpg (deflated 0%)\n",
            "  adding: content/Currency Detection/train/images/500_original_IMG_20190419_211855317-jpg_66ddb818-56db-45ed-af62-22ea100a59d6_jpg.rf.def10fb7cc3b2046c86ca9696eaa5aae.jpg (deflated 3%)\n",
            "  adding: content/Currency Detection/train/images/500_original_IMG_20190419_211901192-jpg_84db7ce5-473d-4675-86dc-9ecd4123e84f_jpg.rf.8e9755f94702c5e8035c2aaa4cc7df23.jpg (deflated 3%)\n",
            "  adding: content/Currency Detection/train/images/200_original_IMG_20190422_063812516-jpg_68fc5bb1-1f3d-4271-bf49-b3a5428649c5_jpg.rf.a9df2988d5fd104230ca35b8d94be0dd.jpg (deflated 0%)\n",
            "  adding: content/Currency Detection/train/images/500_original_IMG_20190419_211938977-jpg_7d50b1ef-1ce8-4105-9275-4fa3bc3fcf28_jpg.rf.77491bfd1a3c7e60449b199889614e5c.jpg (deflated 0%)\n",
            "  adding: content/Currency Detection/train/images/500_original_IMG_20190419_211855317-jpg_39ad04c9-72c6-40c5-a196-70029a4b56b9_jpg.rf.05aeb38898599735308242d6908a3624.jpg (deflated 2%)\n",
            "  adding: content/Currency Detection/train/images/500_original_IMG_20190419_211942867-jpg_316f5365-bf61-4d92-b490-24906eef0325_jpg.rf.903d95d09bd80d4f6ebbc59897c8bcb6.jpg (deflated 0%)\n",
            "  adding: content/Currency Detection/train/images/500_original_IMG_20190419_211901192-jpg_0ddb01ea-1249-4030-848e-87947e8c140e_jpg.rf.93a53024cff2d3f8a6b5b0f73083526a.jpg (deflated 3%)\n",
            "  adding: content/Currency Detection/train/images/500_original_IMG_20190419_211926565-jpg_ceb8e9fd-3ce8-4921-8c6a-4d3ae29da1f1_jpg.rf.09f2b82bdf24691d8b731894d8e9483f.jpg (deflated 0%)\n",
            "  adding: content/Currency Detection/train/images/200_original_IMG_20190422_063756088-jpg_f4997865-22cc-4bf6-a34f-0fb783551e3a_jpg.rf.af216fcfee321729db6bac25bea66106.jpg (deflated 1%)\n",
            "  adding: content/Currency Detection/train/images/500_original_IMG_20190419_212024183-jpg_01263294-386c-448b-a1df-a890ee64ec5a_jpg.rf.41231bb221b3bdf1abefbe95cc68822f.jpg (deflated 1%)\n",
            "  adding: content/Currency Detection/train/images/200_original_IMG_20190422_063808179_HDR-jpg_d34664ff-a064-4f2f-a8a8-3cffadfa3dfd_jpg.rf.63b646a23e9a6c3ce3e0a5637f4e0afb.jpg (deflated 0%)\n",
            "  adding: content/Currency Detection/train/images/200_original_IMG_20190422_063808179_HDR-jpg_2eca32aa-5269-4b2c-b61c-c720d552e6e9_jpg.rf.3a0d23d92b71bd00c79fbbc7e3c0e009.jpg (deflated 0%)\n",
            "  adding: content/Currency Detection/train/images/500_original_IMG_20190419_211942867-jpg_d7faa434-8ef5-401d-8a18-bce7a637da07_jpg.rf.894ea35ec6147b94cd9aaf8d8212b9fc.jpg (deflated 0%)\n",
            "  adding: content/Currency Detection/train/images/500_original_IMG_20190419_211955434-jpg_06282bda-d0ec-42d2-9f29-1c505ec541a6_jpg.rf.ae052e731e9e28ca6417f7e82603ae5d.jpg (deflated 0%)\n",
            "  adding: content/Currency Detection/train/images/500_original_IMG_20190419_211901192-jpg_4e204216-2d57-405c-95bf-1ec1d134f962_jpg.rf.3c12ca2914d3131b77552fd27b98cfd8.jpg (deflated 2%)\n",
            "  adding: content/Currency Detection/train/images/500_original_IMG_20190419_211825754-jpg_c927b1ca-0a80-492f-9716-bf90b91aaa07_jpg.rf.96e8aa1c82a3ab3a41002f3da1da0152.jpg (deflated 2%)\n",
            "  adding: content/Currency Detection/train/images/500_original_IMG_20190419_211901192-jpg_4e204216-2d57-405c-95bf-1ec1d134f962_jpg.rf.ffed7a6b850f40e3c98f0d1ab5d77b9f.jpg (deflated 2%)\n",
            "  adding: content/Currency Detection/train/images/500_original_IMG_20190419_211901192-jpg_0ddb01ea-1249-4030-848e-87947e8c140e_jpg.rf.17a8d6b6860cca89964b3821489989ef.jpg (deflated 2%)\n",
            "  adding: content/Currency Detection/train/images/500_original_IMG_20190419_211825754-jpg_b315952b-1418-4fda-91c8-40fdbe6a7dce_jpg.rf.a023e61642a532b85df419ed638fc782.jpg (deflated 2%)\n",
            "  adding: content/Currency Detection/train/images/500_original_IMG_20190419_211955434-jpg_2057bf55-e636-4655-b4da-7787ada1614e_jpg.rf.3174643b500f6c1043a7b8e78e6a5fa4.jpg (deflated 1%)\n",
            "  adding: content/Currency Detection/train/images/200_original_IMG_20190422_063810752_HDR-jpg_f02977bd-9372-48b4-a6d2-7c6f67d6d4bf_jpg.rf.8de34b0e23da46ade63c5893a1048e49.jpg (deflated 0%)\n",
            "  adding: content/Currency Detection/train/images/500_original_IMG_20190419_211942867-jpg_044fa36b-7803-4e6e-a871-33ffe7e593a5_jpg.rf.cb8f8c3d454e7ff102e6c61d95d22427.jpg (deflated 0%)\n",
            "  adding: content/Currency Detection/train/images/500_original_IMG_20190419_211814969-jpg_a96be387-b244-4261-ace5-39e693630e37_jpg.rf.ef9856f520c675b6655db4d897efe138.jpg (deflated 1%)\n",
            "  adding: content/Currency Detection/train/images/200_original_IMG_20190422_063745488-jpg_d655991b-96a3-4b1a-8b12-654b314a6bbe_jpg.rf.0df56912bb18078dc464223ae9d9ce44.jpg (deflated 1%)\n",
            "  adding: content/Currency Detection/train/images/500_original_IMG_20190419_212004279-jpg_d292e9bc-d635-4261-9e42-aa2b85d2d390_jpg.rf.fe39ce3d610de774bbda4b0752dce967.jpg (deflated 0%)\n",
            "  adding: content/Currency Detection/train/images/500_original_IMG_20190419_211938977-jpg_f31add13-5e38-4194-a5d8-925ba21c2805_jpg.rf.481417f4da28b673c4cb6eafb370fc99.jpg (deflated 1%)\n",
            "  adding: content/Currency Detection/train/images/500_original_IMG_20190419_212024183-jpg_31a7728c-2982-45bd-914b-123bbdb79b38_jpg.rf.ec01b65dbbd5e4be12918ebe08c8ccc5.jpg (deflated 1%)\n",
            "  adding: content/Currency Detection/train/images/200_original_IMG_20190422_063810752_HDR-jpg_755cc580-cdd6-49eb-8ada-61dd9f185306_jpg.rf.ba8695a4b3e10f6eeacbdb77cd7a4dd9.jpg (deflated 0%)\n",
            "  adding: content/Currency Detection/train/images/500_original_IMG_20190419_211901192-jpg_84db7ce5-473d-4675-86dc-9ecd4123e84f_jpg.rf.91b5da4876bbed9639d994014b942e76.jpg (deflated 3%)\n",
            "  adding: content/Currency Detection/train/images/500_original_IMG_20190419_211931363-jpg_e5389838-1178-4075-b425-325370322165_jpg.rf.2f8cd60710e31f17ef51f7c0fbd282e9.jpg (deflated 1%)\n",
            "  adding: content/Currency Detection/train/images/500_original_IMG_20190419_212018092-jpg_48cd8514-9c38-401b-a7ca-c05a6ad8bf4c_jpg.rf.c588f76c96febb04dc0b307733a7fc56.jpg (deflated 1%)\n",
            "  adding: content/Currency Detection/train/images/500_original_IMG_20190419_211825754-jpg_c927b1ca-0a80-492f-9716-bf90b91aaa07_jpg.rf.36dfc006b6b033fbbc422bf0db91924e.jpg (deflated 2%)\n",
            "  adding: content/Currency Detection/train/images/200_original_IMG_20190422_063741712-jpg_fb3fe207-0922-43bd-a4d8-f0ec54aabac4_jpg.rf.db9da89537c58dd37620adf6ec35493c.jpg (deflated 1%)\n",
            "  adding: content/Currency Detection/train/images/500_original_IMG_20190419_211955434-jpg_2057bf55-e636-4655-b4da-7787ada1614e_jpg.rf.788f3269104fc343147ecddb96cbc97f.jpg (deflated 0%)\n",
            "  adding: content/Currency Detection/train/images/500_original_IMG_20190419_211825754-jpg_b315952b-1418-4fda-91c8-40fdbe6a7dce_jpg.rf.75697fd14e688e7ffedabfe08227a4fb.jpg (deflated 3%)\n",
            "  adding: content/Currency Detection/train/images/500_original_IMG_20190419_211955434-jpg_2800c204-b875-4d53-8516-daa42ffcbffe_jpg.rf.510534634af697c863c443d39b72a4f8.jpg (deflated 0%)\n",
            "  adding: content/Currency Detection/train/images/500_original_IMG_20190419_211955434-jpg_2800c204-b875-4d53-8516-daa42ffcbffe_jpg.rf.d7970f9e2c21bdb08539a0b14190d270.jpg (deflated 0%)\n",
            "  adding: content/Currency Detection/train/images/500_original_IMG_20190419_211938977-jpg_cfcc9cfb-5bb5-4feb-929e-21207c8a2004_jpg.rf.dce1c8e33f2c7b1938f0846fcb4c2221.jpg (deflated 0%)\n",
            "  adding: content/Currency Detection/train/images/500_original_IMG_20190419_212018092-jpg_572f3c2f-667b-4c3f-9319-316082b3fe35_jpg.rf.b13eb28bc448cc7ea200cfcca0e060a8.jpg (deflated 1%)\n",
            "  adding: content/Currency Detection/train/images/2000_original_IMG_20190421_140543873-jpg_dc8444b7-cc53-4bc6-9a32-69775b4d9e2e_jpg.rf.0e2d7a099c60424376bc245f9dacc1bb.jpg (deflated 1%)\n",
            "  adding: content/Currency Detection/train/images/200_original_IMG_20190422_063812516-jpg_5ef17251-cffd-4489-8097-35705b54b06f_jpg.rf.b0a937d25ec12d9e098415ed11cad884.jpg (deflated 0%)\n",
            "  adding: content/Currency Detection/train/images/200_original_IMG_20190422_063756088-jpg_f4997865-22cc-4bf6-a34f-0fb783551e3a_jpg.rf.973a1f52afbea3d20c8d5ef3be5abfd0.jpg (deflated 0%)\n",
            "  adding: content/Currency Detection/train/images/500_original_IMG_20190419_211825754-jpg_7d8a3d1a-f14a-4faf-ac9c-927a50f3b420_jpg.rf.39f0b0795d4365717a7bda1a57e40208.jpg (deflated 3%)\n",
            "  adding: content/Currency Detection/train/images/2000_original_IMG_20190421_140543873-jpg_dc8444b7-cc53-4bc6-9a32-69775b4d9e2e_jpg.rf.30b85f3bb23dd4d2e63e7cccef67a5ad.jpg (deflated 1%)\n",
            "  adding: content/Currency Detection/train/images/500_original_IMG_20190419_211942867-jpg_d7faa434-8ef5-401d-8a18-bce7a637da07_jpg.rf.79ed041460d87c19902cdb50616e2117.jpg (deflated 0%)\n",
            "  adding: content/Currency Detection/train/images/500_original_IMG_20190419_211931363-jpg_e5389838-1178-4075-b425-325370322165_jpg.rf.39f0487b9741b23b4bb1e61968f9056b.jpg (deflated 0%)\n",
            "  adding: content/Currency Detection/train/images/500_original_IMG_20190419_212004279-jpg_d292e9bc-d635-4261-9e42-aa2b85d2d390_jpg.rf.1c00957956e41cab424ee3b307a49e60.jpg (deflated 0%)\n",
            "  adding: content/Currency Detection/train/images/200_original_IMG_20190422_063753922-jpg_21ea99ef-889a-4a37-8d15-61777866a5ed_jpg.rf.6052a1e6b20d8bf67e6e05179f9bbc0a.jpg (deflated 1%)\n",
            "  adding: content/Currency Detection/train/images/2000_original_IMG_20190421_140550015-jpg_27ae807c-d3ae-4b57-98c8-2de16bafbfdd_jpg.rf.869121e7eb36e6068eb1b923f70f9511.jpg (deflated 2%)\n",
            "  adding: content/Currency Detection/train/images/200_original_IMG_20190422_063806102_HDR-jpg_d1658ca4-eb41-42c6-80b0-007c530d4847_jpg.rf.08bd64662148f63e6bc57ba5fe056592.jpg (deflated 0%)\n",
            "  adding: content/Currency Detection/train/images/200_original_IMG_20190422_063814288-jpg_e784ace9-82b8-4b9a-b647-1d88a8e1b886_jpg.rf.0037acf5eef6fa6219cc7cf682710924.jpg (deflated 0%)\n",
            "  adding: content/Currency Detection/train/images/500_original_IMG_20190419_211855317-jpg_39ad04c9-72c6-40c5-a196-70029a4b56b9_jpg.rf.e6f1b1793879a9e1fb1be8b8062bea60.jpg (deflated 2%)\n",
            "  adding: content/Currency Detection/train/images/200_original_IMG_20190422_063745488-jpg_d655991b-96a3-4b1a-8b12-654b314a6bbe_jpg.rf.53a61439c67726a31bd786f6e478d6ea.jpg (deflated 0%)\n",
            "  adding: content/Currency Detection/train/images/500_original_IMG_20190419_211942867-jpg_3094505a-7373-4c03-a70b-ff2c71d8fe27_jpg.rf.316f19a3766399bc3eedc3c76cb9c0af.jpg (deflated 0%)\n",
            "  adding: content/Currency Detection/train/images/500_original_IMG_20190419_211825754-jpg_944e4fc2-a93b-4596-a4d0-0dd2cd305118_jpg.rf.cb80532b1ff11fab716d296d64f39298.jpg (deflated 2%)\n",
            "  adding: content/Currency Detection/train/images/2000_original_IMG_20190421_140550015-jpg_b6162de1-ad56-4445-bb59-d42ecfe66b6e_jpg.rf.6ce9f51ebe38cb2a23887772e2a2f412.jpg (deflated 1%)\n",
            "  adding: content/Currency Detection/train/images/500_original_IMG_20190419_211825754-jpg_7d8a3d1a-f14a-4faf-ac9c-927a50f3b420_jpg.rf.94a9a08e0f9b19b3e549d244e014fc4e.jpg (deflated 2%)\n",
            "  adding: content/Currency Detection/train/images/500_original_IMG_20190419_211942867-jpg_3094505a-7373-4c03-a70b-ff2c71d8fe27_jpg.rf.439561f00b788b5bab7b067d34ef4056.jpg (deflated 0%)\n",
            "  adding: content/Currency Detection/train/images/500_original_IMG_20190419_211942867-jpg_044fa36b-7803-4e6e-a871-33ffe7e593a5_jpg.rf.6a168dc981b4efcbe0fcc9f720608a24.jpg (deflated 0%)\n",
            "  adding: content/Currency Detection/train/images/200_original_IMG_20190422_063818334_HDR-jpg_3a932d00-8cb5-4198-baf6-63c0c7e8c0e7_jpg.rf.61cdd808c4f3e633fa590f5aad14e916.jpg (deflated 0%)\n",
            "  adding: content/Currency Detection/train/images/500_original_IMG_20190419_211942867-jpg_bdf7d374-8b1c-4748-9d6f-e319350975c0_jpg.rf.68add41add3e124801200e34251e1756.jpg (deflated 1%)\n",
            "  adding: content/Currency Detection/train/images/200_original_IMG_20190422_063814288-jpg_615b7c6f-a49e-41ab-a70a-abac4c2f1362_jpg.rf.ea58772ef4ffefba860ecba3dcb9c9c2.jpg (deflated 0%)\n",
            "  adding: content/Currency Detection/train/images/500_original_IMG_20190419_212018092-jpg_33ecf306-5929-4989-8676-440b7410f93d_jpg.rf.bfcc98addf7294cdb7f46a49843384e4.jpg (deflated 1%)\n",
            "  adding: content/Currency Detection/train/images/500_original_IMG_20190419_211955434-jpg_2057bf55-e636-4655-b4da-7787ada1614e_jpg.rf.5e6ee10efa71e192c942504a56266f0d.jpg (deflated 0%)\n",
            "  adding: content/Currency Detection/train/images/200_original_IMG_20190422_063808179_HDR-jpg_2eca32aa-5269-4b2c-b61c-c720d552e6e9_jpg.rf.8a099b07c195db6ac3e4e5b820e6df20.jpg (deflated 1%)\n",
            "  adding: content/Currency Detection/train/images/200_original_IMG_20190422_063810752_HDR-jpg_f02977bd-9372-48b4-a6d2-7c6f67d6d4bf_jpg.rf.d409294ee5482a41d26cd64ffb430360.jpg (deflated 0%)\n",
            "  adding: content/Currency Detection/train/images/200_original_IMG_20190422_063810752_HDR-jpg_755cc580-cdd6-49eb-8ada-61dd9f185306_jpg.rf.c48d9be9090ad873d100e04283c2fd8c.jpg (deflated 0%)\n",
            "  adding: content/Currency Detection/train/images/500_original_IMG_20190419_211931363-jpg_e5389838-1178-4075-b425-325370322165_jpg.rf.3287bf58b227fdc2f1b84aa81d2e2b59.jpg (deflated 1%)\n",
            "  adding: content/Currency Detection/train/images/200_original_IMG_20190422_063814288-jpg_615b7c6f-a49e-41ab-a70a-abac4c2f1362_jpg.rf.06572cd586fa6f68beb9519df54ebc4f.jpg (deflated 0%)\n",
            "  adding: content/Currency Detection/train/images/200_original_IMG_20190422_063808179_HDR-jpg_d34664ff-a064-4f2f-a8a8-3cffadfa3dfd_jpg.rf.7d3ae64ba086d4e6608b7d7e8d5601f3.jpg (deflated 0%)\n",
            "  adding: content/Currency Detection/train/images/500_original_IMG_20190419_212018092-jpg_33ecf306-5929-4989-8676-440b7410f93d_jpg.rf.8934f8c03087aba5a351978b26326e21.jpg (deflated 1%)\n",
            "  adding: content/Currency Detection/train/images/500_original_IMG_20190419_212018092-jpg_572f3c2f-667b-4c3f-9319-316082b3fe35_jpg.rf.6a795fa55cdd009c025f1073b286be2e.jpg (deflated 2%)\n",
            "  adding: content/Currency Detection/train/images/500_original_IMG_20190419_211938977-jpg_cfcc9cfb-5bb5-4feb-929e-21207c8a2004_jpg.rf.d262138f4a04e106d3a320d1c7946381.jpg (deflated 0%)\n",
            "  adding: content/Currency Detection/train/images/500_original_IMG_20190419_211814969-jpg_c0b3e24a-864c-41a8-94d1-a23e72fcef7c_jpg.rf.867dc42afc0b28cb18d0483671e16b46.jpg (deflated 1%)\n",
            "  adding: content/Currency Detection/train/images/200_original_IMG_20190422_063745488-jpg_d655991b-96a3-4b1a-8b12-654b314a6bbe_jpg.rf.73aa6e98562fd4d93e0f7604d91652d4.jpg (deflated 0%)\n",
            "  adding: content/Currency Detection/train/images/200_original_IMG_20190422_063753922-jpg_21ea99ef-889a-4a37-8d15-61777866a5ed_jpg.rf.0fc078366fbc0232dbdc95edafe5856e.jpg (deflated 0%)\n",
            "  adding: content/Currency Detection/train/images/200_original_IMG_20190422_063750698-jpg_58df4512-e4ae-4a8e-9010-bdc149d392a9_jpg.rf.768b21bb79a22dca48b7382ae387daac.jpg (deflated 1%)\n",
            "  adding: content/Currency Detection/train/images/200_original_IMG_20190422_063812516-jpg_5ef17251-cffd-4489-8097-35705b54b06f_jpg.rf.34ffc6e3af81ac957d74b6808012244f.jpg (deflated 1%)\n",
            "  adding: content/Currency Detection/train/images/500_original_IMG_20190419_212004279-jpg_d292e9bc-d635-4261-9e42-aa2b85d2d390_jpg.rf.9d29c6b900dc0e32c9f62f4a0ac053ff.jpg (deflated 0%)\n",
            "  adding: content/Currency Detection/train/images/200_original_IMG_20190422_063741712-jpg_fb3fe207-0922-43bd-a4d8-f0ec54aabac4_jpg.rf.e3432333ef4907e682dcf748d1741d69.jpg (deflated 1%)\n",
            "  adding: content/Currency Detection/train/images/500_original_IMG_20190419_211942867-jpg_3094505a-7373-4c03-a70b-ff2c71d8fe27_jpg.rf.1f3f7be710121e0d669d9fa3be364fd3.jpg (deflated 0%)\n",
            "  adding: content/Currency Detection/train/images/500_original_IMG_20190419_211901192-jpg_0ddb01ea-1249-4030-848e-87947e8c140e_jpg.rf.346480b7e5f62b7359ed5694c85e2aed.jpg (deflated 2%)\n",
            "  adding: content/Currency Detection/train/images/500_original_IMG_20190419_211942867-jpg_044fa36b-7803-4e6e-a871-33ffe7e593a5_jpg.rf.da8deed6c882f5ab4cf107dadfb1c607.jpg (deflated 0%)\n",
            "  adding: content/Currency Detection/train/images/200_original_IMG_20190422_063812516-jpg_68fc5bb1-1f3d-4271-bf49-b3a5428649c5_jpg.rf.c5f097a143f96729116b56660b0f3f5d.jpg (deflated 1%)\n",
            "  adding: content/Currency Detection/train/images/500_original_IMG_20190419_211814969-jpg_c0b3e24a-864c-41a8-94d1-a23e72fcef7c_jpg.rf.df0912f9cfc84d56227562c2fb213667.jpg (deflated 1%)\n",
            "  adding: content/Currency Detection/train/images/200_original_IMG_20190422_063806102_HDR-jpg_01b8e09c-b942-4154-857d-bb4ab83f9792_jpg.rf.2ea83b12af7bec4327fcf36e3fcc691f.jpg (deflated 0%)\n",
            "  adding: content/Currency Detection/train/images/200_original_IMG_20190422_063751811-jpg_fd063b6c-3622-4c54-89ac-1b6204368e6c_jpg.rf.4247658579f2895f17ae74a2dd9d4dc7.jpg (deflated 2%)\n",
            "  adding: content/Currency Detection/train/images/500_original_IMG_20190419_212038523-jpg_80ff671f-70d5-402f-bc5b-efba9433ad03_jpg.rf.b36e1c78893c9b1216a93dff4354cb56.jpg (deflated 1%)\n",
            "  adding: content/Currency Detection/train/images/200_original_IMG_20190422_063753922-jpg_2e24e5e8-441a-45c2-bbc2-e1691b696f46_jpg.rf.c3862ea0f272d8c3fc454c2ed608de8e.jpg (deflated 1%)\n",
            "  adding: content/Currency Detection/train/images/500_original_IMG_20190419_211938977-jpg_f31add13-5e38-4194-a5d8-925ba21c2805_jpg.rf.f9e22c67dd0dc147199ff09091dd5e9d.jpg (deflated 0%)\n",
            "  adding: content/Currency Detection/train/images/500_original_IMG_20190419_211855317-jpg_66ddb818-56db-45ed-af62-22ea100a59d6_jpg.rf.05f4126266e1a197b162b07e5d665c39.jpg (deflated 2%)\n",
            "  adding: content/Currency Detection/train/images/200_original_IMG_20190422_063812516-jpg_ebbf9959-2335-483b-a5bc-3b345d78b865_jpg.rf.9725748cfdda62f0017192020603c5a5.jpg (deflated 0%)\n",
            "  adding: content/Currency Detection/train/images/200_original_IMG_20190422_063810752_HDR-jpg_755cc580-cdd6-49eb-8ada-61dd9f185306_jpg.rf.29a5af20f49e4dadff67f2ccba4fe798.jpg (deflated 0%)\n",
            "  adding: content/Currency Detection/train/images/200_original_IMG_20190422_063806102_HDR-jpg_01b8e09c-b942-4154-857d-bb4ab83f9792_jpg.rf.8f6f9bdcf8ca77b67bd1fc90aad17134.jpg (deflated 0%)\n",
            "  adding: content/Currency Detection/train/images/200_original_IMG_20190422_063756088-jpg_b88830b5-8865-45d0-8ed6-feca403878e8_jpg.rf.f1891c53a7c3e79b3a929dd230a69e7c.jpg (deflated 0%)\n",
            "  adding: content/Currency Detection/train/images/200_original_IMG_20190422_063756088-jpg_b88830b5-8865-45d0-8ed6-feca403878e8_jpg.rf.ead262d363d488048f4e6c90cc1002a5.jpg (deflated 1%)\n",
            "  adding: content/Currency Detection/train/images/200_original_IMG_20190422_063753922-jpg_2e24e5e8-441a-45c2-bbc2-e1691b696f46_jpg.rf.7d9e3b6a8a9cc07291134b10d3979f32.jpg (deflated 0%)\n",
            "  adding: content/Currency Detection/train/images/200_original_IMG_20190422_063814288-jpg_e784ace9-82b8-4b9a-b647-1d88a8e1b886_jpg.rf.db7b78239dac47f8b58b51cd6632dddd.jpg (deflated 0%)\n",
            "  adding: content/Currency Detection/train/images/500_original_IMG_20190419_211855317-jpg_39ad04c9-72c6-40c5-a196-70029a4b56b9_jpg.rf.fbf1df6c999aade1f2a27e67ca6e41d9.jpg (deflated 2%)\n",
            "  adding: content/Currency Detection/train/images/200_original_IMG_20190422_063751811-jpg_fd063b6c-3622-4c54-89ac-1b6204368e6c_jpg.rf.5f68980d0fb0e7790205f8e1b9e9de43.jpg (deflated 1%)\n",
            "  adding: content/Currency Detection/train/images/500_original_IMG_20190419_212038523-jpg_80ff671f-70d5-402f-bc5b-efba9433ad03_jpg.rf.fd1837927300e15d9347428025a8f245.jpg (deflated 2%)\n",
            "  adding: content/Currency Detection/train/images/500_original_IMG_20190419_211814969-jpg_a96be387-b244-4261-ace5-39e693630e37_jpg.rf.1ba4068d7addad00f0a0503ab3ab4b1d.jpg (deflated 2%)\n",
            "  adding: content/Currency Detection/train/images/500_original_IMG_20190419_211825754-jpg_944e4fc2-a93b-4596-a4d0-0dd2cd305118_jpg.rf.3b97d71443f9184c5d3412df785d066c.jpg (deflated 3%)\n",
            "  adding: content/Currency Detection/train/images/200_original_IMG_20190422_063806102_HDR-jpg_d1658ca4-eb41-42c6-80b0-007c530d4847_jpg.rf.19435f33e89c8c4083a10c5e26d30bab.jpg (deflated 0%)\n",
            "  adding: content/Currency Detection/train/images/200_original_IMG_20190422_063818334_HDR-jpg_3a932d00-8cb5-4198-baf6-63c0c7e8c0e7_jpg.rf.de7b3d57ac6e676a00b75b65268f86f1.jpg (deflated 0%)\n",
            "  adding: content/Currency Detection/train/images/500_original_IMG_20190419_211814969-jpg_c0b3e24a-864c-41a8-94d1-a23e72fcef7c_jpg.rf.59fca68609e7b454b15234c582c25d2d.jpg (deflated 1%)\n",
            "  adding: content/Currency Detection/train/images/500_original_IMG_20190419_212018092-jpg_48cd8514-9c38-401b-a7ca-c05a6ad8bf4c_jpg.rf.42d5168dcf656000adc1f921263485f6.jpg (deflated 2%)\n",
            "  adding: content/Currency Detection/train/images/2000_original_IMG_20190421_140550015-jpg_27ae807c-d3ae-4b57-98c8-2de16bafbfdd_jpg.rf.7f5498cf12f28963b262cab7d6ba3aab.jpg (deflated 1%)\n",
            "  adding: content/Currency Detection/train/images/500_original_IMG_20190419_212024183-jpg_31a7728c-2982-45bd-914b-123bbdb79b38_jpg.rf.3807c8774cb8fdabb5101ca29ce54c28.jpg (deflated 1%)\n",
            "  adding: content/Currency Detection/train/images/500_original_IMG_20190419_211825754-jpg_944e4fc2-a93b-4596-a4d0-0dd2cd305118_jpg.rf.0eaed37805d00ce6f68f44bb11b789dd.jpg (deflated 3%)\n",
            "  adding: content/Currency Detection/train/images/200_original_IMG_20190422_063804141_HDR-jpg_f24099cb-2074-40cd-8462-79e20f7c9bce_jpg.rf.678739c3dda4a52b7f1085ca787a1224.jpg (deflated 1%)\n",
            "  adding: content/Currency Detection/train/images/500_original_IMG_20190419_211814969-jpg_e306a4a2-0f79-4e5c-82e5-68f591f5158b_jpg.rf.798202ca04f493391ba57860db824bfb.jpg (deflated 2%)\n",
            "  adding: content/Currency Detection/train/images/200_original_IMG_20190422_063815782_HDR-jpg_951c2138-53b1-4c3d-9095-6e04cd73e9a3_jpg.rf.e49eb4382624c9c6278f48e1658e34bc.jpg (deflated 0%)\n",
            "  adding: content/Currency Detection/train/images/500_original_IMG_20190419_211942867-jpg_316f5365-bf61-4d92-b490-24906eef0325_jpg.rf.96e1844a3cf98bfdd9a778e706a25222.jpg (deflated 0%)\n",
            "  adding: content/Currency Detection/train/images/200_original_IMG_20190422_063750698-jpg_58df4512-e4ae-4a8e-9010-bdc149d392a9_jpg.rf.5402b913ee9598c62b89b621ca4fae03.jpg (deflated 1%)\n",
            "  adding: content/Currency Detection/train/images/500_original_IMG_20190419_211942867-jpg_316f5365-bf61-4d92-b490-24906eef0325_jpg.rf.41e6fecf865425ce3b42a6c519ae0147.jpg (deflated 0%)\n",
            "  adding: content/Currency Detection/train/images/500_original_IMG_20190419_211938977-jpg_7d50b1ef-1ce8-4105-9275-4fa3bc3fcf28_jpg.rf.443b387223e94e00adb7cc5560c618a4.jpg (deflated 0%)\n",
            "  adding: content/Currency Detection/train/images/200_original_IMG_20190422_063751811-jpg_fd063b6c-3622-4c54-89ac-1b6204368e6c_jpg.rf.5aae30b7632e2949fe39f3a065b292bc.jpg (deflated 1%)\n",
            "  adding: content/Currency Detection/train/images/200_original_IMG_20190422_063812516-jpg_ebbf9959-2335-483b-a5bc-3b345d78b865_jpg.rf.ee6362e5cd14bc2f13e6774f952a5e11.jpg (deflated 1%)\n",
            "  adding: content/Currency Detection/train/images/200_original_IMG_20190422_063815782_HDR-jpg_951c2138-53b1-4c3d-9095-6e04cd73e9a3_jpg.rf.7a343e53bb4a6cf503d211d1e8d4b9e1.jpg (deflated 1%)\n",
            "  adding: content/Currency Detection/train/images/500_original_IMG_20190419_211901192-jpg_84db7ce5-473d-4675-86dc-9ecd4123e84f_jpg.rf.c125cc37cf6af85f8f71cd887037c3fa.jpg (deflated 2%)\n",
            "  adding: content/Currency Detection/train/images/500_original_IMG_20190419_211942867-jpg_1f9f5bd4-d515-45b5-882f-ae7f836595cc_jpg.rf.1fd49bacd39ca526fd37c778664da9d5.jpg (deflated 0%)\n",
            "  adding: content/Currency Detection/train/images/200_original_IMG_20190422_063756088-jpg_f4997865-22cc-4bf6-a34f-0fb783551e3a_jpg.rf.397e7439acbcc755f441e4c86f4a0b0f.jpg (deflated 0%)\n",
            "  adding: content/Currency Detection/train/images/500_original_IMG_20190419_212048876-jpg_6693621b-77c0-48a6-a82b-492273cf05f7_jpg.rf.4fba614dfa933a00fde1bf2b09d9eaf8.jpg (deflated 2%)\n",
            "  adding: content/Currency Detection/train/images/200_original_IMG_20190422_063814288-jpg_fda22fdb-67f2-4d14-8ad8-501ea5a605ea_jpg.rf.1db8f792cb8bd317e4b945041133fdcf.jpg (deflated 0%)\n",
            "  adding: content/Currency Detection/train/images/200_original_IMG_20190422_063808179_HDR-jpg_2eca32aa-5269-4b2c-b61c-c720d552e6e9_jpg.rf.764c3b5fcb25a81ea5f7d0bda4a8b406.jpg (deflated 0%)\n",
            "  adding: content/Currency Detection/train/images/500_original_IMG_20190419_211942867-jpg_bdf7d374-8b1c-4748-9d6f-e319350975c0_jpg.rf.41fb9ca55160ec980468722d49f52c5b.jpg (deflated 0%)\n",
            "  adding: content/Currency Detection/train/images/200_original_IMG_20190422_063812516-jpg_ebbf9959-2335-483b-a5bc-3b345d78b865_jpg.rf.4859db03a85f9a26272caf9d15546b11.jpg (deflated 0%)\n",
            "  adding: content/Currency Detection/train/images/500_original_IMG_20190419_211942867-jpg_bdf7d374-8b1c-4748-9d6f-e319350975c0_jpg.rf.a52329dea576820dbb81abb37a17d022.jpg (deflated 0%)\n",
            "  adding: content/Currency Detection/train/images/200_original_IMG_20190422_063814288-jpg_e784ace9-82b8-4b9a-b647-1d88a8e1b886_jpg.rf.5bee172629e4ccb2be3667c6f43b22c6.jpg (deflated 0%)\n",
            "  adding: content/Currency Detection/train/images/500_original_IMG_20190419_211825754-jpg_c927b1ca-0a80-492f-9716-bf90b91aaa07_jpg.rf.678f70a7d7f6f0940a390ded1137e4f3.jpg (deflated 3%)\n",
            "  adding: content/Currency Detection/train/images/500_original_IMG_20190419_212048876-jpg_3ec4c7e8-a9b0-4f38-9e52-aced640488f7_jpg.rf.8ddf526d6d8df12fe5ebd57588e1571c.jpg (deflated 2%)\n",
            "  adding: content/Currency Detection/train/images/500_original_IMG_20190419_211926565-jpg_ceb8e9fd-3ce8-4921-8c6a-4d3ae29da1f1_jpg.rf.d6906fc7cce4dc3e7b93e99f3aa7f604.jpg (deflated 0%)\n",
            "  adding: content/Currency Detection/train/images/200_original_IMG_20190422_063804141_HDR-jpg_f24099cb-2074-40cd-8462-79e20f7c9bce_jpg.rf.53ab1f19247739a2b071d6a4b7cfa157.jpg (deflated 1%)\n",
            "  adding: content/Currency Detection/train/images/200_original_IMG_20190422_063753922-jpg_2e24e5e8-441a-45c2-bbc2-e1691b696f46_jpg.rf.898782912cca50bbf89d4291c16e52f8.jpg (deflated 0%)\n",
            "  adding: content/Currency Detection/train/images/2000_original_IMG_20190421_140543873-jpg_dc8444b7-cc53-4bc6-9a32-69775b4d9e2e_jpg.rf.ca06e650b7e606cc32e85366f741c6a1.jpg (deflated 1%)\n",
            "  adding: content/Currency Detection/train/images/500_original_IMG_20190419_211938977-jpg_cfcc9cfb-5bb5-4feb-929e-21207c8a2004_jpg.rf.4db71f1e9545aa6190089164ed026c7d.jpg (deflated 1%)\n",
            "  adding: content/Currency Detection/train/images/500_original_IMG_20190419_211926565-jpg_ceb8e9fd-3ce8-4921-8c6a-4d3ae29da1f1_jpg.rf.6a875591f4b3769a8cfba25fceced2bb.jpg (deflated 1%)\n",
            "  adding: content/Currency Detection/train/images/500_original_IMG_20190419_212018092-jpg_572f3c2f-667b-4c3f-9319-316082b3fe35_jpg.rf.823073d0954429ef6bd06f07fe9e3833.jpg (deflated 1%)\n",
            "  adding: content/Currency Detection/train/labels.cache (deflated 71%)\n",
            "  adding: content/Currency Detection/README.dataset.txt (deflated 20%)\n",
            "  adding: content/Currency Detection/data.yaml (deflated 41%)\n",
            "  adding: content/Currency Detection/test/ (stored 0%)\n",
            "  adding: content/Currency Detection/test/labels/ (stored 0%)\n",
            "  adding: content/Currency Detection/test/labels/500_original_IMG_20190419_211942867-jpg_05603c06-624f-4124-bc1c-3e5667c4f5a1_jpg.rf.0675b783d7c6e0d4f577c6f5d2ab74ed.txt (deflated 18%)\n",
            "  adding: content/Currency Detection/test/labels/500_original_IMG_20190419_212033554-jpg_e4ec2efc-ca95-40b5-bf95-73a4f6308cb2_jpg.rf.e0a0a895731dc454fb59fe03414b9121.txt (deflated 15%)\n",
            "  adding: content/Currency Detection/test/labels/2000_original_IMG_20190421_140551618-jpg_7ff0e3ee-1735-41c0-9098-292f3497ca7f_jpg.rf.383ec7425957f5a6eb76a0fe65f08266.txt (deflated 13%)\n",
            "  adding: content/Currency Detection/test/labels/500_original_IMG_20190419_212018092-jpg_d651be63-e58c-4850-8811-37202271ee3b_jpg.rf.d88106924126c3b03a9e9636f3956a77.txt (deflated 22%)\n",
            "  adding: content/Currency Detection/test/labels/500_original_IMG_20190419_211825754-jpg_aa6468eb-418a-4e51-bfa6-1e93f843b31e_jpg.rf.8f2dad0dae2502fef827c00dbd80fbf5.txt (deflated 12%)\n",
            "  adding: content/Currency Detection/test/labels/500_original_IMG_20190419_211822335-jpg_06b935e9-cc0b-4d0a-8953-992872dbd9be_jpg.rf.69dc07868345e56abe2fce2d03871bf2.txt (deflated 14%)\n",
            "  adding: content/Currency Detection/test/labels/200_original_IMG_20190422_063751811-jpg_d043a19c-2715-4f88-abf5-669915a29b5b_jpg.rf.46bcec8f4c32af7c13a8d754b5f0e2f3.txt (deflated 15%)\n",
            "  adding: content/Currency Detection/test/labels/2000_original_IMG_20190421_140543873-jpg_4a79b670-d307-42ca-9488-6a714476b899_jpg.rf.65c6c21856558e74236ec729f4b42ad3.txt (deflated 13%)\n",
            "  adding: content/Currency Detection/test/labels/200_original_IMG_20190422_063815782_HDR-jpg_196ed3ab-43da-49d7-b5a1-0127f2cad1ee_jpg.rf.08a1dec7d5632fb9b9e7da960f267c7c.txt (deflated 14%)\n",
            "  adding: content/Currency Detection/test/images/ (stored 0%)\n",
            "  adding: content/Currency Detection/test/images/200_original_IMG_20190422_063815782_HDR-jpg_196ed3ab-43da-49d7-b5a1-0127f2cad1ee_jpg.rf.08a1dec7d5632fb9b9e7da960f267c7c.jpg (deflated 0%)\n",
            "  adding: content/Currency Detection/test/images/500_original_IMG_20190419_211822335-jpg_06b935e9-cc0b-4d0a-8953-992872dbd9be_jpg.rf.69dc07868345e56abe2fce2d03871bf2.jpg (deflated 2%)\n",
            "  adding: content/Currency Detection/test/images/500_original_IMG_20190419_211825754-jpg_aa6468eb-418a-4e51-bfa6-1e93f843b31e_jpg.rf.8f2dad0dae2502fef827c00dbd80fbf5.jpg (deflated 2%)\n",
            "  adding: content/Currency Detection/test/images/500_original_IMG_20190419_211942867-jpg_05603c06-624f-4124-bc1c-3e5667c4f5a1_jpg.rf.0675b783d7c6e0d4f577c6f5d2ab74ed.jpg (deflated 0%)\n",
            "  adding: content/Currency Detection/test/images/500_original_IMG_20190419_212018092-jpg_d651be63-e58c-4850-8811-37202271ee3b_jpg.rf.d88106924126c3b03a9e9636f3956a77.jpg (deflated 1%)\n",
            "  adding: content/Currency Detection/test/images/2000_original_IMG_20190421_140551618-jpg_7ff0e3ee-1735-41c0-9098-292f3497ca7f_jpg.rf.383ec7425957f5a6eb76a0fe65f08266.jpg (deflated 0%)\n",
            "  adding: content/Currency Detection/test/images/200_original_IMG_20190422_063751811-jpg_d043a19c-2715-4f88-abf5-669915a29b5b_jpg.rf.46bcec8f4c32af7c13a8d754b5f0e2f3.jpg (deflated 1%)\n",
            "  adding: content/Currency Detection/test/images/500_original_IMG_20190419_212033554-jpg_e4ec2efc-ca95-40b5-bf95-73a4f6308cb2_jpg.rf.e0a0a895731dc454fb59fe03414b9121.jpg (deflated 1%)\n",
            "  adding: content/Currency Detection/test/images/2000_original_IMG_20190421_140543873-jpg_4a79b670-d307-42ca-9488-6a714476b899_jpg.rf.65c6c21856558e74236ec729f4b42ad3.jpg (deflated 0%)\n",
            "  adding: content/Currency Detection/valid/ (stored 0%)\n",
            "  adding: content/Currency Detection/valid/labels/ (stored 0%)\n",
            "  adding: content/Currency Detection/valid/labels/2000_original_IMG_20190421_140543873-jpg_30b71eca-43b3-4848-98ca-f9021138a1a9_jpg.rf.f759ba63a5e85f15743c214243faee93.txt (deflated 13%)\n",
            "  adding: content/Currency Detection/valid/labels/2000_original_IMG_20190421_140548412-jpg_800ea763-92e3-4a31-aae0-495d76ab6884_jpg.rf.2a47f6ac8f984241aac14100d0525841.txt (deflated 21%)\n",
            "  adding: content/Currency Detection/valid/labels/500_original_IMG_20190419_211855317-jpg_5f50ab4c-8ec9-4c9d-b801-d5a6d9a08d69_jpg.rf.7266246d7289eb3805d1de5abb71d4c6.txt (deflated 15%)\n",
            "  adding: content/Currency Detection/valid/labels/2000_original_IMG_20190421_140542119-jpg_c35445b6-6a2a-41f0-beb1-011ea6a1502c_jpg.rf.38dcd47861641ba3116e95a37f76a74e.txt (deflated 14%)\n",
            "  adding: content/Currency Detection/valid/labels/200_original_IMG_20190422_063747406-jpg_b380cdd2-efec-4413-b73b-102f2bc8d51f_jpg.rf.9eee2ae00e47f7c2f6ca79ed96f45130.txt (deflated 25%)\n",
            "  adding: content/Currency Detection/valid/labels/500_original_IMG_20190419_212048876-jpg_34323ae8-cd62-453f-a0d7-46b3efdde0f7_jpg.rf.24ac67f224ef4aab6a5deeda33cc702a.txt (deflated 14%)\n",
            "  adding: content/Currency Detection/valid/labels/500_original_IMG_20190419_211822335-jpg_494fa34b-d30d-4e82-96fc-2f7d5e426ed5_jpg.rf.b957db39b7ed9a69949073e4e60e3018.txt (deflated 20%)\n",
            "  adding: content/Currency Detection/valid/labels/500_original_IMG_20190419_211926565-jpg_bfdf5077-1f54-4079-a21f-9f2d6aaf62a8_jpg.rf.72e426c0601196806a3de80c86cbf2a8.txt (deflated 26%)\n",
            "  adding: content/Currency Detection/valid/labels/500_original_IMG_20190419_211825754-jpg_6a512536-60c5-4257-8e11-50a30bfaf8ad_jpg.rf.3e6be2a19a26625bf405d497c55acd96.txt (deflated 18%)\n",
            "  adding: content/Currency Detection/valid/labels/2000_original_IMG_20190421_140550015-jpg_6f2ff46c-9b4a-4062-b933-a441f8705720_jpg.rf.4617867f658b53411dc09713741311be.txt (deflated 19%)\n",
            "  adding: content/Currency Detection/valid/labels/200_original_IMG_20190422_063756088-jpg_22f57e63-6d91-4559-8bf3-87babd5dcab0_jpg.rf.45606d039726f1097cc91f69c41fbc80.txt (deflated 11%)\n",
            "  adding: content/Currency Detection/valid/labels/500_original_IMG_20190419_211931363-jpg_7c1fbcfe-f1c0-4dfb-9e23-12ca6a865cd5_jpg.rf.535feb611dd26871a8dc6b6fc5f3d59f.txt (deflated 16%)\n",
            "  adding: content/Currency Detection/valid/labels/200_original_IMG_20190422_063804141_HDR-jpg_59089343-e485-4ad4-97bb-734052c96ec7_jpg.rf.b58ebd390069b6566e6f96ef129dafcf.txt (deflated 21%)\n",
            "  adding: content/Currency Detection/valid/labels/500_original_IMG_20190419_211901192-jpg_202fafa3-1d00-4c17-87d7-572543c53afa_jpg.rf.e168a26cd1969dae27ae216159c70484.txt (deflated 11%)\n",
            "  adding: content/Currency Detection/valid/labels/200_original_IMG_20190422_063751811-jpg_55c5d62a-0988-401d-a41a-46926006f1bc_jpg.rf.2f14546d7ea10a357a024766a2ecba94.txt (deflated 16%)\n",
            "  adding: content/Currency Detection/valid/labels/2000_original_IMG_20190421_140548412-jpg_dfbbbdcb-3c0b-47fc-92b6-317baf385f3a_jpg.rf.c7eb67f50de5b61003a24b30e50081a1.txt (deflated 22%)\n",
            "  adding: content/Currency Detection/valid/labels/500_original_IMG_20190419_211855317-jpg_8b01a356-0048-4b11-a6b6-e6dd626019f8_jpg.rf.8b458cd1020c615a03fdebf6e7f3f0b8.txt (deflated 20%)\n",
            "  adding: content/Currency Detection/valid/labels/2000_original_IMG_20190421_140543873-jpg_92d50007-9270-4dd0-abd1-f5b83678dbff_jpg.rf.9cc963331889351a4492e74b5e210257.txt (deflated 19%)\n",
            "  adding: content/Currency Detection/valid/labels/200_original_IMG_20190422_063750698-jpg_855808a8-415e-48f9-bddf-59fd7dd3596c_jpg.rf.df3de2e372c0c222c6ab12052d2b2553.txt (deflated 18%)\n",
            "  adding: content/Currency Detection/valid/images/ (stored 0%)\n",
            "  adding: content/Currency Detection/valid/images/500_original_IMG_20190419_211901192-jpg_202fafa3-1d00-4c17-87d7-572543c53afa_jpg.rf.e168a26cd1969dae27ae216159c70484.jpg (deflated 2%)\n",
            "  adding: content/Currency Detection/valid/images/2000_original_IMG_20190421_140550015-jpg_6f2ff46c-9b4a-4062-b933-a441f8705720_jpg.rf.4617867f658b53411dc09713741311be.jpg (deflated 1%)\n",
            "  adding: content/Currency Detection/valid/images/200_original_IMG_20190422_063751811-jpg_55c5d62a-0988-401d-a41a-46926006f1bc_jpg.rf.2f14546d7ea10a357a024766a2ecba94.jpg (deflated 1%)\n",
            "  adding: content/Currency Detection/valid/images/200_original_IMG_20190422_063804141_HDR-jpg_59089343-e485-4ad4-97bb-734052c96ec7_jpg.rf.b58ebd390069b6566e6f96ef129dafcf.jpg (deflated 0%)\n",
            "  adding: content/Currency Detection/valid/images/200_original_IMG_20190422_063756088-jpg_22f57e63-6d91-4559-8bf3-87babd5dcab0_jpg.rf.45606d039726f1097cc91f69c41fbc80.jpg (deflated 0%)\n",
            "  adding: content/Currency Detection/valid/images/500_original_IMG_20190419_211855317-jpg_5f50ab4c-8ec9-4c9d-b801-d5a6d9a08d69_jpg.rf.7266246d7289eb3805d1de5abb71d4c6.jpg (deflated 2%)\n",
            "  adding: content/Currency Detection/valid/images/200_original_IMG_20190422_063747406-jpg_b380cdd2-efec-4413-b73b-102f2bc8d51f_jpg.rf.9eee2ae00e47f7c2f6ca79ed96f45130.jpg (deflated 1%)\n",
            "  adding: content/Currency Detection/valid/images/200_original_IMG_20190422_063750698-jpg_855808a8-415e-48f9-bddf-59fd7dd3596c_jpg.rf.df3de2e372c0c222c6ab12052d2b2553.jpg (deflated 1%)\n",
            "  adding: content/Currency Detection/valid/images/500_original_IMG_20190419_211822335-jpg_494fa34b-d30d-4e82-96fc-2f7d5e426ed5_jpg.rf.b957db39b7ed9a69949073e4e60e3018.jpg (deflated 2%)\n",
            "  adding: content/Currency Detection/valid/images/2000_original_IMG_20190421_140543873-jpg_30b71eca-43b3-4848-98ca-f9021138a1a9_jpg.rf.f759ba63a5e85f15743c214243faee93.jpg (deflated 0%)\n",
            "  adding: content/Currency Detection/valid/images/2000_original_IMG_20190421_140548412-jpg_800ea763-92e3-4a31-aae0-495d76ab6884_jpg.rf.2a47f6ac8f984241aac14100d0525841.jpg (deflated 1%)\n",
            "  adding: content/Currency Detection/valid/images/500_original_IMG_20190419_212048876-jpg_34323ae8-cd62-453f-a0d7-46b3efdde0f7_jpg.rf.24ac67f224ef4aab6a5deeda33cc702a.jpg (deflated 1%)\n",
            "  adding: content/Currency Detection/valid/images/500_original_IMG_20190419_211926565-jpg_bfdf5077-1f54-4079-a21f-9f2d6aaf62a8_jpg.rf.72e426c0601196806a3de80c86cbf2a8.jpg (deflated 0%)\n",
            "  adding: content/Currency Detection/valid/images/500_original_IMG_20190419_211825754-jpg_6a512536-60c5-4257-8e11-50a30bfaf8ad_jpg.rf.3e6be2a19a26625bf405d497c55acd96.jpg (deflated 2%)\n",
            "  adding: content/Currency Detection/valid/images/500_original_IMG_20190419_211931363-jpg_7c1fbcfe-f1c0-4dfb-9e23-12ca6a865cd5_jpg.rf.535feb611dd26871a8dc6b6fc5f3d59f.jpg (deflated 0%)\n",
            "  adding: content/Currency Detection/valid/images/500_original_IMG_20190419_211855317-jpg_8b01a356-0048-4b11-a6b6-e6dd626019f8_jpg.rf.8b458cd1020c615a03fdebf6e7f3f0b8.jpg (deflated 2%)\n",
            "  adding: content/Currency Detection/valid/images/2000_original_IMG_20190421_140543873-jpg_92d50007-9270-4dd0-abd1-f5b83678dbff_jpg.rf.9cc963331889351a4492e74b5e210257.jpg (deflated 0%)\n",
            "  adding: content/Currency Detection/valid/images/2000_original_IMG_20190421_140542119-jpg_c35445b6-6a2a-41f0-beb1-011ea6a1502c_jpg.rf.38dcd47861641ba3116e95a37f76a74e.jpg (deflated 0%)\n",
            "  adding: content/Currency Detection/valid/images/2000_original_IMG_20190421_140548412-jpg_dfbbbdcb-3c0b-47fc-92b6-317baf385f3a_jpg.rf.c7eb67f50de5b61003a24b30e50081a1.jpg (deflated 1%)\n",
            "  adding: content/Currency Detection/valid/labels.cache (deflated 57%)\n"
          ]
        },
        {
          "output_type": "display_data",
          "data": {
            "text/plain": [
              "<IPython.core.display.Javascript object>"
            ],
            "application/javascript": [
              "\n",
              "    async function download(id, filename, size) {\n",
              "      if (!google.colab.kernel.accessAllowed) {\n",
              "        return;\n",
              "      }\n",
              "      const div = document.createElement('div');\n",
              "      const label = document.createElement('label');\n",
              "      label.textContent = `Downloading \"${filename}\": `;\n",
              "      div.appendChild(label);\n",
              "      const progress = document.createElement('progress');\n",
              "      progress.max = size;\n",
              "      div.appendChild(progress);\n",
              "      document.body.appendChild(div);\n",
              "\n",
              "      const buffers = [];\n",
              "      let downloaded = 0;\n",
              "\n",
              "      const channel = await google.colab.kernel.comms.open(id);\n",
              "      // Send a message to notify the kernel that we're ready.\n",
              "      channel.send({})\n",
              "\n",
              "      for await (const message of channel.messages) {\n",
              "        // Send a message to notify the kernel that we're ready.\n",
              "        channel.send({})\n",
              "        if (message.buffers) {\n",
              "          for (const buffer of message.buffers) {\n",
              "            buffers.push(buffer);\n",
              "            downloaded += buffer.byteLength;\n",
              "            progress.value = downloaded;\n",
              "          }\n",
              "        }\n",
              "      }\n",
              "      const blob = new Blob(buffers, {type: 'application/binary'});\n",
              "      const a = document.createElement('a');\n",
              "      a.href = window.URL.createObjectURL(blob);\n",
              "      a.download = filename;\n",
              "      div.appendChild(a);\n",
              "      a.click();\n",
              "      div.remove();\n",
              "    }\n",
              "  "
            ]
          },
          "metadata": {}
        },
        {
          "output_type": "display_data",
          "data": {
            "text/plain": [
              "<IPython.core.display.Javascript object>"
            ],
            "application/javascript": [
              "download(\"download_67be8afc-570c-413f-9549-1dd620a90935\", \"currency.zip\", 13499208)"
            ]
          },
          "metadata": {}
        }
      ]
    },
    {
      "cell_type": "code",
      "source": [
        "from google.colab import files\n",
        "\n",
        "# Zip the contents of the \"Currency Detection\" directory\n",
        "!zip -r yolo8.zip '/content/Yolo8'\n",
        "\n",
        "# Download the zip file\n",
        "files.download(\"yolo8.zip\")\n"
      ],
      "metadata": {
        "id": "gzauzYGV8Cuu"
      },
      "execution_count": null,
      "outputs": []
    },
    {
      "cell_type": "code",
      "source": [
        "from google.colab import files\n",
        "\n",
        "# Zip the contents of the \"Currency Detection\" directory\n",
        "!zip -r runs.zip '/content/runs'\n",
        "\n",
        "# Download the zip file\n",
        "files.download(\"runs.zip\")\n"
      ],
      "metadata": {
        "colab": {
          "base_uri": "https://localhost:8080/",
          "height": 1000
        },
        "id": "XghoPoR98Rj_",
        "outputId": "2434fbdd-d041-4cbb-f0d3-e67ca37d2dc8"
      },
      "execution_count": 20,
      "outputs": [
        {
          "output_type": "stream",
          "name": "stdout",
          "text": [
            "  adding: content/runs/ (stored 0%)\n",
            "  adding: content/runs/detect/ (stored 0%)\n",
            "  adding: content/runs/detect/predict/ (stored 0%)\n",
            "  adding: content/runs/detect/predict/labels/ (stored 0%)\n",
            "  adding: content/runs/detect/train/ (stored 0%)\n",
            "  adding: content/runs/detect/train/labels.jpg (deflated 30%)\n",
            "  adding: content/runs/detect/train/train_batch2.jpg (deflated 2%)\n",
            "  adding: content/runs/detect/train/val_batch0_labels.jpg (deflated 8%)\n",
            "  adding: content/runs/detect/train/labels_correlogram.jpg (deflated 44%)\n",
            "  adding: content/runs/detect/train/events.out.tfevents.1704108868.6f8b6caa77a1.520.0 (deflated 93%)\n",
            "  adding: content/runs/detect/train/weights/ (stored 0%)\n",
            "  adding: content/runs/detect/train/weights/best.pt (deflated 10%)\n",
            "  adding: content/runs/detect/train/weights/last.pt (deflated 10%)\n",
            "  adding: content/runs/detect/train/R_curve.png (deflated 18%)\n",
            "  adding: content/runs/detect/train/train_batch0.jpg (deflated 2%)\n",
            "  adding: content/runs/detect/train/train_batch122.jpg (deflated 9%)\n",
            "  adding: content/runs/detect/train/train_batch120.jpg (deflated 5%)\n",
            "  adding: content/runs/detect/train/PR_curve.png (deflated 29%)\n",
            "  adding: content/runs/detect/train/train_batch1.jpg (deflated 1%)\n",
            "  adding: content/runs/detect/train/confusion_matrix.png (deflated 40%)\n",
            "  adding: content/runs/detect/train/results.csv (deflated 84%)\n",
            "  adding: content/runs/detect/train/P_curve.png (deflated 20%)\n",
            "  adding: content/runs/detect/train/confusion_matrix_normalized.png (deflated 39%)\n",
            "  adding: content/runs/detect/train/F1_curve.png (deflated 16%)\n",
            "  adding: content/runs/detect/train/args.yaml (deflated 52%)\n",
            "  adding: content/runs/detect/train/val_batch0_pred.jpg (deflated 8%)\n",
            "  adding: content/runs/detect/train/results.png (deflated 5%)\n",
            "  adding: content/runs/detect/train/train_batch121.jpg (deflated 7%)\n",
            "  adding: content/runs/detect/predict3/ (stored 0%)\n",
            "  adding: content/runs/detect/predict3/labels/ (stored 0%)\n",
            "  adding: content/runs/detect/predict3/labels/2000_original_IMG_20190421_140551618-jpg_7ff0e3ee-1735-41c0-9098-292f3497ca7f_jpg.rf.383ec7425957f5a6eb76a0fe65f08266.txt (deflated 9%)\n",
            "  adding: content/runs/detect/predict3/labels/200_original_IMG_20190422_063815782_HDR-jpg_196ed3ab-43da-49d7-b5a1-0127f2cad1ee_jpg.rf.08a1dec7d5632fb9b9e7da960f267c7c.txt (deflated 35%)\n",
            "  adding: content/runs/detect/predict3/200_original_IMG_20190422_063815782_HDR-jpg_196ed3ab-43da-49d7-b5a1-0127f2cad1ee_jpg.rf.08a1dec7d5632fb9b9e7da960f267c7c.jpg (deflated 4%)\n",
            "  adding: content/runs/detect/predict3/500_original_IMG_20190419_211822335-jpg_06b935e9-cc0b-4d0a-8953-992872dbd9be_jpg.rf.69dc07868345e56abe2fce2d03871bf2.jpg (deflated 8%)\n",
            "  adding: content/runs/detect/predict3/500_original_IMG_20190419_211825754-jpg_aa6468eb-418a-4e51-bfa6-1e93f843b31e_jpg.rf.8f2dad0dae2502fef827c00dbd80fbf5.jpg (deflated 7%)\n",
            "  adding: content/runs/detect/predict3/500_original_IMG_20190419_211942867-jpg_05603c06-624f-4124-bc1c-3e5667c4f5a1_jpg.rf.0675b783d7c6e0d4f577c6f5d2ab74ed.jpg (deflated 6%)\n",
            "  adding: content/runs/detect/predict3/500_original_IMG_20190419_212018092-jpg_d651be63-e58c-4850-8811-37202271ee3b_jpg.rf.d88106924126c3b03a9e9636f3956a77.jpg (deflated 6%)\n",
            "  adding: content/runs/detect/predict3/2000_original_IMG_20190421_140551618-jpg_7ff0e3ee-1735-41c0-9098-292f3497ca7f_jpg.rf.383ec7425957f5a6eb76a0fe65f08266.jpg (deflated 7%)\n",
            "  adding: content/runs/detect/predict3/200_original_IMG_20190422_063751811-jpg_d043a19c-2715-4f88-abf5-669915a29b5b_jpg.rf.46bcec8f4c32af7c13a8d754b5f0e2f3.jpg (deflated 4%)\n",
            "  adding: content/runs/detect/predict3/500_original_IMG_20190419_212033554-jpg_e4ec2efc-ca95-40b5-bf95-73a4f6308cb2_jpg.rf.e0a0a895731dc454fb59fe03414b9121.jpg (deflated 6%)\n",
            "  adding: content/runs/detect/predict3/2000_original_IMG_20190421_140543873-jpg_4a79b670-d307-42ca-9488-6a714476b899_jpg.rf.65c6c21856558e74236ec729f4b42ad3.jpg (deflated 6%)\n",
            "  adding: content/runs/detect/train2/ (stored 0%)\n",
            "  adding: content/runs/detect/train2/val_batch0_labels.jpg (deflated 8%)\n",
            "  adding: content/runs/detect/train2/R_curve.png (deflated 19%)\n",
            "  adding: content/runs/detect/train2/PR_curve.png (deflated 29%)\n",
            "  adding: content/runs/detect/train2/confusion_matrix.png (deflated 40%)\n",
            "  adding: content/runs/detect/train2/P_curve.png (deflated 20%)\n",
            "  adding: content/runs/detect/train2/confusion_matrix_normalized.png (deflated 39%)\n",
            "  adding: content/runs/detect/train2/F1_curve.png (deflated 16%)\n",
            "  adding: content/runs/detect/train2/val_batch1_labels.jpg (deflated 13%)\n",
            "  adding: content/runs/detect/train2/val_batch0_pred.jpg (deflated 8%)\n",
            "  adding: content/runs/detect/train2/val_batch1_pred.jpg (deflated 13%)\n",
            "  adding: content/runs/detect/predict4/ (stored 0%)\n",
            "  adding: content/runs/detect/predict4/labels/ (stored 0%)\n",
            "  adding: content/runs/detect/predict2/ (stored 0%)\n",
            "  adding: content/runs/detect/predict2/labels/ (stored 0%)\n",
            "  adding: content/runs/detect/predict5/ (stored 0%)\n",
            "  adding: content/runs/detect/predict5/labels/ (stored 0%)\n",
            "  adding: content/runs/detect/predict5/labels/note_100.txt (deflated 11%)\n",
            "  adding: content/runs/detect/predict5/note_100.jpg (deflated 0%)\n"
          ]
        },
        {
          "output_type": "display_data",
          "data": {
            "text/plain": [
              "<IPython.core.display.Javascript object>"
            ],
            "application/javascript": [
              "\n",
              "    async function download(id, filename, size) {\n",
              "      if (!google.colab.kernel.accessAllowed) {\n",
              "        return;\n",
              "      }\n",
              "      const div = document.createElement('div');\n",
              "      const label = document.createElement('label');\n",
              "      label.textContent = `Downloading \"${filename}\": `;\n",
              "      div.appendChild(label);\n",
              "      const progress = document.createElement('progress');\n",
              "      progress.max = size;\n",
              "      div.appendChild(progress);\n",
              "      document.body.appendChild(div);\n",
              "\n",
              "      const buffers = [];\n",
              "      let downloaded = 0;\n",
              "\n",
              "      const channel = await google.colab.kernel.comms.open(id);\n",
              "      // Send a message to notify the kernel that we're ready.\n",
              "      channel.send({})\n",
              "\n",
              "      for await (const message of channel.messages) {\n",
              "        // Send a message to notify the kernel that we're ready.\n",
              "        channel.send({})\n",
              "        if (message.buffers) {\n",
              "          for (const buffer of message.buffers) {\n",
              "            buffers.push(buffer);\n",
              "            downloaded += buffer.byteLength;\n",
              "            progress.value = downloaded;\n",
              "          }\n",
              "        }\n",
              "      }\n",
              "      const blob = new Blob(buffers, {type: 'application/binary'});\n",
              "      const a = document.createElement('a');\n",
              "      a.href = window.URL.createObjectURL(blob);\n",
              "      a.download = filename;\n",
              "      div.appendChild(a);\n",
              "      a.click();\n",
              "      div.remove();\n",
              "    }\n",
              "  "
            ]
          },
          "metadata": {}
        },
        {
          "output_type": "display_data",
          "data": {
            "text/plain": [
              "<IPython.core.display.Javascript object>"
            ],
            "application/javascript": [
              "download(\"download_626a6a53-78ac-49cd-af1f-25d3cd0f1110\", \"runs.zip\", 22326158)"
            ]
          },
          "metadata": {}
        }
      ]
    },
    {
      "cell_type": "code",
      "source": [],
      "metadata": {
        "id": "u4DH-QxN8V7r"
      },
      "execution_count": null,
      "outputs": []
    }
  ]
}